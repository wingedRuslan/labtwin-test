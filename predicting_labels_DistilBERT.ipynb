{
  "nbformat": 4,
  "nbformat_minor": 0,
  "metadata": {
    "colab": {
      "name": "LabTwin_inference.ipynb",
      "provenance": [],
      "collapsed_sections": []
    },
    "kernelspec": {
      "name": "python3",
      "display_name": "Python 3"
    },
    "language_info": {
      "name": "python"
    },
    "accelerator": "GPU",
    "widgets": {
      "application/vnd.jupyter.widget-state+json": {
        "455de24692114f1ca355d6fcaff376f7": {
          "model_module": "@jupyter-widgets/controls",
          "model_name": "HBoxModel",
          "model_module_version": "1.5.0",
          "state": {
            "_view_name": "HBoxView",
            "_dom_classes": [],
            "_model_name": "HBoxModel",
            "_view_module": "@jupyter-widgets/controls",
            "_model_module_version": "1.5.0",
            "_view_count": null,
            "_view_module_version": "1.5.0",
            "box_style": "",
            "layout": "IPY_MODEL_6d6dee4b88d549b0b05428be35f26597",
            "_model_module": "@jupyter-widgets/controls",
            "children": [
              "IPY_MODEL_dfc69076ad1041c3bae44d42fd5b42c8",
              "IPY_MODEL_d36d2aab684b450480cb5dda5c05dfb2",
              "IPY_MODEL_75ef47f6709d4c3494823e963b453a61"
            ]
          }
        },
        "6d6dee4b88d549b0b05428be35f26597": {
          "model_module": "@jupyter-widgets/base",
          "model_name": "LayoutModel",
          "model_module_version": "1.2.0",
          "state": {
            "_view_name": "LayoutView",
            "grid_template_rows": null,
            "right": null,
            "justify_content": null,
            "_view_module": "@jupyter-widgets/base",
            "overflow": null,
            "_model_module_version": "1.2.0",
            "_view_count": null,
            "flex_flow": null,
            "width": null,
            "min_width": null,
            "border": null,
            "align_items": null,
            "bottom": null,
            "_model_module": "@jupyter-widgets/base",
            "top": null,
            "grid_column": null,
            "overflow_y": null,
            "overflow_x": null,
            "grid_auto_flow": null,
            "grid_area": null,
            "grid_template_columns": null,
            "flex": null,
            "_model_name": "LayoutModel",
            "justify_items": null,
            "grid_row": null,
            "max_height": null,
            "align_content": null,
            "visibility": null,
            "align_self": null,
            "height": null,
            "min_height": null,
            "padding": null,
            "grid_auto_rows": null,
            "grid_gap": null,
            "max_width": null,
            "order": null,
            "_view_module_version": "1.2.0",
            "grid_template_areas": null,
            "object_position": null,
            "object_fit": null,
            "grid_auto_columns": null,
            "margin": null,
            "display": null,
            "left": null
          }
        },
        "dfc69076ad1041c3bae44d42fd5b42c8": {
          "model_module": "@jupyter-widgets/controls",
          "model_name": "HTMLModel",
          "model_module_version": "1.5.0",
          "state": {
            "_view_name": "HTMLView",
            "style": "IPY_MODEL_7404d90be75d4d71a51e205db8751564",
            "_dom_classes": [],
            "description": "",
            "_model_name": "HTMLModel",
            "placeholder": "​",
            "_view_module": "@jupyter-widgets/controls",
            "_model_module_version": "1.5.0",
            "value": "Downloading: 100%",
            "_view_count": null,
            "_view_module_version": "1.5.0",
            "description_tooltip": null,
            "_model_module": "@jupyter-widgets/controls",
            "layout": "IPY_MODEL_7072bf5af82c4c76a607939bf1db73ef"
          }
        },
        "d36d2aab684b450480cb5dda5c05dfb2": {
          "model_module": "@jupyter-widgets/controls",
          "model_name": "FloatProgressModel",
          "model_module_version": "1.5.0",
          "state": {
            "_view_name": "ProgressView",
            "style": "IPY_MODEL_3551fe8460f34950991b805958882333",
            "_dom_classes": [],
            "description": "",
            "_model_name": "FloatProgressModel",
            "bar_style": "success",
            "max": 28,
            "_view_module": "@jupyter-widgets/controls",
            "_model_module_version": "1.5.0",
            "value": 28,
            "_view_count": null,
            "_view_module_version": "1.5.0",
            "orientation": "horizontal",
            "min": 0,
            "description_tooltip": null,
            "_model_module": "@jupyter-widgets/controls",
            "layout": "IPY_MODEL_dc082e2d15964c018f34f9bb50341c32"
          }
        },
        "75ef47f6709d4c3494823e963b453a61": {
          "model_module": "@jupyter-widgets/controls",
          "model_name": "HTMLModel",
          "model_module_version": "1.5.0",
          "state": {
            "_view_name": "HTMLView",
            "style": "IPY_MODEL_ec2683ccb01c41278e38e7afb62d6076",
            "_dom_classes": [],
            "description": "",
            "_model_name": "HTMLModel",
            "placeholder": "​",
            "_view_module": "@jupyter-widgets/controls",
            "_model_module_version": "1.5.0",
            "value": " 28.0/28.0 [00:00&lt;00:00, 681B/s]",
            "_view_count": null,
            "_view_module_version": "1.5.0",
            "description_tooltip": null,
            "_model_module": "@jupyter-widgets/controls",
            "layout": "IPY_MODEL_b901c13bfee247d491ed4eca052727c4"
          }
        },
        "7404d90be75d4d71a51e205db8751564": {
          "model_module": "@jupyter-widgets/controls",
          "model_name": "DescriptionStyleModel",
          "model_module_version": "1.5.0",
          "state": {
            "_view_name": "StyleView",
            "_model_name": "DescriptionStyleModel",
            "description_width": "",
            "_view_module": "@jupyter-widgets/base",
            "_model_module_version": "1.5.0",
            "_view_count": null,
            "_view_module_version": "1.2.0",
            "_model_module": "@jupyter-widgets/controls"
          }
        },
        "7072bf5af82c4c76a607939bf1db73ef": {
          "model_module": "@jupyter-widgets/base",
          "model_name": "LayoutModel",
          "model_module_version": "1.2.0",
          "state": {
            "_view_name": "LayoutView",
            "grid_template_rows": null,
            "right": null,
            "justify_content": null,
            "_view_module": "@jupyter-widgets/base",
            "overflow": null,
            "_model_module_version": "1.2.0",
            "_view_count": null,
            "flex_flow": null,
            "width": null,
            "min_width": null,
            "border": null,
            "align_items": null,
            "bottom": null,
            "_model_module": "@jupyter-widgets/base",
            "top": null,
            "grid_column": null,
            "overflow_y": null,
            "overflow_x": null,
            "grid_auto_flow": null,
            "grid_area": null,
            "grid_template_columns": null,
            "flex": null,
            "_model_name": "LayoutModel",
            "justify_items": null,
            "grid_row": null,
            "max_height": null,
            "align_content": null,
            "visibility": null,
            "align_self": null,
            "height": null,
            "min_height": null,
            "padding": null,
            "grid_auto_rows": null,
            "grid_gap": null,
            "max_width": null,
            "order": null,
            "_view_module_version": "1.2.0",
            "grid_template_areas": null,
            "object_position": null,
            "object_fit": null,
            "grid_auto_columns": null,
            "margin": null,
            "display": null,
            "left": null
          }
        },
        "3551fe8460f34950991b805958882333": {
          "model_module": "@jupyter-widgets/controls",
          "model_name": "ProgressStyleModel",
          "model_module_version": "1.5.0",
          "state": {
            "_view_name": "StyleView",
            "_model_name": "ProgressStyleModel",
            "description_width": "",
            "_view_module": "@jupyter-widgets/base",
            "_model_module_version": "1.5.0",
            "_view_count": null,
            "_view_module_version": "1.2.0",
            "bar_color": null,
            "_model_module": "@jupyter-widgets/controls"
          }
        },
        "dc082e2d15964c018f34f9bb50341c32": {
          "model_module": "@jupyter-widgets/base",
          "model_name": "LayoutModel",
          "model_module_version": "1.2.0",
          "state": {
            "_view_name": "LayoutView",
            "grid_template_rows": null,
            "right": null,
            "justify_content": null,
            "_view_module": "@jupyter-widgets/base",
            "overflow": null,
            "_model_module_version": "1.2.0",
            "_view_count": null,
            "flex_flow": null,
            "width": null,
            "min_width": null,
            "border": null,
            "align_items": null,
            "bottom": null,
            "_model_module": "@jupyter-widgets/base",
            "top": null,
            "grid_column": null,
            "overflow_y": null,
            "overflow_x": null,
            "grid_auto_flow": null,
            "grid_area": null,
            "grid_template_columns": null,
            "flex": null,
            "_model_name": "LayoutModel",
            "justify_items": null,
            "grid_row": null,
            "max_height": null,
            "align_content": null,
            "visibility": null,
            "align_self": null,
            "height": null,
            "min_height": null,
            "padding": null,
            "grid_auto_rows": null,
            "grid_gap": null,
            "max_width": null,
            "order": null,
            "_view_module_version": "1.2.0",
            "grid_template_areas": null,
            "object_position": null,
            "object_fit": null,
            "grid_auto_columns": null,
            "margin": null,
            "display": null,
            "left": null
          }
        },
        "ec2683ccb01c41278e38e7afb62d6076": {
          "model_module": "@jupyter-widgets/controls",
          "model_name": "DescriptionStyleModel",
          "model_module_version": "1.5.0",
          "state": {
            "_view_name": "StyleView",
            "_model_name": "DescriptionStyleModel",
            "description_width": "",
            "_view_module": "@jupyter-widgets/base",
            "_model_module_version": "1.5.0",
            "_view_count": null,
            "_view_module_version": "1.2.0",
            "_model_module": "@jupyter-widgets/controls"
          }
        },
        "b901c13bfee247d491ed4eca052727c4": {
          "model_module": "@jupyter-widgets/base",
          "model_name": "LayoutModel",
          "model_module_version": "1.2.0",
          "state": {
            "_view_name": "LayoutView",
            "grid_template_rows": null,
            "right": null,
            "justify_content": null,
            "_view_module": "@jupyter-widgets/base",
            "overflow": null,
            "_model_module_version": "1.2.0",
            "_view_count": null,
            "flex_flow": null,
            "width": null,
            "min_width": null,
            "border": null,
            "align_items": null,
            "bottom": null,
            "_model_module": "@jupyter-widgets/base",
            "top": null,
            "grid_column": null,
            "overflow_y": null,
            "overflow_x": null,
            "grid_auto_flow": null,
            "grid_area": null,
            "grid_template_columns": null,
            "flex": null,
            "_model_name": "LayoutModel",
            "justify_items": null,
            "grid_row": null,
            "max_height": null,
            "align_content": null,
            "visibility": null,
            "align_self": null,
            "height": null,
            "min_height": null,
            "padding": null,
            "grid_auto_rows": null,
            "grid_gap": null,
            "max_width": null,
            "order": null,
            "_view_module_version": "1.2.0",
            "grid_template_areas": null,
            "object_position": null,
            "object_fit": null,
            "grid_auto_columns": null,
            "margin": null,
            "display": null,
            "left": null
          }
        },
        "7ba445e5c9be44dfa7d5c98f46881a73": {
          "model_module": "@jupyter-widgets/controls",
          "model_name": "HBoxModel",
          "model_module_version": "1.5.0",
          "state": {
            "_view_name": "HBoxView",
            "_dom_classes": [],
            "_model_name": "HBoxModel",
            "_view_module": "@jupyter-widgets/controls",
            "_model_module_version": "1.5.0",
            "_view_count": null,
            "_view_module_version": "1.5.0",
            "box_style": "",
            "layout": "IPY_MODEL_1f166df38df445f0997b53664de07788",
            "_model_module": "@jupyter-widgets/controls",
            "children": [
              "IPY_MODEL_7cf1ef2548e34375b06c8d3e7f2aa097",
              "IPY_MODEL_fa8fc238932d4a0492be4c9e37c383bc",
              "IPY_MODEL_82a40703ab444e889801c5106447d128"
            ]
          }
        },
        "1f166df38df445f0997b53664de07788": {
          "model_module": "@jupyter-widgets/base",
          "model_name": "LayoutModel",
          "model_module_version": "1.2.0",
          "state": {
            "_view_name": "LayoutView",
            "grid_template_rows": null,
            "right": null,
            "justify_content": null,
            "_view_module": "@jupyter-widgets/base",
            "overflow": null,
            "_model_module_version": "1.2.0",
            "_view_count": null,
            "flex_flow": null,
            "width": null,
            "min_width": null,
            "border": null,
            "align_items": null,
            "bottom": null,
            "_model_module": "@jupyter-widgets/base",
            "top": null,
            "grid_column": null,
            "overflow_y": null,
            "overflow_x": null,
            "grid_auto_flow": null,
            "grid_area": null,
            "grid_template_columns": null,
            "flex": null,
            "_model_name": "LayoutModel",
            "justify_items": null,
            "grid_row": null,
            "max_height": null,
            "align_content": null,
            "visibility": null,
            "align_self": null,
            "height": null,
            "min_height": null,
            "padding": null,
            "grid_auto_rows": null,
            "grid_gap": null,
            "max_width": null,
            "order": null,
            "_view_module_version": "1.2.0",
            "grid_template_areas": null,
            "object_position": null,
            "object_fit": null,
            "grid_auto_columns": null,
            "margin": null,
            "display": null,
            "left": null
          }
        },
        "7cf1ef2548e34375b06c8d3e7f2aa097": {
          "model_module": "@jupyter-widgets/controls",
          "model_name": "HTMLModel",
          "model_module_version": "1.5.0",
          "state": {
            "_view_name": "HTMLView",
            "style": "IPY_MODEL_2831257c42b04167a1fa8e27e795abfe",
            "_dom_classes": [],
            "description": "",
            "_model_name": "HTMLModel",
            "placeholder": "​",
            "_view_module": "@jupyter-widgets/controls",
            "_model_module_version": "1.5.0",
            "value": "Downloading: 100%",
            "_view_count": null,
            "_view_module_version": "1.5.0",
            "description_tooltip": null,
            "_model_module": "@jupyter-widgets/controls",
            "layout": "IPY_MODEL_db59a7068f444fdd8bd767095161b2cc"
          }
        },
        "fa8fc238932d4a0492be4c9e37c383bc": {
          "model_module": "@jupyter-widgets/controls",
          "model_name": "FloatProgressModel",
          "model_module_version": "1.5.0",
          "state": {
            "_view_name": "ProgressView",
            "style": "IPY_MODEL_daf64af7ba12417d828bd9f3ea161bae",
            "_dom_classes": [],
            "description": "",
            "_model_name": "FloatProgressModel",
            "bar_style": "success",
            "max": 442,
            "_view_module": "@jupyter-widgets/controls",
            "_model_module_version": "1.5.0",
            "value": 442,
            "_view_count": null,
            "_view_module_version": "1.5.0",
            "orientation": "horizontal",
            "min": 0,
            "description_tooltip": null,
            "_model_module": "@jupyter-widgets/controls",
            "layout": "IPY_MODEL_40cc21ee942c46be93516b1622f0f438"
          }
        },
        "82a40703ab444e889801c5106447d128": {
          "model_module": "@jupyter-widgets/controls",
          "model_name": "HTMLModel",
          "model_module_version": "1.5.0",
          "state": {
            "_view_name": "HTMLView",
            "style": "IPY_MODEL_484def2ab65147d580a0269cd14fc3b1",
            "_dom_classes": [],
            "description": "",
            "_model_name": "HTMLModel",
            "placeholder": "​",
            "_view_module": "@jupyter-widgets/controls",
            "_model_module_version": "1.5.0",
            "value": " 442/442 [00:00&lt;00:00, 12.0kB/s]",
            "_view_count": null,
            "_view_module_version": "1.5.0",
            "description_tooltip": null,
            "_model_module": "@jupyter-widgets/controls",
            "layout": "IPY_MODEL_b8e0b8d0825f4ffa8a5d2a74b8a65a70"
          }
        },
        "2831257c42b04167a1fa8e27e795abfe": {
          "model_module": "@jupyter-widgets/controls",
          "model_name": "DescriptionStyleModel",
          "model_module_version": "1.5.0",
          "state": {
            "_view_name": "StyleView",
            "_model_name": "DescriptionStyleModel",
            "description_width": "",
            "_view_module": "@jupyter-widgets/base",
            "_model_module_version": "1.5.0",
            "_view_count": null,
            "_view_module_version": "1.2.0",
            "_model_module": "@jupyter-widgets/controls"
          }
        },
        "db59a7068f444fdd8bd767095161b2cc": {
          "model_module": "@jupyter-widgets/base",
          "model_name": "LayoutModel",
          "model_module_version": "1.2.0",
          "state": {
            "_view_name": "LayoutView",
            "grid_template_rows": null,
            "right": null,
            "justify_content": null,
            "_view_module": "@jupyter-widgets/base",
            "overflow": null,
            "_model_module_version": "1.2.0",
            "_view_count": null,
            "flex_flow": null,
            "width": null,
            "min_width": null,
            "border": null,
            "align_items": null,
            "bottom": null,
            "_model_module": "@jupyter-widgets/base",
            "top": null,
            "grid_column": null,
            "overflow_y": null,
            "overflow_x": null,
            "grid_auto_flow": null,
            "grid_area": null,
            "grid_template_columns": null,
            "flex": null,
            "_model_name": "LayoutModel",
            "justify_items": null,
            "grid_row": null,
            "max_height": null,
            "align_content": null,
            "visibility": null,
            "align_self": null,
            "height": null,
            "min_height": null,
            "padding": null,
            "grid_auto_rows": null,
            "grid_gap": null,
            "max_width": null,
            "order": null,
            "_view_module_version": "1.2.0",
            "grid_template_areas": null,
            "object_position": null,
            "object_fit": null,
            "grid_auto_columns": null,
            "margin": null,
            "display": null,
            "left": null
          }
        },
        "daf64af7ba12417d828bd9f3ea161bae": {
          "model_module": "@jupyter-widgets/controls",
          "model_name": "ProgressStyleModel",
          "model_module_version": "1.5.0",
          "state": {
            "_view_name": "StyleView",
            "_model_name": "ProgressStyleModel",
            "description_width": "",
            "_view_module": "@jupyter-widgets/base",
            "_model_module_version": "1.5.0",
            "_view_count": null,
            "_view_module_version": "1.2.0",
            "bar_color": null,
            "_model_module": "@jupyter-widgets/controls"
          }
        },
        "40cc21ee942c46be93516b1622f0f438": {
          "model_module": "@jupyter-widgets/base",
          "model_name": "LayoutModel",
          "model_module_version": "1.2.0",
          "state": {
            "_view_name": "LayoutView",
            "grid_template_rows": null,
            "right": null,
            "justify_content": null,
            "_view_module": "@jupyter-widgets/base",
            "overflow": null,
            "_model_module_version": "1.2.0",
            "_view_count": null,
            "flex_flow": null,
            "width": null,
            "min_width": null,
            "border": null,
            "align_items": null,
            "bottom": null,
            "_model_module": "@jupyter-widgets/base",
            "top": null,
            "grid_column": null,
            "overflow_y": null,
            "overflow_x": null,
            "grid_auto_flow": null,
            "grid_area": null,
            "grid_template_columns": null,
            "flex": null,
            "_model_name": "LayoutModel",
            "justify_items": null,
            "grid_row": null,
            "max_height": null,
            "align_content": null,
            "visibility": null,
            "align_self": null,
            "height": null,
            "min_height": null,
            "padding": null,
            "grid_auto_rows": null,
            "grid_gap": null,
            "max_width": null,
            "order": null,
            "_view_module_version": "1.2.0",
            "grid_template_areas": null,
            "object_position": null,
            "object_fit": null,
            "grid_auto_columns": null,
            "margin": null,
            "display": null,
            "left": null
          }
        },
        "484def2ab65147d580a0269cd14fc3b1": {
          "model_module": "@jupyter-widgets/controls",
          "model_name": "DescriptionStyleModel",
          "model_module_version": "1.5.0",
          "state": {
            "_view_name": "StyleView",
            "_model_name": "DescriptionStyleModel",
            "description_width": "",
            "_view_module": "@jupyter-widgets/base",
            "_model_module_version": "1.5.0",
            "_view_count": null,
            "_view_module_version": "1.2.0",
            "_model_module": "@jupyter-widgets/controls"
          }
        },
        "b8e0b8d0825f4ffa8a5d2a74b8a65a70": {
          "model_module": "@jupyter-widgets/base",
          "model_name": "LayoutModel",
          "model_module_version": "1.2.0",
          "state": {
            "_view_name": "LayoutView",
            "grid_template_rows": null,
            "right": null,
            "justify_content": null,
            "_view_module": "@jupyter-widgets/base",
            "overflow": null,
            "_model_module_version": "1.2.0",
            "_view_count": null,
            "flex_flow": null,
            "width": null,
            "min_width": null,
            "border": null,
            "align_items": null,
            "bottom": null,
            "_model_module": "@jupyter-widgets/base",
            "top": null,
            "grid_column": null,
            "overflow_y": null,
            "overflow_x": null,
            "grid_auto_flow": null,
            "grid_area": null,
            "grid_template_columns": null,
            "flex": null,
            "_model_name": "LayoutModel",
            "justify_items": null,
            "grid_row": null,
            "max_height": null,
            "align_content": null,
            "visibility": null,
            "align_self": null,
            "height": null,
            "min_height": null,
            "padding": null,
            "grid_auto_rows": null,
            "grid_gap": null,
            "max_width": null,
            "order": null,
            "_view_module_version": "1.2.0",
            "grid_template_areas": null,
            "object_position": null,
            "object_fit": null,
            "grid_auto_columns": null,
            "margin": null,
            "display": null,
            "left": null
          }
        },
        "878182d62a2f425b9e189c5a81e08b0b": {
          "model_module": "@jupyter-widgets/controls",
          "model_name": "HBoxModel",
          "model_module_version": "1.5.0",
          "state": {
            "_view_name": "HBoxView",
            "_dom_classes": [],
            "_model_name": "HBoxModel",
            "_view_module": "@jupyter-widgets/controls",
            "_model_module_version": "1.5.0",
            "_view_count": null,
            "_view_module_version": "1.5.0",
            "box_style": "",
            "layout": "IPY_MODEL_2f212c1f378f4adb9e18e326a69e34d4",
            "_model_module": "@jupyter-widgets/controls",
            "children": [
              "IPY_MODEL_9e6430f466c54965a1b10edc89c3d608",
              "IPY_MODEL_880bacd08aff4762ad9b789b89c53890",
              "IPY_MODEL_2e932b5e42104cbba701f828450946db"
            ]
          }
        },
        "2f212c1f378f4adb9e18e326a69e34d4": {
          "model_module": "@jupyter-widgets/base",
          "model_name": "LayoutModel",
          "model_module_version": "1.2.0",
          "state": {
            "_view_name": "LayoutView",
            "grid_template_rows": null,
            "right": null,
            "justify_content": null,
            "_view_module": "@jupyter-widgets/base",
            "overflow": null,
            "_model_module_version": "1.2.0",
            "_view_count": null,
            "flex_flow": null,
            "width": null,
            "min_width": null,
            "border": null,
            "align_items": null,
            "bottom": null,
            "_model_module": "@jupyter-widgets/base",
            "top": null,
            "grid_column": null,
            "overflow_y": null,
            "overflow_x": null,
            "grid_auto_flow": null,
            "grid_area": null,
            "grid_template_columns": null,
            "flex": null,
            "_model_name": "LayoutModel",
            "justify_items": null,
            "grid_row": null,
            "max_height": null,
            "align_content": null,
            "visibility": null,
            "align_self": null,
            "height": null,
            "min_height": null,
            "padding": null,
            "grid_auto_rows": null,
            "grid_gap": null,
            "max_width": null,
            "order": null,
            "_view_module_version": "1.2.0",
            "grid_template_areas": null,
            "object_position": null,
            "object_fit": null,
            "grid_auto_columns": null,
            "margin": null,
            "display": null,
            "left": null
          }
        },
        "9e6430f466c54965a1b10edc89c3d608": {
          "model_module": "@jupyter-widgets/controls",
          "model_name": "HTMLModel",
          "model_module_version": "1.5.0",
          "state": {
            "_view_name": "HTMLView",
            "style": "IPY_MODEL_722c128f7d0d4143b593204c4bf9f5c8",
            "_dom_classes": [],
            "description": "",
            "_model_name": "HTMLModel",
            "placeholder": "​",
            "_view_module": "@jupyter-widgets/controls",
            "_model_module_version": "1.5.0",
            "value": "Downloading: 100%",
            "_view_count": null,
            "_view_module_version": "1.5.0",
            "description_tooltip": null,
            "_model_module": "@jupyter-widgets/controls",
            "layout": "IPY_MODEL_11cab5f55aca443b9cfb7eb9622f0aac"
          }
        },
        "880bacd08aff4762ad9b789b89c53890": {
          "model_module": "@jupyter-widgets/controls",
          "model_name": "FloatProgressModel",
          "model_module_version": "1.5.0",
          "state": {
            "_view_name": "ProgressView",
            "style": "IPY_MODEL_3715c943527f464b990e6f977346e303",
            "_dom_classes": [],
            "description": "",
            "_model_name": "FloatProgressModel",
            "bar_style": "success",
            "max": 231508,
            "_view_module": "@jupyter-widgets/controls",
            "_model_module_version": "1.5.0",
            "value": 231508,
            "_view_count": null,
            "_view_module_version": "1.5.0",
            "orientation": "horizontal",
            "min": 0,
            "description_tooltip": null,
            "_model_module": "@jupyter-widgets/controls",
            "layout": "IPY_MODEL_3c4cd8490e5d4995800703ec8b83f831"
          }
        },
        "2e932b5e42104cbba701f828450946db": {
          "model_module": "@jupyter-widgets/controls",
          "model_name": "HTMLModel",
          "model_module_version": "1.5.0",
          "state": {
            "_view_name": "HTMLView",
            "style": "IPY_MODEL_41a665fe904c47aa9dc2c4ad1465eadf",
            "_dom_classes": [],
            "description": "",
            "_model_name": "HTMLModel",
            "placeholder": "​",
            "_view_module": "@jupyter-widgets/controls",
            "_model_module_version": "1.5.0",
            "value": " 232k/232k [00:00&lt;00:00, 565kB/s]",
            "_view_count": null,
            "_view_module_version": "1.5.0",
            "description_tooltip": null,
            "_model_module": "@jupyter-widgets/controls",
            "layout": "IPY_MODEL_86b3ed780df14fb281beb9611e05c3a7"
          }
        },
        "722c128f7d0d4143b593204c4bf9f5c8": {
          "model_module": "@jupyter-widgets/controls",
          "model_name": "DescriptionStyleModel",
          "model_module_version": "1.5.0",
          "state": {
            "_view_name": "StyleView",
            "_model_name": "DescriptionStyleModel",
            "description_width": "",
            "_view_module": "@jupyter-widgets/base",
            "_model_module_version": "1.5.0",
            "_view_count": null,
            "_view_module_version": "1.2.0",
            "_model_module": "@jupyter-widgets/controls"
          }
        },
        "11cab5f55aca443b9cfb7eb9622f0aac": {
          "model_module": "@jupyter-widgets/base",
          "model_name": "LayoutModel",
          "model_module_version": "1.2.0",
          "state": {
            "_view_name": "LayoutView",
            "grid_template_rows": null,
            "right": null,
            "justify_content": null,
            "_view_module": "@jupyter-widgets/base",
            "overflow": null,
            "_model_module_version": "1.2.0",
            "_view_count": null,
            "flex_flow": null,
            "width": null,
            "min_width": null,
            "border": null,
            "align_items": null,
            "bottom": null,
            "_model_module": "@jupyter-widgets/base",
            "top": null,
            "grid_column": null,
            "overflow_y": null,
            "overflow_x": null,
            "grid_auto_flow": null,
            "grid_area": null,
            "grid_template_columns": null,
            "flex": null,
            "_model_name": "LayoutModel",
            "justify_items": null,
            "grid_row": null,
            "max_height": null,
            "align_content": null,
            "visibility": null,
            "align_self": null,
            "height": null,
            "min_height": null,
            "padding": null,
            "grid_auto_rows": null,
            "grid_gap": null,
            "max_width": null,
            "order": null,
            "_view_module_version": "1.2.0",
            "grid_template_areas": null,
            "object_position": null,
            "object_fit": null,
            "grid_auto_columns": null,
            "margin": null,
            "display": null,
            "left": null
          }
        },
        "3715c943527f464b990e6f977346e303": {
          "model_module": "@jupyter-widgets/controls",
          "model_name": "ProgressStyleModel",
          "model_module_version": "1.5.0",
          "state": {
            "_view_name": "StyleView",
            "_model_name": "ProgressStyleModel",
            "description_width": "",
            "_view_module": "@jupyter-widgets/base",
            "_model_module_version": "1.5.0",
            "_view_count": null,
            "_view_module_version": "1.2.0",
            "bar_color": null,
            "_model_module": "@jupyter-widgets/controls"
          }
        },
        "3c4cd8490e5d4995800703ec8b83f831": {
          "model_module": "@jupyter-widgets/base",
          "model_name": "LayoutModel",
          "model_module_version": "1.2.0",
          "state": {
            "_view_name": "LayoutView",
            "grid_template_rows": null,
            "right": null,
            "justify_content": null,
            "_view_module": "@jupyter-widgets/base",
            "overflow": null,
            "_model_module_version": "1.2.0",
            "_view_count": null,
            "flex_flow": null,
            "width": null,
            "min_width": null,
            "border": null,
            "align_items": null,
            "bottom": null,
            "_model_module": "@jupyter-widgets/base",
            "top": null,
            "grid_column": null,
            "overflow_y": null,
            "overflow_x": null,
            "grid_auto_flow": null,
            "grid_area": null,
            "grid_template_columns": null,
            "flex": null,
            "_model_name": "LayoutModel",
            "justify_items": null,
            "grid_row": null,
            "max_height": null,
            "align_content": null,
            "visibility": null,
            "align_self": null,
            "height": null,
            "min_height": null,
            "padding": null,
            "grid_auto_rows": null,
            "grid_gap": null,
            "max_width": null,
            "order": null,
            "_view_module_version": "1.2.0",
            "grid_template_areas": null,
            "object_position": null,
            "object_fit": null,
            "grid_auto_columns": null,
            "margin": null,
            "display": null,
            "left": null
          }
        },
        "41a665fe904c47aa9dc2c4ad1465eadf": {
          "model_module": "@jupyter-widgets/controls",
          "model_name": "DescriptionStyleModel",
          "model_module_version": "1.5.0",
          "state": {
            "_view_name": "StyleView",
            "_model_name": "DescriptionStyleModel",
            "description_width": "",
            "_view_module": "@jupyter-widgets/base",
            "_model_module_version": "1.5.0",
            "_view_count": null,
            "_view_module_version": "1.2.0",
            "_model_module": "@jupyter-widgets/controls"
          }
        },
        "86b3ed780df14fb281beb9611e05c3a7": {
          "model_module": "@jupyter-widgets/base",
          "model_name": "LayoutModel",
          "model_module_version": "1.2.0",
          "state": {
            "_view_name": "LayoutView",
            "grid_template_rows": null,
            "right": null,
            "justify_content": null,
            "_view_module": "@jupyter-widgets/base",
            "overflow": null,
            "_model_module_version": "1.2.0",
            "_view_count": null,
            "flex_flow": null,
            "width": null,
            "min_width": null,
            "border": null,
            "align_items": null,
            "bottom": null,
            "_model_module": "@jupyter-widgets/base",
            "top": null,
            "grid_column": null,
            "overflow_y": null,
            "overflow_x": null,
            "grid_auto_flow": null,
            "grid_area": null,
            "grid_template_columns": null,
            "flex": null,
            "_model_name": "LayoutModel",
            "justify_items": null,
            "grid_row": null,
            "max_height": null,
            "align_content": null,
            "visibility": null,
            "align_self": null,
            "height": null,
            "min_height": null,
            "padding": null,
            "grid_auto_rows": null,
            "grid_gap": null,
            "max_width": null,
            "order": null,
            "_view_module_version": "1.2.0",
            "grid_template_areas": null,
            "object_position": null,
            "object_fit": null,
            "grid_auto_columns": null,
            "margin": null,
            "display": null,
            "left": null
          }
        },
        "fc1523663d894b49b435a23446bd17fe": {
          "model_module": "@jupyter-widgets/controls",
          "model_name": "HBoxModel",
          "model_module_version": "1.5.0",
          "state": {
            "_view_name": "HBoxView",
            "_dom_classes": [],
            "_model_name": "HBoxModel",
            "_view_module": "@jupyter-widgets/controls",
            "_model_module_version": "1.5.0",
            "_view_count": null,
            "_view_module_version": "1.5.0",
            "box_style": "",
            "layout": "IPY_MODEL_0bcb225b9fa742a9b8ac261c255689b8",
            "_model_module": "@jupyter-widgets/controls",
            "children": [
              "IPY_MODEL_c73f5f03c1c0476694c08abb2445bb0e",
              "IPY_MODEL_f1e76bf97f274d5f88310bd83d02c45a",
              "IPY_MODEL_67e24a85182a41dba8e4d040c26ecc77"
            ]
          }
        },
        "0bcb225b9fa742a9b8ac261c255689b8": {
          "model_module": "@jupyter-widgets/base",
          "model_name": "LayoutModel",
          "model_module_version": "1.2.0",
          "state": {
            "_view_name": "LayoutView",
            "grid_template_rows": null,
            "right": null,
            "justify_content": null,
            "_view_module": "@jupyter-widgets/base",
            "overflow": null,
            "_model_module_version": "1.2.0",
            "_view_count": null,
            "flex_flow": null,
            "width": null,
            "min_width": null,
            "border": null,
            "align_items": null,
            "bottom": null,
            "_model_module": "@jupyter-widgets/base",
            "top": null,
            "grid_column": null,
            "overflow_y": null,
            "overflow_x": null,
            "grid_auto_flow": null,
            "grid_area": null,
            "grid_template_columns": null,
            "flex": null,
            "_model_name": "LayoutModel",
            "justify_items": null,
            "grid_row": null,
            "max_height": null,
            "align_content": null,
            "visibility": null,
            "align_self": null,
            "height": null,
            "min_height": null,
            "padding": null,
            "grid_auto_rows": null,
            "grid_gap": null,
            "max_width": null,
            "order": null,
            "_view_module_version": "1.2.0",
            "grid_template_areas": null,
            "object_position": null,
            "object_fit": null,
            "grid_auto_columns": null,
            "margin": null,
            "display": null,
            "left": null
          }
        },
        "c73f5f03c1c0476694c08abb2445bb0e": {
          "model_module": "@jupyter-widgets/controls",
          "model_name": "HTMLModel",
          "model_module_version": "1.5.0",
          "state": {
            "_view_name": "HTMLView",
            "style": "IPY_MODEL_e95a2fbe77c24c8a8fef2c32b9706fa2",
            "_dom_classes": [],
            "description": "",
            "_model_name": "HTMLModel",
            "placeholder": "​",
            "_view_module": "@jupyter-widgets/controls",
            "_model_module_version": "1.5.0",
            "value": "Downloading: 100%",
            "_view_count": null,
            "_view_module_version": "1.5.0",
            "description_tooltip": null,
            "_model_module": "@jupyter-widgets/controls",
            "layout": "IPY_MODEL_fa2c36604c1c4805be333e17c903450a"
          }
        },
        "f1e76bf97f274d5f88310bd83d02c45a": {
          "model_module": "@jupyter-widgets/controls",
          "model_name": "FloatProgressModel",
          "model_module_version": "1.5.0",
          "state": {
            "_view_name": "ProgressView",
            "style": "IPY_MODEL_e40654bb6a5c4cae922f8eb2a59d7e1f",
            "_dom_classes": [],
            "description": "",
            "_model_name": "FloatProgressModel",
            "bar_style": "success",
            "max": 466062,
            "_view_module": "@jupyter-widgets/controls",
            "_model_module_version": "1.5.0",
            "value": 466062,
            "_view_count": null,
            "_view_module_version": "1.5.0",
            "orientation": "horizontal",
            "min": 0,
            "description_tooltip": null,
            "_model_module": "@jupyter-widgets/controls",
            "layout": "IPY_MODEL_97b5cf04842f4cca9454d8af99f0e61e"
          }
        },
        "67e24a85182a41dba8e4d040c26ecc77": {
          "model_module": "@jupyter-widgets/controls",
          "model_name": "HTMLModel",
          "model_module_version": "1.5.0",
          "state": {
            "_view_name": "HTMLView",
            "style": "IPY_MODEL_af31eb0b4d5c404aa19e528a6c400bf6",
            "_dom_classes": [],
            "description": "",
            "_model_name": "HTMLModel",
            "placeholder": "​",
            "_view_module": "@jupyter-widgets/controls",
            "_model_module_version": "1.5.0",
            "value": " 466k/466k [00:00&lt;00:00, 812kB/s]",
            "_view_count": null,
            "_view_module_version": "1.5.0",
            "description_tooltip": null,
            "_model_module": "@jupyter-widgets/controls",
            "layout": "IPY_MODEL_429855e60a1d42a3b5774ec2d0f355c2"
          }
        },
        "e95a2fbe77c24c8a8fef2c32b9706fa2": {
          "model_module": "@jupyter-widgets/controls",
          "model_name": "DescriptionStyleModel",
          "model_module_version": "1.5.0",
          "state": {
            "_view_name": "StyleView",
            "_model_name": "DescriptionStyleModel",
            "description_width": "",
            "_view_module": "@jupyter-widgets/base",
            "_model_module_version": "1.5.0",
            "_view_count": null,
            "_view_module_version": "1.2.0",
            "_model_module": "@jupyter-widgets/controls"
          }
        },
        "fa2c36604c1c4805be333e17c903450a": {
          "model_module": "@jupyter-widgets/base",
          "model_name": "LayoutModel",
          "model_module_version": "1.2.0",
          "state": {
            "_view_name": "LayoutView",
            "grid_template_rows": null,
            "right": null,
            "justify_content": null,
            "_view_module": "@jupyter-widgets/base",
            "overflow": null,
            "_model_module_version": "1.2.0",
            "_view_count": null,
            "flex_flow": null,
            "width": null,
            "min_width": null,
            "border": null,
            "align_items": null,
            "bottom": null,
            "_model_module": "@jupyter-widgets/base",
            "top": null,
            "grid_column": null,
            "overflow_y": null,
            "overflow_x": null,
            "grid_auto_flow": null,
            "grid_area": null,
            "grid_template_columns": null,
            "flex": null,
            "_model_name": "LayoutModel",
            "justify_items": null,
            "grid_row": null,
            "max_height": null,
            "align_content": null,
            "visibility": null,
            "align_self": null,
            "height": null,
            "min_height": null,
            "padding": null,
            "grid_auto_rows": null,
            "grid_gap": null,
            "max_width": null,
            "order": null,
            "_view_module_version": "1.2.0",
            "grid_template_areas": null,
            "object_position": null,
            "object_fit": null,
            "grid_auto_columns": null,
            "margin": null,
            "display": null,
            "left": null
          }
        },
        "e40654bb6a5c4cae922f8eb2a59d7e1f": {
          "model_module": "@jupyter-widgets/controls",
          "model_name": "ProgressStyleModel",
          "model_module_version": "1.5.0",
          "state": {
            "_view_name": "StyleView",
            "_model_name": "ProgressStyleModel",
            "description_width": "",
            "_view_module": "@jupyter-widgets/base",
            "_model_module_version": "1.5.0",
            "_view_count": null,
            "_view_module_version": "1.2.0",
            "bar_color": null,
            "_model_module": "@jupyter-widgets/controls"
          }
        },
        "97b5cf04842f4cca9454d8af99f0e61e": {
          "model_module": "@jupyter-widgets/base",
          "model_name": "LayoutModel",
          "model_module_version": "1.2.0",
          "state": {
            "_view_name": "LayoutView",
            "grid_template_rows": null,
            "right": null,
            "justify_content": null,
            "_view_module": "@jupyter-widgets/base",
            "overflow": null,
            "_model_module_version": "1.2.0",
            "_view_count": null,
            "flex_flow": null,
            "width": null,
            "min_width": null,
            "border": null,
            "align_items": null,
            "bottom": null,
            "_model_module": "@jupyter-widgets/base",
            "top": null,
            "grid_column": null,
            "overflow_y": null,
            "overflow_x": null,
            "grid_auto_flow": null,
            "grid_area": null,
            "grid_template_columns": null,
            "flex": null,
            "_model_name": "LayoutModel",
            "justify_items": null,
            "grid_row": null,
            "max_height": null,
            "align_content": null,
            "visibility": null,
            "align_self": null,
            "height": null,
            "min_height": null,
            "padding": null,
            "grid_auto_rows": null,
            "grid_gap": null,
            "max_width": null,
            "order": null,
            "_view_module_version": "1.2.0",
            "grid_template_areas": null,
            "object_position": null,
            "object_fit": null,
            "grid_auto_columns": null,
            "margin": null,
            "display": null,
            "left": null
          }
        },
        "af31eb0b4d5c404aa19e528a6c400bf6": {
          "model_module": "@jupyter-widgets/controls",
          "model_name": "DescriptionStyleModel",
          "model_module_version": "1.5.0",
          "state": {
            "_view_name": "StyleView",
            "_model_name": "DescriptionStyleModel",
            "description_width": "",
            "_view_module": "@jupyter-widgets/base",
            "_model_module_version": "1.5.0",
            "_view_count": null,
            "_view_module_version": "1.2.0",
            "_model_module": "@jupyter-widgets/controls"
          }
        },
        "429855e60a1d42a3b5774ec2d0f355c2": {
          "model_module": "@jupyter-widgets/base",
          "model_name": "LayoutModel",
          "model_module_version": "1.2.0",
          "state": {
            "_view_name": "LayoutView",
            "grid_template_rows": null,
            "right": null,
            "justify_content": null,
            "_view_module": "@jupyter-widgets/base",
            "overflow": null,
            "_model_module_version": "1.2.0",
            "_view_count": null,
            "flex_flow": null,
            "width": null,
            "min_width": null,
            "border": null,
            "align_items": null,
            "bottom": null,
            "_model_module": "@jupyter-widgets/base",
            "top": null,
            "grid_column": null,
            "overflow_y": null,
            "overflow_x": null,
            "grid_auto_flow": null,
            "grid_area": null,
            "grid_template_columns": null,
            "flex": null,
            "_model_name": "LayoutModel",
            "justify_items": null,
            "grid_row": null,
            "max_height": null,
            "align_content": null,
            "visibility": null,
            "align_self": null,
            "height": null,
            "min_height": null,
            "padding": null,
            "grid_auto_rows": null,
            "grid_gap": null,
            "max_width": null,
            "order": null,
            "_view_module_version": "1.2.0",
            "grid_template_areas": null,
            "object_position": null,
            "object_fit": null,
            "grid_auto_columns": null,
            "margin": null,
            "display": null,
            "left": null
          }
        }
      }
    }
  },
  "cells": [
    {
      "cell_type": "code",
      "metadata": {
        "colab": {
          "base_uri": "https://localhost:8080/"
        },
        "id": "7zpcnsvGtGBm",
        "outputId": "8664de44-7346-480d-d802-abc004f8e527"
      },
      "source": [
        "!pip install transformers\n",
        "!pip install sentencepiece\n",
        "!pip install datasets"
      ],
      "execution_count": 1,
      "outputs": [
        {
          "output_type": "stream",
          "text": [
            "Collecting transformers\n",
            "  Downloading transformers-4.9.2-py3-none-any.whl (2.6 MB)\n",
            "\u001b[?25l\r\u001b[K     |▏                               | 10 kB 30.1 MB/s eta 0:00:01\r\u001b[K     |▎                               | 20 kB 26.4 MB/s eta 0:00:01\r\u001b[K     |▍                               | 30 kB 18.2 MB/s eta 0:00:01\r\u001b[K     |▌                               | 40 kB 15.2 MB/s eta 0:00:01\r\u001b[K     |▋                               | 51 kB 8.5 MB/s eta 0:00:01\r\u001b[K     |▊                               | 61 kB 8.8 MB/s eta 0:00:01\r\u001b[K     |▉                               | 71 kB 7.3 MB/s eta 0:00:01\r\u001b[K     |█                               | 81 kB 8.1 MB/s eta 0:00:01\r\u001b[K     |█▏                              | 92 kB 8.4 MB/s eta 0:00:01\r\u001b[K     |█▎                              | 102 kB 8.2 MB/s eta 0:00:01\r\u001b[K     |█▍                              | 112 kB 8.2 MB/s eta 0:00:01\r\u001b[K     |█▌                              | 122 kB 8.2 MB/s eta 0:00:01\r\u001b[K     |█▋                              | 133 kB 8.2 MB/s eta 0:00:01\r\u001b[K     |█▊                              | 143 kB 8.2 MB/s eta 0:00:01\r\u001b[K     |██                              | 153 kB 8.2 MB/s eta 0:00:01\r\u001b[K     |██                              | 163 kB 8.2 MB/s eta 0:00:01\r\u001b[K     |██▏                             | 174 kB 8.2 MB/s eta 0:00:01\r\u001b[K     |██▎                             | 184 kB 8.2 MB/s eta 0:00:01\r\u001b[K     |██▍                             | 194 kB 8.2 MB/s eta 0:00:01\r\u001b[K     |██▌                             | 204 kB 8.2 MB/s eta 0:00:01\r\u001b[K     |██▋                             | 215 kB 8.2 MB/s eta 0:00:01\r\u001b[K     |██▉                             | 225 kB 8.2 MB/s eta 0:00:01\r\u001b[K     |███                             | 235 kB 8.2 MB/s eta 0:00:01\r\u001b[K     |███                             | 245 kB 8.2 MB/s eta 0:00:01\r\u001b[K     |███▏                            | 256 kB 8.2 MB/s eta 0:00:01\r\u001b[K     |███▎                            | 266 kB 8.2 MB/s eta 0:00:01\r\u001b[K     |███▍                            | 276 kB 8.2 MB/s eta 0:00:01\r\u001b[K     |███▌                            | 286 kB 8.2 MB/s eta 0:00:01\r\u001b[K     |███▊                            | 296 kB 8.2 MB/s eta 0:00:01\r\u001b[K     |███▉                            | 307 kB 8.2 MB/s eta 0:00:01\r\u001b[K     |████                            | 317 kB 8.2 MB/s eta 0:00:01\r\u001b[K     |████                            | 327 kB 8.2 MB/s eta 0:00:01\r\u001b[K     |████▏                           | 337 kB 8.2 MB/s eta 0:00:01\r\u001b[K     |████▎                           | 348 kB 8.2 MB/s eta 0:00:01\r\u001b[K     |████▍                           | 358 kB 8.2 MB/s eta 0:00:01\r\u001b[K     |████▌                           | 368 kB 8.2 MB/s eta 0:00:01\r\u001b[K     |████▊                           | 378 kB 8.2 MB/s eta 0:00:01\r\u001b[K     |████▉                           | 389 kB 8.2 MB/s eta 0:00:01\r\u001b[K     |█████                           | 399 kB 8.2 MB/s eta 0:00:01\r\u001b[K     |█████                           | 409 kB 8.2 MB/s eta 0:00:01\r\u001b[K     |█████▏                          | 419 kB 8.2 MB/s eta 0:00:01\r\u001b[K     |█████▎                          | 430 kB 8.2 MB/s eta 0:00:01\r\u001b[K     |█████▍                          | 440 kB 8.2 MB/s eta 0:00:01\r\u001b[K     |█████▋                          | 450 kB 8.2 MB/s eta 0:00:01\r\u001b[K     |█████▊                          | 460 kB 8.2 MB/s eta 0:00:01\r\u001b[K     |█████▉                          | 471 kB 8.2 MB/s eta 0:00:01\r\u001b[K     |██████                          | 481 kB 8.2 MB/s eta 0:00:01\r\u001b[K     |██████                          | 491 kB 8.2 MB/s eta 0:00:01\r\u001b[K     |██████▏                         | 501 kB 8.2 MB/s eta 0:00:01\r\u001b[K     |██████▎                         | 512 kB 8.2 MB/s eta 0:00:01\r\u001b[K     |██████▌                         | 522 kB 8.2 MB/s eta 0:00:01\r\u001b[K     |██████▋                         | 532 kB 8.2 MB/s eta 0:00:01\r\u001b[K     |██████▊                         | 542 kB 8.2 MB/s eta 0:00:01\r\u001b[K     |██████▉                         | 552 kB 8.2 MB/s eta 0:00:01\r\u001b[K     |███████                         | 563 kB 8.2 MB/s eta 0:00:01\r\u001b[K     |███████                         | 573 kB 8.2 MB/s eta 0:00:01\r\u001b[K     |███████▏                        | 583 kB 8.2 MB/s eta 0:00:01\r\u001b[K     |███████▍                        | 593 kB 8.2 MB/s eta 0:00:01\r\u001b[K     |███████▌                        | 604 kB 8.2 MB/s eta 0:00:01\r\u001b[K     |███████▋                        | 614 kB 8.2 MB/s eta 0:00:01\r\u001b[K     |███████▊                        | 624 kB 8.2 MB/s eta 0:00:01\r\u001b[K     |███████▉                        | 634 kB 8.2 MB/s eta 0:00:01\r\u001b[K     |████████                        | 645 kB 8.2 MB/s eta 0:00:01\r\u001b[K     |████████                        | 655 kB 8.2 MB/s eta 0:00:01\r\u001b[K     |████████▏                       | 665 kB 8.2 MB/s eta 0:00:01\r\u001b[K     |████████▍                       | 675 kB 8.2 MB/s eta 0:00:01\r\u001b[K     |████████▌                       | 686 kB 8.2 MB/s eta 0:00:01\r\u001b[K     |████████▋                       | 696 kB 8.2 MB/s eta 0:00:01\r\u001b[K     |████████▊                       | 706 kB 8.2 MB/s eta 0:00:01\r\u001b[K     |████████▉                       | 716 kB 8.2 MB/s eta 0:00:01\r\u001b[K     |█████████                       | 727 kB 8.2 MB/s eta 0:00:01\r\u001b[K     |█████████                       | 737 kB 8.2 MB/s eta 0:00:01\r\u001b[K     |█████████▎                      | 747 kB 8.2 MB/s eta 0:00:01\r\u001b[K     |█████████▍                      | 757 kB 8.2 MB/s eta 0:00:01\r\u001b[K     |█████████▌                      | 768 kB 8.2 MB/s eta 0:00:01\r\u001b[K     |█████████▋                      | 778 kB 8.2 MB/s eta 0:00:01\r\u001b[K     |█████████▊                      | 788 kB 8.2 MB/s eta 0:00:01\r\u001b[K     |█████████▉                      | 798 kB 8.2 MB/s eta 0:00:01\r\u001b[K     |██████████                      | 808 kB 8.2 MB/s eta 0:00:01\r\u001b[K     |██████████▏                     | 819 kB 8.2 MB/s eta 0:00:01\r\u001b[K     |██████████▎                     | 829 kB 8.2 MB/s eta 0:00:01\r\u001b[K     |██████████▍                     | 839 kB 8.2 MB/s eta 0:00:01\r\u001b[K     |██████████▌                     | 849 kB 8.2 MB/s eta 0:00:01\r\u001b[K     |██████████▋                     | 860 kB 8.2 MB/s eta 0:00:01\r\u001b[K     |██████████▊                     | 870 kB 8.2 MB/s eta 0:00:01\r\u001b[K     |██████████▉                     | 880 kB 8.2 MB/s eta 0:00:01\r\u001b[K     |███████████                     | 890 kB 8.2 MB/s eta 0:00:01\r\u001b[K     |███████████▏                    | 901 kB 8.2 MB/s eta 0:00:01\r\u001b[K     |███████████▎                    | 911 kB 8.2 MB/s eta 0:00:01\r\u001b[K     |███████████▍                    | 921 kB 8.2 MB/s eta 0:00:01\r\u001b[K     |███████████▌                    | 931 kB 8.2 MB/s eta 0:00:01\r\u001b[K     |███████████▋                    | 942 kB 8.2 MB/s eta 0:00:01\r\u001b[K     |███████████▊                    | 952 kB 8.2 MB/s eta 0:00:01\r\u001b[K     |███████████▉                    | 962 kB 8.2 MB/s eta 0:00:01\r\u001b[K     |████████████                    | 972 kB 8.2 MB/s eta 0:00:01\r\u001b[K     |████████████▏                   | 983 kB 8.2 MB/s eta 0:00:01\r\u001b[K     |████████████▎                   | 993 kB 8.2 MB/s eta 0:00:01\r\u001b[K     |████████████▍                   | 1.0 MB 8.2 MB/s eta 0:00:01\r\u001b[K     |████████████▌                   | 1.0 MB 8.2 MB/s eta 0:00:01\r\u001b[K     |████████████▋                   | 1.0 MB 8.2 MB/s eta 0:00:01\r\u001b[K     |████████████▊                   | 1.0 MB 8.2 MB/s eta 0:00:01\r\u001b[K     |█████████████                   | 1.0 MB 8.2 MB/s eta 0:00:01\r\u001b[K     |█████████████                   | 1.1 MB 8.2 MB/s eta 0:00:01\r\u001b[K     |█████████████▏                  | 1.1 MB 8.2 MB/s eta 0:00:01\r\u001b[K     |█████████████▎                  | 1.1 MB 8.2 MB/s eta 0:00:01\r\u001b[K     |█████████████▍                  | 1.1 MB 8.2 MB/s eta 0:00:01\r\u001b[K     |█████████████▌                  | 1.1 MB 8.2 MB/s eta 0:00:01\r\u001b[K     |█████████████▋                  | 1.1 MB 8.2 MB/s eta 0:00:01\r\u001b[K     |█████████████▉                  | 1.1 MB 8.2 MB/s eta 0:00:01\r\u001b[K     |██████████████                  | 1.1 MB 8.2 MB/s eta 0:00:01\r\u001b[K     |██████████████                  | 1.1 MB 8.2 MB/s eta 0:00:01\r\u001b[K     |██████████████▏                 | 1.1 MB 8.2 MB/s eta 0:00:01\r\u001b[K     |██████████████▎                 | 1.2 MB 8.2 MB/s eta 0:00:01\r\u001b[K     |██████████████▍                 | 1.2 MB 8.2 MB/s eta 0:00:01\r\u001b[K     |██████████████▌                 | 1.2 MB 8.2 MB/s eta 0:00:01\r\u001b[K     |██████████████▊                 | 1.2 MB 8.2 MB/s eta 0:00:01\r\u001b[K     |██████████████▉                 | 1.2 MB 8.2 MB/s eta 0:00:01\r\u001b[K     |███████████████                 | 1.2 MB 8.2 MB/s eta 0:00:01\r\u001b[K     |███████████████                 | 1.2 MB 8.2 MB/s eta 0:00:01\r\u001b[K     |███████████████▏                | 1.2 MB 8.2 MB/s eta 0:00:01\r\u001b[K     |███████████████▎                | 1.2 MB 8.2 MB/s eta 0:00:01\r\u001b[K     |███████████████▍                | 1.2 MB 8.2 MB/s eta 0:00:01\r\u001b[K     |███████████████▌                | 1.3 MB 8.2 MB/s eta 0:00:01\r\u001b[K     |███████████████▊                | 1.3 MB 8.2 MB/s eta 0:00:01\r\u001b[K     |███████████████▉                | 1.3 MB 8.2 MB/s eta 0:00:01\r\u001b[K     |████████████████                | 1.3 MB 8.2 MB/s eta 0:00:01\r\u001b[K     |████████████████                | 1.3 MB 8.2 MB/s eta 0:00:01\r\u001b[K     |████████████████▏               | 1.3 MB 8.2 MB/s eta 0:00:01\r\u001b[K     |████████████████▎               | 1.3 MB 8.2 MB/s eta 0:00:01\r\u001b[K     |████████████████▍               | 1.3 MB 8.2 MB/s eta 0:00:01\r\u001b[K     |████████████████▋               | 1.3 MB 8.2 MB/s eta 0:00:01\r\u001b[K     |████████████████▊               | 1.4 MB 8.2 MB/s eta 0:00:01\r\u001b[K     |████████████████▉               | 1.4 MB 8.2 MB/s eta 0:00:01\r\u001b[K     |█████████████████               | 1.4 MB 8.2 MB/s eta 0:00:01\r\u001b[K     |█████████████████               | 1.4 MB 8.2 MB/s eta 0:00:01\r\u001b[K     |█████████████████▏              | 1.4 MB 8.2 MB/s eta 0:00:01\r\u001b[K     |█████████████████▎              | 1.4 MB 8.2 MB/s eta 0:00:01\r\u001b[K     |█████████████████▌              | 1.4 MB 8.2 MB/s eta 0:00:01\r\u001b[K     |█████████████████▋              | 1.4 MB 8.2 MB/s eta 0:00:01\r\u001b[K     |█████████████████▊              | 1.4 MB 8.2 MB/s eta 0:00:01\r\u001b[K     |█████████████████▉              | 1.4 MB 8.2 MB/s eta 0:00:01\r\u001b[K     |██████████████████              | 1.5 MB 8.2 MB/s eta 0:00:01\r\u001b[K     |██████████████████              | 1.5 MB 8.2 MB/s eta 0:00:01\r\u001b[K     |██████████████████▏             | 1.5 MB 8.2 MB/s eta 0:00:01\r\u001b[K     |██████████████████▍             | 1.5 MB 8.2 MB/s eta 0:00:01\r\u001b[K     |██████████████████▌             | 1.5 MB 8.2 MB/s eta 0:00:01\r\u001b[K     |██████████████████▋             | 1.5 MB 8.2 MB/s eta 0:00:01\r\u001b[K     |██████████████████▊             | 1.5 MB 8.2 MB/s eta 0:00:01\r\u001b[K     |██████████████████▉             | 1.5 MB 8.2 MB/s eta 0:00:01\r\u001b[K     |███████████████████             | 1.5 MB 8.2 MB/s eta 0:00:01\r\u001b[K     |███████████████████             | 1.5 MB 8.2 MB/s eta 0:00:01\r\u001b[K     |███████████████████▏            | 1.6 MB 8.2 MB/s eta 0:00:01\r\u001b[K     |███████████████████▍            | 1.6 MB 8.2 MB/s eta 0:00:01\r\u001b[K     |███████████████████▌            | 1.6 MB 8.2 MB/s eta 0:00:01\r\u001b[K     |███████████████████▋            | 1.6 MB 8.2 MB/s eta 0:00:01\r\u001b[K     |███████████████████▊            | 1.6 MB 8.2 MB/s eta 0:00:01\r\u001b[K     |███████████████████▉            | 1.6 MB 8.2 MB/s eta 0:00:01\r\u001b[K     |████████████████████            | 1.6 MB 8.2 MB/s eta 0:00:01\r\u001b[K     |████████████████████            | 1.6 MB 8.2 MB/s eta 0:00:01\r\u001b[K     |████████████████████▎           | 1.6 MB 8.2 MB/s eta 0:00:01\r\u001b[K     |████████████████████▍           | 1.6 MB 8.2 MB/s eta 0:00:01\r\u001b[K     |████████████████████▌           | 1.7 MB 8.2 MB/s eta 0:00:01\r\u001b[K     |████████████████████▋           | 1.7 MB 8.2 MB/s eta 0:00:01\r\u001b[K     |████████████████████▊           | 1.7 MB 8.2 MB/s eta 0:00:01\r\u001b[K     |████████████████████▉           | 1.7 MB 8.2 MB/s eta 0:00:01\r\u001b[K     |█████████████████████           | 1.7 MB 8.2 MB/s eta 0:00:01\r\u001b[K     |█████████████████████▏          | 1.7 MB 8.2 MB/s eta 0:00:01\r\u001b[K     |█████████████████████▎          | 1.7 MB 8.2 MB/s eta 0:00:01\r\u001b[K     |█████████████████████▍          | 1.7 MB 8.2 MB/s eta 0:00:01\r\u001b[K     |█████████████████████▌          | 1.7 MB 8.2 MB/s eta 0:00:01\r\u001b[K     |█████████████████████▋          | 1.8 MB 8.2 MB/s eta 0:00:01\r\u001b[K     |█████████████████████▊          | 1.8 MB 8.2 MB/s eta 0:00:01\r\u001b[K     |█████████████████████▉          | 1.8 MB 8.2 MB/s eta 0:00:01\r\u001b[K     |██████████████████████          | 1.8 MB 8.2 MB/s eta 0:00:01\r\u001b[K     |██████████████████████▏         | 1.8 MB 8.2 MB/s eta 0:00:01\r\u001b[K     |██████████████████████▎         | 1.8 MB 8.2 MB/s eta 0:00:01\r\u001b[K     |██████████████████████▍         | 1.8 MB 8.2 MB/s eta 0:00:01\r\u001b[K     |██████████████████████▌         | 1.8 MB 8.2 MB/s eta 0:00:01\r\u001b[K     |██████████████████████▋         | 1.8 MB 8.2 MB/s eta 0:00:01\r\u001b[K     |██████████████████████▊         | 1.8 MB 8.2 MB/s eta 0:00:01\r\u001b[K     |██████████████████████▉         | 1.9 MB 8.2 MB/s eta 0:00:01\r\u001b[K     |███████████████████████         | 1.9 MB 8.2 MB/s eta 0:00:01\r\u001b[K     |███████████████████████▏        | 1.9 MB 8.2 MB/s eta 0:00:01\r\u001b[K     |███████████████████████▎        | 1.9 MB 8.2 MB/s eta 0:00:01\r\u001b[K     |███████████████████████▍        | 1.9 MB 8.2 MB/s eta 0:00:01\r\u001b[K     |███████████████████████▌        | 1.9 MB 8.2 MB/s eta 0:00:01\r\u001b[K     |███████████████████████▋        | 1.9 MB 8.2 MB/s eta 0:00:01\r\u001b[K     |███████████████████████▊        | 1.9 MB 8.2 MB/s eta 0:00:01\r\u001b[K     |████████████████████████        | 1.9 MB 8.2 MB/s eta 0:00:01\r\u001b[K     |████████████████████████        | 1.9 MB 8.2 MB/s eta 0:00:01\r\u001b[K     |████████████████████████▏       | 2.0 MB 8.2 MB/s eta 0:00:01\r\u001b[K     |████████████████████████▎       | 2.0 MB 8.2 MB/s eta 0:00:01\r\u001b[K     |████████████████████████▍       | 2.0 MB 8.2 MB/s eta 0:00:01\r\u001b[K     |████████████████████████▌       | 2.0 MB 8.2 MB/s eta 0:00:01\r\u001b[K     |████████████████████████▋       | 2.0 MB 8.2 MB/s eta 0:00:01\r\u001b[K     |████████████████████████▉       | 2.0 MB 8.2 MB/s eta 0:00:01\r\u001b[K     |█████████████████████████       | 2.0 MB 8.2 MB/s eta 0:00:01\r\u001b[K     |█████████████████████████       | 2.0 MB 8.2 MB/s eta 0:00:01\r\u001b[K     |█████████████████████████▏      | 2.0 MB 8.2 MB/s eta 0:00:01\r\u001b[K     |█████████████████████████▎      | 2.0 MB 8.2 MB/s eta 0:00:01\r\u001b[K     |█████████████████████████▍      | 2.1 MB 8.2 MB/s eta 0:00:01\r\u001b[K     |█████████████████████████▌      | 2.1 MB 8.2 MB/s eta 0:00:01\r\u001b[K     |█████████████████████████▊      | 2.1 MB 8.2 MB/s eta 0:00:01\r\u001b[K     |█████████████████████████▉      | 2.1 MB 8.2 MB/s eta 0:00:01\r\u001b[K     |██████████████████████████      | 2.1 MB 8.2 MB/s eta 0:00:01\r\u001b[K     |██████████████████████████      | 2.1 MB 8.2 MB/s eta 0:00:01\r\u001b[K     |██████████████████████████▏     | 2.1 MB 8.2 MB/s eta 0:00:01\r\u001b[K     |██████████████████████████▎     | 2.1 MB 8.2 MB/s eta 0:00:01\r\u001b[K     |██████████████████████████▍     | 2.1 MB 8.2 MB/s eta 0:00:01\r\u001b[K     |██████████████████████████▌     | 2.2 MB 8.2 MB/s eta 0:00:01\r\u001b[K     |██████████████████████████▊     | 2.2 MB 8.2 MB/s eta 0:00:01\r\u001b[K     |██████████████████████████▉     | 2.2 MB 8.2 MB/s eta 0:00:01\r\u001b[K     |███████████████████████████     | 2.2 MB 8.2 MB/s eta 0:00:01\r\u001b[K     |███████████████████████████     | 2.2 MB 8.2 MB/s eta 0:00:01\r\u001b[K     |███████████████████████████▏    | 2.2 MB 8.2 MB/s eta 0:00:01\r\u001b[K     |███████████████████████████▎    | 2.2 MB 8.2 MB/s eta 0:00:01\r\u001b[K     |███████████████████████████▍    | 2.2 MB 8.2 MB/s eta 0:00:01\r\u001b[K     |███████████████████████████▋    | 2.2 MB 8.2 MB/s eta 0:00:01\r\u001b[K     |███████████████████████████▊    | 2.2 MB 8.2 MB/s eta 0:00:01\r\u001b[K     |███████████████████████████▉    | 2.3 MB 8.2 MB/s eta 0:00:01\r\u001b[K     |████████████████████████████    | 2.3 MB 8.2 MB/s eta 0:00:01\r\u001b[K     |████████████████████████████    | 2.3 MB 8.2 MB/s eta 0:00:01\r\u001b[K     |████████████████████████████▏   | 2.3 MB 8.2 MB/s eta 0:00:01\r\u001b[K     |████████████████████████████▎   | 2.3 MB 8.2 MB/s eta 0:00:01\r\u001b[K     |████████████████████████████▌   | 2.3 MB 8.2 MB/s eta 0:00:01\r\u001b[K     |████████████████████████████▋   | 2.3 MB 8.2 MB/s eta 0:00:01\r\u001b[K     |████████████████████████████▊   | 2.3 MB 8.2 MB/s eta 0:00:01\r\u001b[K     |████████████████████████████▉   | 2.3 MB 8.2 MB/s eta 0:00:01\r\u001b[K     |█████████████████████████████   | 2.3 MB 8.2 MB/s eta 0:00:01\r\u001b[K     |█████████████████████████████   | 2.4 MB 8.2 MB/s eta 0:00:01\r\u001b[K     |█████████████████████████████▏  | 2.4 MB 8.2 MB/s eta 0:00:01\r\u001b[K     |█████████████████████████████▍  | 2.4 MB 8.2 MB/s eta 0:00:01\r\u001b[K     |█████████████████████████████▌  | 2.4 MB 8.2 MB/s eta 0:00:01\r\u001b[K     |█████████████████████████████▋  | 2.4 MB 8.2 MB/s eta 0:00:01\r\u001b[K     |█████████████████████████████▊  | 2.4 MB 8.2 MB/s eta 0:00:01\r\u001b[K     |█████████████████████████████▉  | 2.4 MB 8.2 MB/s eta 0:00:01\r\u001b[K     |██████████████████████████████  | 2.4 MB 8.2 MB/s eta 0:00:01\r\u001b[K     |██████████████████████████████  | 2.4 MB 8.2 MB/s eta 0:00:01\r\u001b[K     |██████████████████████████████▏ | 2.4 MB 8.2 MB/s eta 0:00:01\r\u001b[K     |██████████████████████████████▍ | 2.5 MB 8.2 MB/s eta 0:00:01\r\u001b[K     |██████████████████████████████▌ | 2.5 MB 8.2 MB/s eta 0:00:01\r\u001b[K     |██████████████████████████████▋ | 2.5 MB 8.2 MB/s eta 0:00:01\r\u001b[K     |██████████████████████████████▊ | 2.5 MB 8.2 MB/s eta 0:00:01\r\u001b[K     |██████████████████████████████▉ | 2.5 MB 8.2 MB/s eta 0:00:01\r\u001b[K     |███████████████████████████████ | 2.5 MB 8.2 MB/s eta 0:00:01\r\u001b[K     |███████████████████████████████ | 2.5 MB 8.2 MB/s eta 0:00:01\r\u001b[K     |███████████████████████████████▎| 2.5 MB 8.2 MB/s eta 0:00:01\r\u001b[K     |███████████████████████████████▍| 2.5 MB 8.2 MB/s eta 0:00:01\r\u001b[K     |███████████████████████████████▌| 2.5 MB 8.2 MB/s eta 0:00:01\r\u001b[K     |███████████████████████████████▋| 2.6 MB 8.2 MB/s eta 0:00:01\r\u001b[K     |███████████████████████████████▊| 2.6 MB 8.2 MB/s eta 0:00:01\r\u001b[K     |███████████████████████████████▉| 2.6 MB 8.2 MB/s eta 0:00:01\r\u001b[K     |████████████████████████████████| 2.6 MB 8.2 MB/s eta 0:00:01\r\u001b[K     |████████████████████████████████| 2.6 MB 8.2 MB/s \n",
            "\u001b[?25hRequirement already satisfied: filelock in /usr/local/lib/python3.7/dist-packages (from transformers) (3.0.12)\n",
            "Requirement already satisfied: importlib-metadata in /usr/local/lib/python3.7/dist-packages (from transformers) (4.6.3)\n",
            "Requirement already satisfied: numpy>=1.17 in /usr/local/lib/python3.7/dist-packages (from transformers) (1.19.5)\n",
            "Collecting huggingface-hub==0.0.12\n",
            "  Downloading huggingface_hub-0.0.12-py3-none-any.whl (37 kB)\n",
            "Collecting sacremoses\n",
            "  Downloading sacremoses-0.0.45-py3-none-any.whl (895 kB)\n",
            "\u001b[K     |████████████████████████████████| 895 kB 52.7 MB/s \n",
            "\u001b[?25hRequirement already satisfied: regex!=2019.12.17 in /usr/local/lib/python3.7/dist-packages (from transformers) (2019.12.20)\n",
            "Requirement already satisfied: packaging in /usr/local/lib/python3.7/dist-packages (from transformers) (21.0)\n",
            "Requirement already satisfied: requests in /usr/local/lib/python3.7/dist-packages (from transformers) (2.23.0)\n",
            "Requirement already satisfied: tqdm>=4.27 in /usr/local/lib/python3.7/dist-packages (from transformers) (4.62.0)\n",
            "Collecting tokenizers<0.11,>=0.10.1\n",
            "  Downloading tokenizers-0.10.3-cp37-cp37m-manylinux_2_5_x86_64.manylinux1_x86_64.manylinux_2_12_x86_64.manylinux2010_x86_64.whl (3.3 MB)\n",
            "\u001b[K     |████████████████████████████████| 3.3 MB 53.2 MB/s \n",
            "\u001b[?25hCollecting pyyaml>=5.1\n",
            "  Downloading PyYAML-5.4.1-cp37-cp37m-manylinux1_x86_64.whl (636 kB)\n",
            "\u001b[K     |████████████████████████████████| 636 kB 50.3 MB/s \n",
            "\u001b[?25hRequirement already satisfied: typing-extensions in /usr/local/lib/python3.7/dist-packages (from huggingface-hub==0.0.12->transformers) (3.7.4.3)\n",
            "Requirement already satisfied: pyparsing>=2.0.2 in /usr/local/lib/python3.7/dist-packages (from packaging->transformers) (2.4.7)\n",
            "Requirement already satisfied: zipp>=0.5 in /usr/local/lib/python3.7/dist-packages (from importlib-metadata->transformers) (3.5.0)\n",
            "Requirement already satisfied: urllib3!=1.25.0,!=1.25.1,<1.26,>=1.21.1 in /usr/local/lib/python3.7/dist-packages (from requests->transformers) (1.24.3)\n",
            "Requirement already satisfied: certifi>=2017.4.17 in /usr/local/lib/python3.7/dist-packages (from requests->transformers) (2021.5.30)\n",
            "Requirement already satisfied: chardet<4,>=3.0.2 in /usr/local/lib/python3.7/dist-packages (from requests->transformers) (3.0.4)\n",
            "Requirement already satisfied: idna<3,>=2.5 in /usr/local/lib/python3.7/dist-packages (from requests->transformers) (2.10)\n",
            "Requirement already satisfied: six in /usr/local/lib/python3.7/dist-packages (from sacremoses->transformers) (1.15.0)\n",
            "Requirement already satisfied: click in /usr/local/lib/python3.7/dist-packages (from sacremoses->transformers) (7.1.2)\n",
            "Requirement already satisfied: joblib in /usr/local/lib/python3.7/dist-packages (from sacremoses->transformers) (1.0.1)\n",
            "Installing collected packages: tokenizers, sacremoses, pyyaml, huggingface-hub, transformers\n",
            "  Attempting uninstall: pyyaml\n",
            "    Found existing installation: PyYAML 3.13\n",
            "    Uninstalling PyYAML-3.13:\n",
            "      Successfully uninstalled PyYAML-3.13\n",
            "Successfully installed huggingface-hub-0.0.12 pyyaml-5.4.1 sacremoses-0.0.45 tokenizers-0.10.3 transformers-4.9.2\n",
            "Collecting sentencepiece\n",
            "  Downloading sentencepiece-0.1.96-cp37-cp37m-manylinux_2_17_x86_64.manylinux2014_x86_64.whl (1.2 MB)\n",
            "\u001b[K     |████████████████████████████████| 1.2 MB 8.6 MB/s \n",
            "\u001b[?25hInstalling collected packages: sentencepiece\n",
            "Successfully installed sentencepiece-0.1.96\n",
            "Collecting datasets\n",
            "  Downloading datasets-1.11.0-py3-none-any.whl (264 kB)\n",
            "\u001b[K     |████████████████████████████████| 264 kB 9.0 MB/s \n",
            "\u001b[?25hCollecting fsspec>=2021.05.0\n",
            "  Downloading fsspec-2021.7.0-py3-none-any.whl (118 kB)\n",
            "\u001b[K     |████████████████████████████████| 118 kB 64.3 MB/s \n",
            "\u001b[?25hRequirement already satisfied: importlib-metadata in /usr/local/lib/python3.7/dist-packages (from datasets) (4.6.3)\n",
            "Requirement already satisfied: requests>=2.19.0 in /usr/local/lib/python3.7/dist-packages (from datasets) (2.23.0)\n",
            "Requirement already satisfied: tqdm>=4.42 in /usr/local/lib/python3.7/dist-packages (from datasets) (4.62.0)\n",
            "Requirement already satisfied: huggingface-hub<0.1.0 in /usr/local/lib/python3.7/dist-packages (from datasets) (0.0.12)\n",
            "Requirement already satisfied: pandas in /usr/local/lib/python3.7/dist-packages (from datasets) (1.1.5)\n",
            "Requirement already satisfied: numpy>=1.17 in /usr/local/lib/python3.7/dist-packages (from datasets) (1.19.5)\n",
            "Requirement already satisfied: multiprocess in /usr/local/lib/python3.7/dist-packages (from datasets) (0.70.12.2)\n",
            "Requirement already satisfied: packaging in /usr/local/lib/python3.7/dist-packages (from datasets) (21.0)\n",
            "Collecting xxhash\n",
            "  Downloading xxhash-2.0.2-cp37-cp37m-manylinux2010_x86_64.whl (243 kB)\n",
            "\u001b[K     |████████████████████████████████| 243 kB 66.8 MB/s \n",
            "\u001b[?25hRequirement already satisfied: dill in /usr/local/lib/python3.7/dist-packages (from datasets) (0.3.4)\n",
            "Requirement already satisfied: pyarrow!=4.0.0,>=1.0.0 in /usr/local/lib/python3.7/dist-packages (from datasets) (3.0.0)\n",
            "Requirement already satisfied: filelock in /usr/local/lib/python3.7/dist-packages (from huggingface-hub<0.1.0->datasets) (3.0.12)\n",
            "Requirement already satisfied: typing-extensions in /usr/local/lib/python3.7/dist-packages (from huggingface-hub<0.1.0->datasets) (3.7.4.3)\n",
            "Requirement already satisfied: pyparsing>=2.0.2 in /usr/local/lib/python3.7/dist-packages (from packaging->datasets) (2.4.7)\n",
            "Requirement already satisfied: urllib3!=1.25.0,!=1.25.1,<1.26,>=1.21.1 in /usr/local/lib/python3.7/dist-packages (from requests>=2.19.0->datasets) (1.24.3)\n",
            "Requirement already satisfied: idna<3,>=2.5 in /usr/local/lib/python3.7/dist-packages (from requests>=2.19.0->datasets) (2.10)\n",
            "Requirement already satisfied: certifi>=2017.4.17 in /usr/local/lib/python3.7/dist-packages (from requests>=2.19.0->datasets) (2021.5.30)\n",
            "Requirement already satisfied: chardet<4,>=3.0.2 in /usr/local/lib/python3.7/dist-packages (from requests>=2.19.0->datasets) (3.0.4)\n",
            "Requirement already satisfied: zipp>=0.5 in /usr/local/lib/python3.7/dist-packages (from importlib-metadata->datasets) (3.5.0)\n",
            "Requirement already satisfied: python-dateutil>=2.7.3 in /usr/local/lib/python3.7/dist-packages (from pandas->datasets) (2.8.2)\n",
            "Requirement already satisfied: pytz>=2017.2 in /usr/local/lib/python3.7/dist-packages (from pandas->datasets) (2018.9)\n",
            "Requirement already satisfied: six>=1.5 in /usr/local/lib/python3.7/dist-packages (from python-dateutil>=2.7.3->pandas->datasets) (1.15.0)\n",
            "Installing collected packages: xxhash, fsspec, datasets\n",
            "Successfully installed datasets-1.11.0 fsspec-2021.7.0 xxhash-2.0.2\n"
          ],
          "name": "stdout"
        }
      ]
    },
    {
      "cell_type": "markdown",
      "metadata": {
        "id": "iwfz9uyl0fQb"
      },
      "source": [
        "## Inference on test dataset"
      ]
    },
    {
      "cell_type": "code",
      "metadata": {
        "id": "5FDGH7SkD06G"
      },
      "source": [
        "from transformers import AutoTokenizer, AutoModelForSequenceClassification\n",
        "import torch\n",
        "import pandas as pd\n",
        "import numpy as np"
      ],
      "execution_count": 58,
      "outputs": []
    },
    {
      "cell_type": "code",
      "metadata": {
        "colab": {
          "base_uri": "https://localhost:8080/",
          "height": 144,
          "referenced_widgets": [
            "455de24692114f1ca355d6fcaff376f7",
            "6d6dee4b88d549b0b05428be35f26597",
            "dfc69076ad1041c3bae44d42fd5b42c8",
            "d36d2aab684b450480cb5dda5c05dfb2",
            "75ef47f6709d4c3494823e963b453a61",
            "7404d90be75d4d71a51e205db8751564",
            "7072bf5af82c4c76a607939bf1db73ef",
            "3551fe8460f34950991b805958882333",
            "dc082e2d15964c018f34f9bb50341c32",
            "ec2683ccb01c41278e38e7afb62d6076",
            "b901c13bfee247d491ed4eca052727c4",
            "7ba445e5c9be44dfa7d5c98f46881a73",
            "1f166df38df445f0997b53664de07788",
            "7cf1ef2548e34375b06c8d3e7f2aa097",
            "fa8fc238932d4a0492be4c9e37c383bc",
            "82a40703ab444e889801c5106447d128",
            "2831257c42b04167a1fa8e27e795abfe",
            "db59a7068f444fdd8bd767095161b2cc",
            "daf64af7ba12417d828bd9f3ea161bae",
            "40cc21ee942c46be93516b1622f0f438",
            "484def2ab65147d580a0269cd14fc3b1",
            "b8e0b8d0825f4ffa8a5d2a74b8a65a70",
            "878182d62a2f425b9e189c5a81e08b0b",
            "2f212c1f378f4adb9e18e326a69e34d4",
            "9e6430f466c54965a1b10edc89c3d608",
            "880bacd08aff4762ad9b789b89c53890",
            "2e932b5e42104cbba701f828450946db",
            "722c128f7d0d4143b593204c4bf9f5c8",
            "11cab5f55aca443b9cfb7eb9622f0aac",
            "3715c943527f464b990e6f977346e303",
            "3c4cd8490e5d4995800703ec8b83f831",
            "41a665fe904c47aa9dc2c4ad1465eadf",
            "86b3ed780df14fb281beb9611e05c3a7",
            "fc1523663d894b49b435a23446bd17fe",
            "0bcb225b9fa742a9b8ac261c255689b8",
            "c73f5f03c1c0476694c08abb2445bb0e",
            "f1e76bf97f274d5f88310bd83d02c45a",
            "67e24a85182a41dba8e4d040c26ecc77",
            "e95a2fbe77c24c8a8fef2c32b9706fa2",
            "fa2c36604c1c4805be333e17c903450a",
            "e40654bb6a5c4cae922f8eb2a59d7e1f",
            "97b5cf04842f4cca9454d8af99f0e61e",
            "af31eb0b4d5c404aa19e528a6c400bf6",
            "429855e60a1d42a3b5774ec2d0f355c2"
          ]
        },
        "id": "00L7foz1EIlw",
        "outputId": "5c8dc472-1913-40d8-b8cf-fc51a8a9b03b"
      },
      "source": [
        "tokenizer = AutoTokenizer.from_pretrained(\"distilbert-base-uncased\", use_fast=True)"
      ],
      "execution_count": 10,
      "outputs": [
        {
          "output_type": "display_data",
          "data": {
            "application/vnd.jupyter.widget-view+json": {
              "model_id": "455de24692114f1ca355d6fcaff376f7",
              "version_minor": 0,
              "version_major": 2
            },
            "text/plain": [
              "Downloading:   0%|          | 0.00/28.0 [00:00<?, ?B/s]"
            ]
          },
          "metadata": {
            "tags": []
          }
        },
        {
          "output_type": "display_data",
          "data": {
            "application/vnd.jupyter.widget-view+json": {
              "model_id": "7ba445e5c9be44dfa7d5c98f46881a73",
              "version_minor": 0,
              "version_major": 2
            },
            "text/plain": [
              "Downloading:   0%|          | 0.00/442 [00:00<?, ?B/s]"
            ]
          },
          "metadata": {
            "tags": []
          }
        },
        {
          "output_type": "display_data",
          "data": {
            "application/vnd.jupyter.widget-view+json": {
              "model_id": "878182d62a2f425b9e189c5a81e08b0b",
              "version_minor": 0,
              "version_major": 2
            },
            "text/plain": [
              "Downloading:   0%|          | 0.00/232k [00:00<?, ?B/s]"
            ]
          },
          "metadata": {
            "tags": []
          }
        },
        {
          "output_type": "display_data",
          "data": {
            "application/vnd.jupyter.widget-view+json": {
              "model_id": "fc1523663d894b49b435a23446bd17fe",
              "version_minor": 0,
              "version_major": 2
            },
            "text/plain": [
              "Downloading:   0%|          | 0.00/466k [00:00<?, ?B/s]"
            ]
          },
          "metadata": {
            "tags": []
          }
        }
      ]
    },
    {
      "cell_type": "markdown",
      "metadata": {
        "id": "qGmwUrAFDqok"
      },
      "source": [
        "### Load model"
      ]
    },
    {
      "cell_type": "code",
      "metadata": {
        "id": "AgHIn-aACemB",
        "colab": {
          "base_uri": "https://localhost:8080/"
        },
        "outputId": "6641eb03-91e9-4486-dbd6-6aed0cea7a46"
      },
      "source": [
        "from google.colab import drive\n",
        "drive.mount('/content/drive')"
      ],
      "execution_count": 2,
      "outputs": [
        {
          "output_type": "stream",
          "text": [
            "Mounted at /content/drive\n"
          ],
          "name": "stdout"
        }
      ]
    },
    {
      "cell_type": "code",
      "metadata": {
        "id": "_tECMNIJCeVI"
      },
      "source": [
        "multi_model = AutoModelForSequenceClassification.from_pretrained(\"/content/drive/MyDrive/labtwin-test/multi_model_trained\")"
      ],
      "execution_count": 5,
      "outputs": []
    },
    {
      "cell_type": "code",
      "metadata": {
        "id": "4uXu0xPdCeLm",
        "colab": {
          "base_uri": "https://localhost:8080/"
        },
        "outputId": "8c8297e3-93bc-4bf3-e41a-391b9c13dd29"
      },
      "source": [
        "type(multi_model)"
      ],
      "execution_count": 6,
      "outputs": [
        {
          "output_type": "execute_result",
          "data": {
            "text/plain": [
              "transformers.models.distilbert.modeling_distilbert.DistilBertForSequenceClassification"
            ]
          },
          "metadata": {
            "tags": []
          },
          "execution_count": 6
        }
      ]
    },
    {
      "cell_type": "markdown",
      "metadata": {
        "id": "kjbLflXXEAs1"
      },
      "source": [
        "### Test on 1 example"
      ]
    },
    {
      "cell_type": "code",
      "metadata": {
        "id": "bvrK3VJtPFVz"
      },
      "source": [
        "example_text = \"\"\"\n",
        "The British Broadcasting Corporation (BBC) is the national broadcaster of the United Kingdom. Headquartered at Broadcasting House in London, it is the world's oldest national broadcaster, and the largest broadcaster in the world by number of employees, employing over 22,000 staff in total, of whom more than 19,000 are in public-sector broadcasting.\n",
        "\"\"\""
      ],
      "execution_count": 17,
      "outputs": []
    },
    {
      "cell_type": "code",
      "metadata": {
        "id": "El23BwBsMvCI",
        "colab": {
          "base_uri": "https://localhost:8080/"
        },
        "outputId": "29d408ef-3f92-4c15-cb49-6db8c79b141e"
      },
      "source": [
        "example_inputs = tokenizer(example_text, padding=True, truncation=True, max_length=512, return_tensors=\"pt\")\n",
        "\n",
        "predictions = multi_model(**example_inputs).logits\n",
        "\n",
        "torch.softmax(predictions, dim=1).tolist()[0]"
      ],
      "execution_count": 18,
      "outputs": [
        {
          "output_type": "execute_result",
          "data": {
            "text/plain": [
              "[0.9997023940086365,\n",
              " 0.00011381757212802768,\n",
              " 1.0845762517419644e-05,\n",
              " 1.8507029380998574e-05,\n",
              " 4.5009346649749205e-05,\n",
              " 0.0001093574392143637]"
            ]
          },
          "metadata": {
            "tags": []
          },
          "execution_count": 18
        }
      ]
    },
    {
      "cell_type": "code",
      "metadata": {
        "id": "6vSJvHRgEvfT"
      },
      "source": [
        "example_text = \"\"\"\n",
        "sparfloxacin is a fluoroquinolone antibiotic used in the treatment of bacterial infections. it has a controversial safety profile.it was patented in 1985 and approved for medical use in 1993. zagam is no longer available in the united states.\n",
        "\"\"\""
      ],
      "execution_count": 36,
      "outputs": []
    },
    {
      "cell_type": "code",
      "metadata": {
        "colab": {
          "base_uri": "https://localhost:8080/"
        },
        "id": "OwU_6nwtF12N",
        "outputId": "fb607612-af63-4562-9a0f-f5d685e8fab5"
      },
      "source": [
        "example_inputs = tokenizer(example_text, padding=True, truncation=True, max_length=512, return_tensors=\"pt\")\n",
        "\n",
        "predictions = multi_model(**example_inputs).logits\n",
        "\n",
        "torch.softmax(predictions, dim=1).tolist()[0]"
      ],
      "execution_count": 37,
      "outputs": [
        {
          "output_type": "execute_result",
          "data": {
            "text/plain": [
              "[6.877542182337493e-05,\n",
              " 4.998061922378838e-05,\n",
              " 4.997218638891354e-05,\n",
              " 3.0868199246469885e-05,\n",
              " 3.581976125133224e-05,\n",
              " 0.999764621257782]"
            ]
          },
          "metadata": {
            "tags": []
          },
          "execution_count": 37
        }
      ]
    },
    {
      "cell_type": "code",
      "metadata": {
        "id": "XahosEoJGLc0"
      },
      "source": [
        "# 'non_science', 'reagent', 'drug', 'protein', 'cell', 'antibiotic'"
      ],
      "execution_count": null,
      "outputs": []
    },
    {
      "cell_type": "markdown",
      "metadata": {
        "id": "9yUOU3ZXEfU6"
      },
      "source": [
        "## Inference on test_dataset"
      ]
    },
    {
      "cell_type": "code",
      "metadata": {
        "id": "9wMcGJ0SNvUz"
      },
      "source": [
        "def get_prediction(text):\n",
        "    \"\"\"\n",
        "    Get the label prediction for a given text\n",
        "    \"\"\"\n",
        "    \n",
        "    # prepare our text into tokenized sequence\n",
        "    inputs = tokenizer(text, padding=True, truncation=True, max_length=512, return_tensors=\"pt\")\n",
        "    \n",
        "    # perform inference to our model\n",
        "    outputs = multi_model(**inputs)\n",
        "\n",
        "    classification_logits = outputs.logits\n",
        "\n",
        "    # get output probabilities by doing softmax\n",
        "    results = torch.softmax(classification_logits, dim=1).tolist()[0]\n",
        "\n",
        "    # executing argmax function to get the candidate label\n",
        "    class_label = np.argmax(results)\n",
        "\n",
        "    return class_label"
      ],
      "execution_count": 64,
      "outputs": []
    },
    {
      "cell_type": "code",
      "metadata": {
        "id": "Fq0tOkmIFBVw"
      },
      "source": [
        "# read dataset\n",
        "test_dataset_df = pd.read_csv('/content/test_dataset.csv')"
      ],
      "execution_count": 51,
      "outputs": []
    },
    {
      "cell_type": "code",
      "metadata": {
        "id": "bFVYICm8KHsA"
      },
      "source": [
        "### get predictions for each text in test_Dataset"
      ],
      "execution_count": 49,
      "outputs": []
    },
    {
      "cell_type": "code",
      "metadata": {
        "id": "B-tLogxKKOFw"
      },
      "source": [
        "test_texts = test_dataset_df['text'].tolist()"
      ],
      "execution_count": 65,
      "outputs": []
    },
    {
      "cell_type": "code",
      "metadata": {
        "id": "seFq6cmGKNvT"
      },
      "source": [
        "test_predictions = []\n",
        "\n",
        "for text in test_texts:\n",
        "\n",
        "  # get the label prediction\n",
        "  res_index = get_prediction(text)\n",
        "\n",
        "  if res_index not in range(0, 6): print(\"Wrong output\")\n",
        "\n",
        "  if res_index == 0: label='non_science'\n",
        "  if res_index == 1: label='reagent'\n",
        "  if res_index == 2: label='drug'\n",
        "  if res_index == 3: label='protein'\n",
        "  if res_index == 4: label='cell'\n",
        "  if res_index == 5: label='antibiotic'\n",
        "\n",
        "  test_predictions.append(label)"
      ],
      "execution_count": 68,
      "outputs": []
    },
    {
      "cell_type": "code",
      "metadata": {
        "id": "vJi6bI3GKNmW"
      },
      "source": [
        "# get the true labels from test dataset\n",
        "true_labels = test_dataset_df['label'].tolist()"
      ],
      "execution_count": 70,
      "outputs": []
    },
    {
      "cell_type": "code",
      "metadata": {
        "id": "AnjG31MuOX_M"
      },
      "source": [
        "assert len(true_labels) == len(test_predictions)"
      ],
      "execution_count": 71,
      "outputs": []
    },
    {
      "cell_type": "code",
      "metadata": {
        "colab": {
          "base_uri": "https://localhost:8080/",
          "height": 35
        },
        "id": "2iGdY69XObhq",
        "outputId": "70aa6b13-315a-43c2-bf8f-f7b08a152eb4"
      },
      "source": [
        "true_labels[100]"
      ],
      "execution_count": 74,
      "outputs": [
        {
          "output_type": "execute_result",
          "data": {
            "application/vnd.google.colaboratory.intrinsic+json": {
              "type": "string"
            },
            "text/plain": [
              "'cell'"
            ]
          },
          "metadata": {
            "tags": []
          },
          "execution_count": 74
        }
      ]
    },
    {
      "cell_type": "code",
      "metadata": {
        "colab": {
          "base_uri": "https://localhost:8080/",
          "height": 35
        },
        "id": "4nrwWaQNOdAJ",
        "outputId": "7d641096-9867-462c-a808-54114a629fdd"
      },
      "source": [
        "test_predictions[100]"
      ],
      "execution_count": 75,
      "outputs": [
        {
          "output_type": "execute_result",
          "data": {
            "application/vnd.google.colaboratory.intrinsic+json": {
              "type": "string"
            },
            "text/plain": [
              "'cell'"
            ]
          },
          "metadata": {
            "tags": []
          },
          "execution_count": 75
        }
      ]
    },
    {
      "cell_type": "markdown",
      "metadata": {
        "id": "W4j6Ew59MVsE"
      },
      "source": [
        "## Confusion Metrix"
      ]
    },
    {
      "cell_type": "code",
      "metadata": {
        "id": "4eBEMACJKNeF"
      },
      "source": [
        "from sklearn.metrics import confusion_matrix"
      ],
      "execution_count": 76,
      "outputs": []
    },
    {
      "cell_type": "code",
      "metadata": {
        "id": "N-w7I1LNMOBN"
      },
      "source": [
        "confusion = confusion_matrix(y_true=true_labels, \n",
        "                             y_pred=test_predictions, \n",
        "                             labels=['non_science', 'reagent', 'drug', 'protein', 'cell', 'antibiotic'])"
      ],
      "execution_count": 77,
      "outputs": []
    },
    {
      "cell_type": "code",
      "metadata": {
        "colab": {
          "base_uri": "https://localhost:8080/"
        },
        "id": "ysAi7bOtOlTf",
        "outputId": "5c9cffa2-0867-4da4-d711-4c34c7d52d52"
      },
      "source": [
        "print('Confusion Matrix\\n')\n",
        "print(confusion)"
      ],
      "execution_count": 78,
      "outputs": [
        {
          "output_type": "stream",
          "text": [
            "Confusion Matrix\n",
            "\n",
            "[[278   6   2   1   1   1]\n",
            " [  4  32  11   3   0   2]\n",
            " [  0   6  38   1   4   4]\n",
            " [  2   2   2  78   5   1]\n",
            " [  1   2   1   2  59   0]\n",
            " [  0   0   4   0   1  48]]\n"
          ],
          "name": "stdout"
        }
      ]
    },
    {
      "cell_type": "code",
      "metadata": {
        "id": "FcUqmjxLMN6E"
      },
      "source": [
        "from sklearn.metrics import accuracy_score, precision_score, recall_score, f1_score"
      ],
      "execution_count": 79,
      "outputs": []
    },
    {
      "cell_type": "code",
      "metadata": {
        "colab": {
          "base_uri": "https://localhost:8080/"
        },
        "id": "mnHcfXhMMN0Q",
        "outputId": "2546568f-44e4-44da-ae9a-49b0f1e5f993"
      },
      "source": [
        "print('\\nAccuracy: {:.2f}\\n'.format(accuracy_score(true_labels, test_predictions)))\n",
        "\n",
        "print('Micro Precision: {:.2f}'.format(precision_score(true_labels, test_predictions, average='micro')))\n",
        "print('Micro Recall: {:.2f}'.format(recall_score(true_labels, test_predictions, average='micro')))\n",
        "print('Micro F1-score: {:.2f}\\n'.format(f1_score(true_labels, test_predictions, average='micro')))\n",
        "\n",
        "print('Macro Precision: {:.2f}'.format(precision_score(true_labels, test_predictions, average='macro')))\n",
        "print('Macro Recall: {:.2f}'.format(recall_score(true_labels, test_predictions, average='macro')))\n",
        "print('Macro F1-score: {:.2f}\\n'.format(f1_score(true_labels, test_predictions, average='macro')))\n",
        "\n",
        "print('Weighted Precision: {:.2f}'.format(precision_score(true_labels, test_predictions, average='weighted')))\n",
        "print('Weighted Recall: {:.2f}'.format(recall_score(true_labels, test_predictions, average='weighted')))\n",
        "print('Weighted F1-score: {:.2f}'.format(f1_score(true_labels, test_predictions, average='weighted')))\n"
      ],
      "execution_count": 80,
      "outputs": [
        {
          "output_type": "stream",
          "text": [
            "\n",
            "Accuracy: 0.89\n",
            "\n",
            "Micro Precision: 0.89\n",
            "Micro Recall: 0.89\n",
            "Micro F1-score: 0.89\n",
            "\n",
            "Macro Precision: 0.82\n",
            "Macro Recall: 0.83\n",
            "Macro F1-score: 0.82\n",
            "\n",
            "Weighted Precision: 0.89\n",
            "Weighted Recall: 0.89\n",
            "Weighted F1-score: 0.89\n"
          ],
          "name": "stdout"
        }
      ]
    },
    {
      "cell_type": "code",
      "metadata": {
        "colab": {
          "base_uri": "https://localhost:8080/"
        },
        "id": "ObfP2ikZMNv3",
        "outputId": "c672f9f3-6fdf-4939-fc25-5823e2b8dc8c"
      },
      "source": [
        "from sklearn.metrics import classification_report\n",
        "\n",
        "print('\\nClassification Report\\n')\n",
        "print(classification_report(true_labels, test_predictions))"
      ],
      "execution_count": 86,
      "outputs": [
        {
          "output_type": "stream",
          "text": [
            "\n",
            "Classification Report\n",
            "\n",
            "              precision    recall  f1-score   support\n",
            "\n",
            "  antibiotic       0.86      0.91      0.88        53\n",
            "        cell       0.84      0.91      0.87        65\n",
            "        drug       0.66      0.72      0.68        53\n",
            " non_science       0.98      0.96      0.97       289\n",
            "     protein       0.92      0.87      0.89        90\n",
            "     reagent       0.67      0.62      0.64        52\n",
            "\n",
            "    accuracy                           0.89       602\n",
            "   macro avg       0.82      0.83      0.82       602\n",
            "weighted avg       0.89      0.89      0.89       602\n",
            "\n"
          ],
          "name": "stdout"
        }
      ]
    },
    {
      "cell_type": "code",
      "metadata": {
        "id": "q9Cyuqr_KHas"
      },
      "source": [
        ""
      ],
      "execution_count": null,
      "outputs": []
    }
  ]
}