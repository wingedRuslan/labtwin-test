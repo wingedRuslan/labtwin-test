{
 "cells": [
  {
   "cell_type": "code",
   "execution_count": 75,
   "id": "f28b3f84",
   "metadata": {},
   "outputs": [],
   "source": [
    "import pickle\n",
    "import pandas as pd\n",
    "import numpy as np\n",
    "from sklearn.model_selection import train_test_split\n",
    "\n",
    "# to create deep copies of objects\n",
    "import copy"
   ]
  },
  {
   "cell_type": "code",
   "execution_count": 2,
   "id": "df4cadb8",
   "metadata": {},
   "outputs": [],
   "source": [
    "### Read datasets\n",
    "\n",
    "# read labels.pkl\n",
    "with open(\"source_datasets/labels.pkl\", \"rb\") as f:\n",
    "    labels_dataset = pickle.load(f)\n",
    "    \n",
    "# read terms.pkl\n",
    "with open(\"source_datasets/terms.pkl\", \"rb\") as f:\n",
    "    terms_dataset = pickle.load(f)\n",
    "\n",
    "# read texts.pkl\n",
    "with open(\"source_datasets/texts.pkl\", \"rb\") as f:\n",
    "    texts_dataset = pickle.load(f)"
   ]
  },
  {
   "cell_type": "code",
   "execution_count": 3,
   "id": "0445ebb5",
   "metadata": {},
   "outputs": [
    {
     "data": {
      "text/plain": [
       "11987"
      ]
     },
     "execution_count": 3,
     "metadata": {},
     "output_type": "execute_result"
    }
   ],
   "source": [
    "# get the size of dataset\n",
    "len(labels_dataset)"
   ]
  },
  {
   "cell_type": "code",
   "execution_count": 4,
   "id": "6ab791c4",
   "metadata": {},
   "outputs": [],
   "source": [
    "# make sure consistent sizes for other dataset parts\n",
    "\n",
    "assert len(labels_dataset) == len(terms_dataset)\n",
    "assert len(labels_dataset) == len(texts_dataset)"
   ]
  },
  {
   "cell_type": "code",
   "execution_count": 5,
   "id": "6dd6e562",
   "metadata": {},
   "outputs": [
    {
     "name": "stdout",
     "output_type": "stream",
     "text": [
      "Solithromycin\n",
      "antibiotic\n",
      "[\"Solithromycin (trade name Solithera) is a ketolide antibiotic undergoing clinical development for the treatment of community-acquired pneumonia and other infections.Solithromycin exhibits excellent in vitro activity against a broad spectrum of Gram-positive respiratory tract pathogens, including macrolide-resistant strains.  Solithromycin has activity against most common respiratory Gram-positive and fastidious Gram-negative pathogens, and is being evaluated for its utility in treating gonorrhea.\\n\\n\\n== Pre-clinical studies ==\\nAn in vivo pre-clinical study performed by Jeffrey Keelan done in sheep may provide a prophylactic approach for intrauterine infections during pregnancy. This study was carried out by administering solithromycin to pregnant sheep, resulting in effective concentrations greater than 30 ng/ml in the fetal plasma, maternal plasma and amniotic fluid. A single maternal dose maintained these concentrations for over 12 hours.\\n\\n\\n== Clinical trials ==\\nMay 2011: solithromycin is in a Phase 2 clinical trial for serious community-acquired bacterial pneumonia and in a Phase 1 clinical trial with an intravenous formulation.\\nSeptember 2011: solithromycin demonstrated comparable efficacy to levofloxacin with reduced adverse events in Phase 2 trial in people with community-acquired pneumonia\\nJanuary 2015: in a Phase 3 clinical trial for community-acquired bacterial pneumonia, solithromycin administered orally demonstrated statistical non-inferiority to the fluoroquinolone moxifloxacin.\\nJuly 2015: patient enrollment for the second Phase 3 clinical trial (Solitaire IV) for community-acquired bacterial pneumonia was completed with results expected in Q4 2015.\\nOct 2015: IV to oral solithromycin demonstrated statistical non-inferiority to IV to oral moxifloxacin in adults with community-acquired bacterial pneumonia.\\nJuly 2016: Cempra announced FDA acceptance of IV and oral formulations of Solithera (solithromycin) new drug applications for the treatment of community-acquired bacterial pneumonia.\\n\\n\\n== Structure ==\\nX-ray crystallography studies have shown solithromycin, the first fluoroketolide in clinical development, has a third region of interactions with the bacterial ribosome, as compared with two binding sites for other ketolides.\\nThe only previously marketed ketolide, telithromycin, suffers from rare but serious side effects.  Recent studies have shown this to be likely due to the presence of the pyridine-imidazole group of the telithromycin side chain acting as an antagonist towards various nicotinic acetylcholine receptors. Solithromycin differs from telithromycin because the side chain does not significantly antagonize nicotinic acetylcholine receptors. Instead of the pyridine-imidazole group used on telithromycin, this molecule has a triazole-phenylamine moiety.\\n\\n\\n== Mechanism of action ==\\nSolithromycin inhibits bacterial translation by binding to the 23S ribosomal RNA, preventing the offending bacteria from synthesizing proteins.\\n\\n\\n== Side effects ==\\nDuring a clinical study, some patients presented with elevated liver enzymes, which can be indicative of hepatotoxicity. This prompted the FDA Antimicrobial Drugs Advisory Committee to vote that the risk to the liver has not been adequately characterized and that further studies need to be conducted. To this extent, the FDA requires a 9,000 patient safety trial as well as restricting the drug for patients with limited options.\\n\\n\\n== Development ==\\nIn 2008, investigational new drug applications for solithromycin capsules and an intravenous formulation were submitted. From studies of pharmacokinetics, safety, and efficacy several issues were found. There is variable absorption which can result in subtherapeutic drug concentrations and even therapy failure. Additionally, there are significant drug-drug interactions affecting solithromycin concentrations as well the concentrations of the offending drugs. There is also a narrow therapeutic margin which can make this drug challenging to dose.\\n\\n\\n== Commercial aspects ==\\nCempra's general plan is to develop solithromycin develop products through late stage clinical trials and sell them to their hospital based sales force or through partnerships, which would need negotiations with larger pharmaceutical companies. There are several manufacturing plants used such as Wockhardt Limited and Hospira Incorporated manufacturing facilities as well as Uquifa Laboratories, an alternative GMP facility.\\n\\n\\n== Intellectual property ==\\nDue to the fact that bringing new products to the market takes a significant investment of time and money, companies place considerable importance on patent protection for new products. Solithromycin is a new chemical entity from the macrolide library of compounds that were licensed by Optimer. It is covered by a series of patents and patent applications which claim the composition of matter of solithromycin. There are also patents surrounding the synthesis and purification of this substance. For example, patent EP3190122 A1 presents a novel, efficient route of synthesis that bypasses the need for chromatographic purification which saves time.\\n\\n\\n== References ==\\n\\n\\n== Further reading ==\\n[1]\"]\n"
     ]
    }
   ],
   "source": [
    "# show a random sample to get a feeling of data\n",
    "print(terms_dataset[100])\n",
    "print(labels_dataset[100])\n",
    "print(texts_dataset[100])"
   ]
  },
  {
   "cell_type": "markdown",
   "id": "87484519",
   "metadata": {},
   "source": [
    "## Exploratory analysis and Dataset Preparation"
   ]
  },
  {
   "cell_type": "code",
   "execution_count": 6,
   "id": "47063eef",
   "metadata": {},
   "outputs": [],
   "source": [
    "# check elements type in labels_dataset\n",
    "for id_index in range(len(labels_dataset)):\n",
    "    if not isinstance(labels_dataset[id_index], str):\n",
    "        print(\"In labels_dataset elements type is not consistent (not always str): \", id_index)\n",
    "\n",
    "# check elements type in terms_dataset \n",
    "for id_index in range(len(terms_dataset)):\n",
    "    if not isinstance(terms_dataset[id_index], str):\n",
    "        print(\"In terms_dataset elements type is not consistent (not always str): \", id_index)\n",
    "        \n",
    "# check elements type in texts_dataset \n",
    "for id_index in range(len(texts_dataset)):\n",
    "    if not isinstance(texts_dataset[id_index], list):\n",
    "        print(\"In texts_dataset elements type is not consistent (not always list): \", id_index)"
   ]
  },
  {
   "cell_type": "code",
   "execution_count": 7,
   "id": "a6912c9a",
   "metadata": {},
   "outputs": [],
   "source": [
    "# problem - text_dataset is of form list of lists\n",
    "\n",
    "# check that there is just one string in one sample\n",
    "for id_index in range(len(texts_dataset)):\n",
    "    \n",
    "    if len(texts_dataset[id_index]) != 1:\n",
    "        print(\"There are more than 1 element in texts_dataset, index: \", id_index)\n",
    "        \n",
    "# indeed each sample in texts_dataset has just one element - string(text)"
   ]
  },
  {
   "cell_type": "code",
   "execution_count": 8,
   "id": "362e164d",
   "metadata": {},
   "outputs": [],
   "source": [
    "# transform text_dataset from list of lists(of size 1) --> list of strings\n",
    "texts_dataset = [texts_dataset[id_index][0] for id_index in range(len(texts_dataset))]"
   ]
  },
  {
   "cell_type": "code",
   "execution_count": 9,
   "id": "16eb3839",
   "metadata": {},
   "outputs": [],
   "source": [
    "### lower case samples in every source dataset (e.g. easier for duplicates detection)\n",
    "\n",
    "texts_dataset = [texts_dataset[id_index].lower() for id_index in range(len(texts_dataset))]\n",
    "terms_dataset = [terms_dataset[id_index].lower() for id_index in range(len(terms_dataset))]\n",
    "labels_dataset = [labels_dataset[id_index].lower() for id_index in range(len(labels_dataset))]"
   ]
  },
  {
   "cell_type": "code",
   "execution_count": 10,
   "id": "21bbaa4e",
   "metadata": {},
   "outputs": [],
   "source": [
    "### Create pandas DF for data exploration\n",
    "\n",
    "# create a dict for df\n",
    "tmp_df = {\n",
    "            'term':terms_dataset,\n",
    "            'label':labels_dataset,\n",
    "            'text':texts_dataset\n",
    "           }\n",
    "\n",
    "\n",
    "# create DataFrame\n",
    "general_dataset_df = pd.DataFrame(tmp_df)"
   ]
  },
  {
   "cell_type": "code",
   "execution_count": 11,
   "id": "7aeb3c18",
   "metadata": {},
   "outputs": [
    {
     "data": {
      "text/plain": [
       "(11987, 3)"
      ]
     },
     "execution_count": 11,
     "metadata": {},
     "output_type": "execute_result"
    }
   ],
   "source": [
    "# check the shape of the dataset\n",
    "general_dataset_df.shape"
   ]
  },
  {
   "cell_type": "code",
   "execution_count": 12,
   "id": "10fb560b",
   "metadata": {},
   "outputs": [],
   "source": [
    "# check that dimensions align with source dataset\n",
    "assert general_dataset_df.shape[0] == len(labels_dataset)"
   ]
  },
  {
   "cell_type": "code",
   "execution_count": 13,
   "id": "d90f58d1",
   "metadata": {},
   "outputs": [
    {
     "data": {
      "text/html": [
       "<div>\n",
       "<style scoped>\n",
       "    .dataframe tbody tr th:only-of-type {\n",
       "        vertical-align: middle;\n",
       "    }\n",
       "\n",
       "    .dataframe tbody tr th {\n",
       "        vertical-align: top;\n",
       "    }\n",
       "\n",
       "    .dataframe thead th {\n",
       "        text-align: right;\n",
       "    }\n",
       "</style>\n",
       "<table border=\"1\" class=\"dataframe\">\n",
       "  <thead>\n",
       "    <tr style=\"text-align: right;\">\n",
       "      <th></th>\n",
       "      <th>term</th>\n",
       "      <th>label</th>\n",
       "      <th>text</th>\n",
       "    </tr>\n",
       "  </thead>\n",
       "  <tbody>\n",
       "    <tr>\n",
       "      <th>0</th>\n",
       "      <td>celesticetin</td>\n",
       "      <td>antibiotic</td>\n",
       "      <td>no results</td>\n",
       "    </tr>\n",
       "    <tr>\n",
       "      <th>1</th>\n",
       "      <td>aminocoumarin resistant gyrb</td>\n",
       "      <td>antibiotic</td>\n",
       "      <td>dna gyrase, or simply gyrase, is an enzyme wit...</td>\n",
       "    </tr>\n",
       "    <tr>\n",
       "      <th>2</th>\n",
       "      <td>bpi</td>\n",
       "      <td>antibiotic</td>\n",
       "      <td>disambiguationerror</td>\n",
       "    </tr>\n",
       "    <tr>\n",
       "      <th>3</th>\n",
       "      <td>axyxy-oprz</td>\n",
       "      <td>antibiotic</td>\n",
       "      <td>no results</td>\n",
       "    </tr>\n",
       "    <tr>\n",
       "      <th>4</th>\n",
       "      <td>ant(2'')</td>\n",
       "      <td>antibiotic</td>\n",
       "      <td>ant-man and the wasp: quantumania is an upcomi...</td>\n",
       "    </tr>\n",
       "    <tr>\n",
       "      <th>5</th>\n",
       "      <td>netilmicin</td>\n",
       "      <td>antibiotic</td>\n",
       "      <td>netilmicin is a member of the aminoglycoside f...</td>\n",
       "    </tr>\n",
       "    <tr>\n",
       "      <th>6</th>\n",
       "      <td>carbapenem</td>\n",
       "      <td>antibiotic</td>\n",
       "      <td>carbapenems are a class of highly effective an...</td>\n",
       "    </tr>\n",
       "    <tr>\n",
       "      <th>7</th>\n",
       "      <td>g418</td>\n",
       "      <td>antibiotic</td>\n",
       "      <td>g418 (geneticin) is an aminoglycoside antibiot...</td>\n",
       "    </tr>\n",
       "    <tr>\n",
       "      <th>8</th>\n",
       "      <td>daptomycin resistant liar</td>\n",
       "      <td>antibiotic</td>\n",
       "      <td>no results</td>\n",
       "    </tr>\n",
       "    <tr>\n",
       "      <th>9</th>\n",
       "      <td>tobramycin</td>\n",
       "      <td>antibiotic</td>\n",
       "      <td>tobramycin is an aminoglycoside antibiotic der...</td>\n",
       "    </tr>\n",
       "  </tbody>\n",
       "</table>\n",
       "</div>"
      ],
      "text/plain": [
       "                           term       label  \\\n",
       "0                  celesticetin  antibiotic   \n",
       "1  aminocoumarin resistant gyrb  antibiotic   \n",
       "2                           bpi  antibiotic   \n",
       "3                    axyxy-oprz  antibiotic   \n",
       "4                      ant(2'')  antibiotic   \n",
       "5                    netilmicin  antibiotic   \n",
       "6                    carbapenem  antibiotic   \n",
       "7                          g418  antibiotic   \n",
       "8     daptomycin resistant liar  antibiotic   \n",
       "9                    tobramycin  antibiotic   \n",
       "\n",
       "                                                text  \n",
       "0                                         no results  \n",
       "1  dna gyrase, or simply gyrase, is an enzyme wit...  \n",
       "2                                disambiguationerror  \n",
       "3                                         no results  \n",
       "4  ant-man and the wasp: quantumania is an upcomi...  \n",
       "5  netilmicin is a member of the aminoglycoside f...  \n",
       "6  carbapenems are a class of highly effective an...  \n",
       "7  g418 (geneticin) is an aminoglycoside antibiot...  \n",
       "8                                         no results  \n",
       "9  tobramycin is an aminoglycoside antibiotic der...  "
      ]
     },
     "execution_count": 13,
     "metadata": {},
     "output_type": "execute_result"
    }
   ],
   "source": [
    "# show 10 data samples\n",
    "general_dataset_df.head(10)"
   ]
  },
  {
   "cell_type": "markdown",
   "id": "61bd1cee",
   "metadata": {},
   "source": [
    "**Observation:** already some incorrect data points are displayed (e.g. \"No Results\", \"DisambiguationError\") - have to be removed"
   ]
  },
  {
   "cell_type": "markdown",
   "id": "c78845f1",
   "metadata": {},
   "source": [
    "### Check for duplicates with DF"
   ]
  },
  {
   "cell_type": "code",
   "execution_count": 14,
   "id": "ce14cba3",
   "metadata": {},
   "outputs": [
    {
     "data": {
      "text/plain": [
       "term     11229\n",
       "label        6\n",
       "text      8481\n",
       "dtype: int64"
      ]
     },
     "execution_count": 14,
     "metadata": {},
     "output_type": "execute_result"
    }
   ],
   "source": [
    "# count distinct observations row-wise\n",
    "general_dataset_df.nunique(axis=0)"
   ]
  },
  {
   "cell_type": "code",
   "execution_count": 15,
   "id": "330ee55a",
   "metadata": {},
   "outputs": [
    {
     "data": {
      "text/plain": [
       "11229"
      ]
     },
     "execution_count": 15,
     "metadata": {},
     "output_type": "execute_result"
    }
   ],
   "source": [
    "# num of distinct values in a column ('term')\n",
    "general_dataset_df['term'].nunique()"
   ]
  },
  {
   "cell_type": "code",
   "execution_count": 16,
   "id": "f024f9fa",
   "metadata": {},
   "outputs": [
    {
     "data": {
      "text/plain": [
       "8481"
      ]
     },
     "execution_count": 16,
     "metadata": {},
     "output_type": "execute_result"
    }
   ],
   "source": [
    "# num of distinct values in a column ('text')\n",
    "general_dataset_df['text'].nunique()"
   ]
  },
  {
   "cell_type": "code",
   "execution_count": 17,
   "id": "faeda935",
   "metadata": {},
   "outputs": [
    {
     "data": {
      "text/html": [
       "<div>\n",
       "<style scoped>\n",
       "    .dataframe tbody tr th:only-of-type {\n",
       "        vertical-align: middle;\n",
       "    }\n",
       "\n",
       "    .dataframe tbody tr th {\n",
       "        vertical-align: top;\n",
       "    }\n",
       "\n",
       "    .dataframe thead th {\n",
       "        text-align: right;\n",
       "    }\n",
       "</style>\n",
       "<table border=\"1\" class=\"dataframe\">\n",
       "  <thead>\n",
       "    <tr style=\"text-align: right;\">\n",
       "      <th></th>\n",
       "      <th>term</th>\n",
       "      <th>label</th>\n",
       "      <th>text</th>\n",
       "    </tr>\n",
       "  </thead>\n",
       "  <tbody>\n",
       "    <tr>\n",
       "      <th>102</th>\n",
       "      <td>antibiotic sensitive peptidyl transferase (23s...</td>\n",
       "      <td>antibiotic</td>\n",
       "      <td>a transfer rna (abbreviated trna and formerly ...</td>\n",
       "    </tr>\n",
       "    <tr>\n",
       "      <th>119</th>\n",
       "      <td>antibiotic sensitive dihydropteroate synthase</td>\n",
       "      <td>antibiotic</td>\n",
       "      <td>trimethoprim (tmp) is an antibiotic used mainl...</td>\n",
       "    </tr>\n",
       "    <tr>\n",
       "      <th>120</th>\n",
       "      <td>cfr 23s ribosomal rna methyltransferase</td>\n",
       "      <td>antibiotic</td>\n",
       "      <td>methyltransferases are a large group of enzyme...</td>\n",
       "    </tr>\n",
       "    <tr>\n",
       "      <th>131</th>\n",
       "      <td>abc-f atp-binding cassette ribosomal protectio...</td>\n",
       "      <td>antibiotic</td>\n",
       "      <td>no results</td>\n",
       "    </tr>\n",
       "    <tr>\n",
       "      <th>132</th>\n",
       "      <td>abc-f atp-binding cassette ribosomal protectio...</td>\n",
       "      <td>antibiotic</td>\n",
       "      <td>no results</td>\n",
       "    </tr>\n",
       "    <tr>\n",
       "      <th>...</th>\n",
       "      <td>...</td>\n",
       "      <td>...</td>\n",
       "      <td>...</td>\n",
       "    </tr>\n",
       "    <tr>\n",
       "      <th>9482</th>\n",
       "      <td>windowbase</td>\n",
       "      <td>non_science</td>\n",
       "      <td>windowbase was a database management system cr...</td>\n",
       "    </tr>\n",
       "    <tr>\n",
       "      <th>10081</th>\n",
       "      <td>st. moritz library</td>\n",
       "      <td>non_science</td>\n",
       "      <td>bibliothek st. moritz (in english st. moritz l...</td>\n",
       "    </tr>\n",
       "    <tr>\n",
       "      <th>11384</th>\n",
       "      <td>hyalospectra grisea</td>\n",
       "      <td>non_science</td>\n",
       "      <td>hyalospectra grisea is a moth in the family dr...</td>\n",
       "    </tr>\n",
       "    <tr>\n",
       "      <th>11486</th>\n",
       "      <td>carum</td>\n",
       "      <td>non_science</td>\n",
       "      <td>carum is a genus of about 20 species of flower...</td>\n",
       "    </tr>\n",
       "    <tr>\n",
       "      <th>11762</th>\n",
       "      <td>nobuaki yanagida</td>\n",
       "      <td>non_science</td>\n",
       "      <td>nobuaki yanagida (柳田 伸明, yanagida nobuaki, bor...</td>\n",
       "    </tr>\n",
       "  </tbody>\n",
       "</table>\n",
       "<p>751 rows × 3 columns</p>\n",
       "</div>"
      ],
      "text/plain": [
       "                                                    term        label  \\\n",
       "102    antibiotic sensitive peptidyl transferase (23s...   antibiotic   \n",
       "119        antibiotic sensitive dihydropteroate synthase   antibiotic   \n",
       "120              cfr 23s ribosomal rna methyltransferase   antibiotic   \n",
       "131    abc-f atp-binding cassette ribosomal protectio...   antibiotic   \n",
       "132    abc-f atp-binding cassette ribosomal protectio...   antibiotic   \n",
       "...                                                  ...          ...   \n",
       "9482                                          windowbase  non_science   \n",
       "10081                                 st. moritz library  non_science   \n",
       "11384                                hyalospectra grisea  non_science   \n",
       "11486                                              carum  non_science   \n",
       "11762                                   nobuaki yanagida  non_science   \n",
       "\n",
       "                                                    text  \n",
       "102    a transfer rna (abbreviated trna and formerly ...  \n",
       "119    trimethoprim (tmp) is an antibiotic used mainl...  \n",
       "120    methyltransferases are a large group of enzyme...  \n",
       "131                                           no results  \n",
       "132                                           no results  \n",
       "...                                                  ...  \n",
       "9482   windowbase was a database management system cr...  \n",
       "10081  bibliothek st. moritz (in english st. moritz l...  \n",
       "11384  hyalospectra grisea is a moth in the family dr...  \n",
       "11486  carum is a genus of about 20 species of flower...  \n",
       "11762  nobuaki yanagida (柳田 伸明, yanagida nobuaki, bor...  \n",
       "\n",
       "[751 rows x 3 columns]"
      ]
     },
     "execution_count": 17,
     "metadata": {},
     "output_type": "execute_result"
    }
   ],
   "source": [
    "# Show rows that are duplicates (Mark duplicates as True except for the first occurrence.)\n",
    "general_dataset_df[general_dataset_df.duplicated()]"
   ]
  },
  {
   "cell_type": "markdown",
   "id": "63c40d1d",
   "metadata": {},
   "source": [
    "**Observation:** There are duplicates in the dataset. Need to remove them from dataset to make sure that there are only unique elements in train-val-test for ML model."
   ]
  },
  {
   "cell_type": "markdown",
   "id": "a0f16c07",
   "metadata": {},
   "source": [
    "### Remove duplicates in the source datasets"
   ]
  },
  {
   "cell_type": "code",
   "execution_count": 18,
   "id": "1c3bf07b",
   "metadata": {},
   "outputs": [
    {
     "name": "stdout",
     "output_type": "stream",
     "text": [
      "Num of duplicates in terms_dataset:  758\n"
     ]
    }
   ],
   "source": [
    "print(\"Num of duplicates in terms_dataset: \", len(terms_dataset)-len(set(terms_dataset)))"
   ]
  },
  {
   "cell_type": "code",
   "execution_count": 19,
   "id": "c2affab7",
   "metadata": {},
   "outputs": [],
   "source": [
    "### Create complement data structure for processed dataset\n",
    "\n",
    "# key - term, values = {'label', 'text'}\n",
    "general_dataset_proc = dict()"
   ]
  },
  {
   "cell_type": "code",
   "execution_count": 20,
   "id": "4d2960f4",
   "metadata": {},
   "outputs": [
    {
     "name": "stdout",
     "output_type": "stream",
     "text": [
      "Num.of duplicates in terms_dataset:  758\n"
     ]
    }
   ],
   "source": [
    "### Remove duplicates in terms_dataset\n",
    "\n",
    "# keep track of num of duplicates in terms_dataset\n",
    "COUNT_TERM_DUPLICATES = 0\n",
    "\n",
    "# keep only uniques terms in general_dataset_proc\n",
    "for id_index in range(len(terms_dataset)):\n",
    "    \n",
    "    curr_term = terms_dataset[id_index]\n",
    "    \n",
    "    if curr_term not in general_dataset_proc: \n",
    "        general_dataset_proc[curr_term] = {\n",
    "            'label': labels_dataset[id_index],\n",
    "            'text': texts_dataset[id_index]\n",
    "        }\n",
    "    else:\n",
    "        # case when curr_term is a duplicate (there is already existing term)\n",
    "        COUNT_TERM_DUPLICATES += 1\n",
    "\n",
    "print(\"Num.of duplicates in terms_dataset: \", COUNT_TERM_DUPLICATES)"
   ]
  },
  {
   "cell_type": "code",
   "execution_count": 21,
   "id": "775b8e69",
   "metadata": {},
   "outputs": [
    {
     "name": "stdout",
     "output_type": "stream",
     "text": [
      "Num. of duplicates among texts:  2749\n"
     ]
    }
   ],
   "source": [
    "### Remove duplicates in texts_dataset\n",
    "\n",
    "# create deep copy, remove elements directly in general_dataset_proc\n",
    "general_dataset_proc_copy = copy.deepcopy(general_dataset_proc)\n",
    "\n",
    "# keep track of duplicates in texts\n",
    "COUNT_TEXT_DUPLICATES = 0\n",
    "\n",
    "# save unique texts to a set \n",
    "text_unique = set()\n",
    "\n",
    "# remove duplicates in texts\n",
    "for term_key in general_dataset_proc_copy:\n",
    "    \n",
    "    curr_text = general_dataset_proc[term_key]['text']\n",
    "    \n",
    "    if curr_text not in text_unique: \n",
    "        text_unique.add(curr_text)\n",
    "    else:\n",
    "        # case when curr_text is a duplicate (there is the same text already in the dataset)\n",
    "        COUNT_TEXT_DUPLICATES += 1\n",
    "        \n",
    "        # remove entry if text is duplicate\n",
    "        del general_dataset_proc[term_key]\n",
    "        \n",
    "print(\"Num. of duplicates among texts: \", COUNT_TEXT_DUPLICATES)"
   ]
  },
  {
   "cell_type": "code",
   "execution_count": 22,
   "id": "2db14038",
   "metadata": {},
   "outputs": [
    {
     "data": {
      "text/plain": [
       "8480"
      ]
     },
     "execution_count": 22,
     "metadata": {},
     "output_type": "execute_result"
    }
   ],
   "source": [
    "# print number of sample in dataset after duplicates were removed\n",
    "len(general_dataset_proc)"
   ]
  },
  {
   "cell_type": "markdown",
   "id": "8c430d24",
   "metadata": {},
   "source": [
    "### Remove outliers with Z-Score method\n",
    "\n",
    "Get the length of each text. Remove samples with Text length outside of 3 standard deviations."
   ]
  },
  {
   "cell_type": "code",
   "execution_count": 23,
   "id": "9f850e4d",
   "metadata": {},
   "outputs": [],
   "source": [
    "# get the length of each text and keep in one array\n",
    "text_lengths = np.array([len(general_dataset_proc[term_key]['text']) for term_key in general_dataset_proc])"
   ]
  },
  {
   "cell_type": "code",
   "execution_count": 24,
   "id": "a37a2f89",
   "metadata": {},
   "outputs": [
    {
     "name": "stdout",
     "output_type": "stream",
     "text": [
      "The size of valid_text_lengths:  8276\n"
     ]
    }
   ],
   "source": [
    "# lengths of text that are not outliers\n",
    "valid_text_lengths = text_lengths[abs(text_lengths - np.mean(text_lengths)) < 3 * np.std(text_lengths)]\n",
    "\n",
    "print(\"The size of valid_text_lengths: \", len(valid_text_lengths))"
   ]
  },
  {
   "cell_type": "code",
   "execution_count": 25,
   "id": "bb752793",
   "metadata": {},
   "outputs": [
    {
     "name": "stdout",
     "output_type": "stream",
     "text": [
      "The size of outliers_text_lengths:  204\n",
      "The min size is  35851\n"
     ]
    }
   ],
   "source": [
    "# text lengths that are outliers\n",
    "outliers_text_lengths = text_lengths[abs(text_lengths - np.mean(text_lengths)) > 3 * np.std(text_lengths)]\n",
    "\n",
    "print(\"The size of outliers_text_lengths: \", len(outliers_text_lengths))\n",
    "print(\"The min size is \", min(outliers_text_lengths))"
   ]
  },
  {
   "cell_type": "code",
   "execution_count": 26,
   "id": "bf54cd8d",
   "metadata": {},
   "outputs": [],
   "source": [
    "### Remove outliers\n",
    "\n",
    "# create a deep copy, modify general_dataset_proc directly\n",
    "general_dataset_proc_copy = copy.deepcopy(general_dataset_proc)\n",
    "\n",
    "# keep samples with valid text length\n",
    "for term_key in general_dataset_proc_copy:\n",
    "    \n",
    "    curr_text = general_dataset_proc[term_key]['text']\n",
    "    \n",
    "    if len(curr_text) in outliers_text_lengths:\n",
    "        del general_dataset_proc[term_key]"
   ]
  },
  {
   "cell_type": "code",
   "execution_count": 27,
   "id": "534c5eeb",
   "metadata": {},
   "outputs": [],
   "source": [
    "### Remove samples with empty text (same procedure as with ourliers removal)\n",
    "\n",
    "general_dataset_proc_copy = copy.deepcopy(general_dataset_proc)\n",
    "\n",
    "for term_key in general_dataset_proc_copy:\n",
    "    \n",
    "    curr_text = general_dataset_proc[term_key]['text']\n",
    "    \n",
    "    if len(curr_text) < 1:\n",
    "        del general_dataset_proc[term_key]"
   ]
  },
  {
   "cell_type": "code",
   "execution_count": 28,
   "id": "292468ac",
   "metadata": {},
   "outputs": [],
   "source": [
    "### Remove certain samples after manually checking the datasetc (same procedure as with ourliers removal)\n",
    "\n",
    "general_dataset_proc_copy = copy.deepcopy(general_dataset_proc)\n",
    "\n",
    "for term_key in general_dataset_proc_copy:\n",
    "    \n",
    "    curr_text = general_dataset_proc[term_key]['text']\n",
    "    \n",
    "    if curr_text in ['no results', 'disambiguationerror', 'disambiguation error', '\\n== references ==']:\n",
    "        del general_dataset_proc[term_key]"
   ]
  },
  {
   "cell_type": "code",
   "execution_count": 29,
   "id": "d20ca65e",
   "metadata": {},
   "outputs": [
    {
     "name": "stdout",
     "output_type": "stream",
     "text": [
      "The size of the dataset after outlier removal step:  8272\n"
     ]
    }
   ],
   "source": [
    "\n",
    "print(\"The size of the dataset after outlier removal step: \", len(general_dataset_proc))"
   ]
  },
  {
   "cell_type": "markdown",
   "id": "bac6a069",
   "metadata": {},
   "source": [
    "### Display a processed dataset in DF format"
   ]
  },
  {
   "cell_type": "code",
   "execution_count": 30,
   "id": "2559d4fd",
   "metadata": {},
   "outputs": [],
   "source": [
    "### Create pandas DF for data exploration\n",
    "\n",
    "terms_list = []\n",
    "labels_list = []\n",
    "texts_list = []\n",
    "\n",
    "for term_key in general_dataset_proc:\n",
    "    terms_list.append(term_key)\n",
    "    labels_list.append(general_dataset_proc[term_key]['label'])\n",
    "    texts_list.append(general_dataset_proc[term_key]['text'])\n",
    "\n",
    "# create a dict for df\n",
    "tmp_df = {\n",
    "            'term':terms_list,\n",
    "            'label':labels_list,\n",
    "            'text':texts_list\n",
    "           }\n",
    "\n",
    "\n",
    "# create DataFrame\n",
    "general_dataset_df = pd.DataFrame(tmp_df)"
   ]
  },
  {
   "cell_type": "code",
   "execution_count": 31,
   "id": "84bb3e77",
   "metadata": {},
   "outputs": [
    {
     "data": {
      "text/plain": [
       "(8272, 3)"
      ]
     },
     "execution_count": 31,
     "metadata": {},
     "output_type": "execute_result"
    }
   ],
   "source": [
    "general_dataset_df.shape"
   ]
  },
  {
   "cell_type": "code",
   "execution_count": 32,
   "id": "e4b8fc9c",
   "metadata": {},
   "outputs": [
    {
     "data": {
      "text/html": [
       "<div>\n",
       "<style scoped>\n",
       "    .dataframe tbody tr th:only-of-type {\n",
       "        vertical-align: middle;\n",
       "    }\n",
       "\n",
       "    .dataframe tbody tr th {\n",
       "        vertical-align: top;\n",
       "    }\n",
       "\n",
       "    .dataframe thead th {\n",
       "        text-align: right;\n",
       "    }\n",
       "</style>\n",
       "<table border=\"1\" class=\"dataframe\">\n",
       "  <thead>\n",
       "    <tr style=\"text-align: right;\">\n",
       "      <th></th>\n",
       "      <th>term</th>\n",
       "      <th>label</th>\n",
       "      <th>text</th>\n",
       "    </tr>\n",
       "  </thead>\n",
       "  <tbody>\n",
       "    <tr>\n",
       "      <th>0</th>\n",
       "      <td>aminocoumarin resistant gyrb</td>\n",
       "      <td>antibiotic</td>\n",
       "      <td>dna gyrase, or simply gyrase, is an enzyme wit...</td>\n",
       "    </tr>\n",
       "    <tr>\n",
       "      <th>1</th>\n",
       "      <td>ant(2'')</td>\n",
       "      <td>antibiotic</td>\n",
       "      <td>ant-man and the wasp: quantumania is an upcomi...</td>\n",
       "    </tr>\n",
       "    <tr>\n",
       "      <th>2</th>\n",
       "      <td>netilmicin</td>\n",
       "      <td>antibiotic</td>\n",
       "      <td>netilmicin is a member of the aminoglycoside f...</td>\n",
       "    </tr>\n",
       "    <tr>\n",
       "      <th>3</th>\n",
       "      <td>carbapenem</td>\n",
       "      <td>antibiotic</td>\n",
       "      <td>carbapenems are a class of highly effective an...</td>\n",
       "    </tr>\n",
       "    <tr>\n",
       "      <th>4</th>\n",
       "      <td>g418</td>\n",
       "      <td>antibiotic</td>\n",
       "      <td>g418 (geneticin) is an aminoglycoside antibiot...</td>\n",
       "    </tr>\n",
       "    <tr>\n",
       "      <th>5</th>\n",
       "      <td>tobramycin</td>\n",
       "      <td>antibiotic</td>\n",
       "      <td>tobramycin is an aminoglycoside antibiotic der...</td>\n",
       "    </tr>\n",
       "    <tr>\n",
       "      <th>6</th>\n",
       "      <td>azidamfenicol</td>\n",
       "      <td>antibiotic</td>\n",
       "      <td>azidamfenicol is an amphenicol antibiotic, whi...</td>\n",
       "    </tr>\n",
       "    <tr>\n",
       "      <th>7</th>\n",
       "      <td>fluoroquinolone resistant parc</td>\n",
       "      <td>antibiotic</td>\n",
       "      <td>a list of antibiotic resistant bacteria is pro...</td>\n",
       "    </tr>\n",
       "    <tr>\n",
       "      <th>8</th>\n",
       "      <td>pikromycin</td>\n",
       "      <td>antibiotic</td>\n",
       "      <td>pikromycin was studied by brokmann and hekel i...</td>\n",
       "    </tr>\n",
       "    <tr>\n",
       "      <th>9</th>\n",
       "      <td>kanamycin a</td>\n",
       "      <td>antibiotic</td>\n",
       "      <td>kanamycin a, often referred to simply as kanam...</td>\n",
       "    </tr>\n",
       "  </tbody>\n",
       "</table>\n",
       "</div>"
      ],
      "text/plain": [
       "                             term       label  \\\n",
       "0    aminocoumarin resistant gyrb  antibiotic   \n",
       "1                        ant(2'')  antibiotic   \n",
       "2                      netilmicin  antibiotic   \n",
       "3                      carbapenem  antibiotic   \n",
       "4                            g418  antibiotic   \n",
       "5                      tobramycin  antibiotic   \n",
       "6                   azidamfenicol  antibiotic   \n",
       "7  fluoroquinolone resistant parc  antibiotic   \n",
       "8                      pikromycin  antibiotic   \n",
       "9                     kanamycin a  antibiotic   \n",
       "\n",
       "                                                text  \n",
       "0  dna gyrase, or simply gyrase, is an enzyme wit...  \n",
       "1  ant-man and the wasp: quantumania is an upcomi...  \n",
       "2  netilmicin is a member of the aminoglycoside f...  \n",
       "3  carbapenems are a class of highly effective an...  \n",
       "4  g418 (geneticin) is an aminoglycoside antibiot...  \n",
       "5  tobramycin is an aminoglycoside antibiotic der...  \n",
       "6  azidamfenicol is an amphenicol antibiotic, whi...  \n",
       "7  a list of antibiotic resistant bacteria is pro...  \n",
       "8  pikromycin was studied by brokmann and hekel i...  \n",
       "9  kanamycin a, often referred to simply as kanam...  "
      ]
     },
     "execution_count": 32,
     "metadata": {},
     "output_type": "execute_result"
    }
   ],
   "source": [
    "general_dataset_df.head(10)"
   ]
  },
  {
   "cell_type": "code",
   "execution_count": 33,
   "id": "f5eae157",
   "metadata": {},
   "outputs": [
    {
     "data": {
      "text/plain": [
       "term     8272\n",
       "label       6\n",
       "text     8272\n",
       "dtype: int64"
      ]
     },
     "execution_count": 33,
     "metadata": {},
     "output_type": "execute_result"
    }
   ],
   "source": [
    "# Count distinct observations row-wise\n",
    "general_dataset_df.nunique(axis=0)"
   ]
  },
  {
   "cell_type": "code",
   "execution_count": 34,
   "id": "9e72b94c",
   "metadata": {},
   "outputs": [
    {
     "data": {
      "text/html": [
       "<div>\n",
       "<style scoped>\n",
       "    .dataframe tbody tr th:only-of-type {\n",
       "        vertical-align: middle;\n",
       "    }\n",
       "\n",
       "    .dataframe tbody tr th {\n",
       "        vertical-align: top;\n",
       "    }\n",
       "\n",
       "    .dataframe thead th {\n",
       "        text-align: right;\n",
       "    }\n",
       "</style>\n",
       "<table border=\"1\" class=\"dataframe\">\n",
       "  <thead>\n",
       "    <tr style=\"text-align: right;\">\n",
       "      <th></th>\n",
       "      <th>term</th>\n",
       "      <th>label</th>\n",
       "      <th>text</th>\n",
       "    </tr>\n",
       "  </thead>\n",
       "  <tbody>\n",
       "  </tbody>\n",
       "</table>\n",
       "</div>"
      ],
      "text/plain": [
       "Empty DataFrame\n",
       "Columns: [term, label, text]\n",
       "Index: []"
      ]
     },
     "execution_count": 34,
     "metadata": {},
     "output_type": "execute_result"
    }
   ],
   "source": [
    "# Show rows that are duplicates (Mark duplicates as True except for the first occurrence.)\n",
    "general_dataset_df[general_dataset_df.duplicated()]"
   ]
  },
  {
   "cell_type": "markdown",
   "id": "85d555a5",
   "metadata": {},
   "source": [
    "**Observations**: No Duplicates Present in DF"
   ]
  },
  {
   "cell_type": "code",
   "execution_count": 35,
   "id": "7691bc5e",
   "metadata": {},
   "outputs": [
    {
     "data": {
      "text/plain": [
       "non_science    5908\n",
       "protein         659\n",
       "cell            514\n",
       "reagent         437\n",
       "drug            470\n",
       "antibiotic      284\n",
       "Name: label, dtype: int64"
      ]
     },
     "execution_count": 35,
     "metadata": {},
     "output_type": "execute_result"
    }
   ],
   "source": [
    "### Check for class imbalance\n",
    "general_dataset_df['label'].value_counts(sort=False)"
   ]
  },
  {
   "cell_type": "code",
   "execution_count": 38,
   "id": "3cf4ee5e",
   "metadata": {},
   "outputs": [
    {
     "name": "stdout",
     "output_type": "stream",
     "text": [
      "Percentage of *non_science* labels:  0.7142166344294004\n",
      "Percentage of *protein* labels:  0.07966634429400386\n",
      "Percentage of *cell* labels:  0.06213733075435203\n",
      "Percentage of *reagent* labels:  0.05282882011605416\n",
      "Percentage of *drug* labels:  0.056818181818181816\n",
      "Percentage of *antibiotic* labels:  0.03433268858800774\n"
     ]
    }
   ],
   "source": [
    "print(\"Percentage of *non_science* labels: \", 5908 / len(general_dataset_df))\n",
    "print(\"Percentage of *protein* labels: \", 659 / len(general_dataset_df))\n",
    "print(\"Percentage of *cell* labels: \", 514 / len(general_dataset_df))\n",
    "print(\"Percentage of *reagent* labels: \", 437 / len(general_dataset_df))\n",
    "print(\"Percentage of *drug* labels: \", 470 / len(general_dataset_df))\n",
    "print(\"Percentage of *antibiotic* labels: \", 284 / len(general_dataset_df))"
   ]
  },
  {
   "cell_type": "code",
   "execution_count": 39,
   "id": "3fa0a531",
   "metadata": {},
   "outputs": [
    {
     "name": "stdout",
     "output_type": "stream",
     "text": [
      "*non_science* labels:  0.7142166344294004  vc *science* labels:  0.28578336557059963\n"
     ]
    }
   ],
   "source": [
    "print(\"*non_science* labels: \", 5908 / len(general_dataset_df), \" vc *science* labels: \", \n",
    "      (len(general_dataset_df)-5908) / len(general_dataset_df))"
   ]
  },
  {
   "cell_type": "markdown",
   "id": "2bb2e9ce",
   "metadata": {},
   "source": [
    "**Observation**: Clear Labels Imbalance in the dataset. \"science\" labels are underrepresented compared to \"non-science\", especially class \"antibiotic\" is underrepresented. Suggested solution to mitigate this issue is to oversample the underrepresented class or undersample the overrepresented class."
   ]
  },
  {
   "cell_type": "code",
   "execution_count": 61,
   "id": "4fce174e",
   "metadata": {},
   "outputs": [
    {
     "data": {
      "text/plain": [
       "non_science    5908\n",
       "protein         659\n",
       "cell            514\n",
       "reagent         437\n",
       "drug            470\n",
       "antibiotic      284\n",
       "Name: label, dtype: int64"
      ]
     },
     "execution_count": 61,
     "metadata": {},
     "output_type": "execute_result"
    }
   ],
   "source": [
    "### Fixing Labels Imbalance - Problem\n",
    "\n",
    "general_dataset_df['label'].value_counts(sort=False)"
   ]
  },
  {
   "cell_type": "markdown",
   "id": "a1c587dd",
   "metadata": {},
   "source": [
    "### Undersampling overrepresented class"
   ]
  },
  {
   "cell_type": "code",
   "execution_count": 62,
   "id": "5cacce95",
   "metadata": {},
   "outputs": [],
   "source": [
    "non_science_df = general_dataset_df[general_dataset_df['label'] == 'non_science']"
   ]
  },
  {
   "cell_type": "code",
   "execution_count": 63,
   "id": "60563f6c",
   "metadata": {},
   "outputs": [],
   "source": [
    "# random 50% undersampling of the DataFrame without replacement\n",
    "non_science_df = non_science_df.sample(frac=0.5, replace=False, random_state=1)"
   ]
  },
  {
   "cell_type": "code",
   "execution_count": 64,
   "id": "2723ae54",
   "metadata": {},
   "outputs": [
    {
     "data": {
      "text/plain": [
       "non_science    2954\n",
       "Name: label, dtype: int64"
      ]
     },
     "execution_count": 64,
     "metadata": {},
     "output_type": "execute_result"
    }
   ],
   "source": [
    "non_science_df['label'].value_counts(sort=False)"
   ]
  },
  {
   "cell_type": "markdown",
   "id": "5ee72aa8",
   "metadata": {},
   "source": [
    "### Oversampling underrepresented class"
   ]
  },
  {
   "cell_type": "code",
   "execution_count": 65,
   "id": "48ae5d68",
   "metadata": {},
   "outputs": [],
   "source": [
    "antibiotic_df = general_dataset_df[general_dataset_df['label'] == 'antibiotic']"
   ]
  },
  {
   "cell_type": "code",
   "execution_count": 66,
   "id": "0b831006",
   "metadata": {},
   "outputs": [],
   "source": [
    "antibiotic_df = antibiotic_df.sample(frac=2, replace=True, random_state=1)"
   ]
  },
  {
   "cell_type": "code",
   "execution_count": 67,
   "id": "bf335e67",
   "metadata": {},
   "outputs": [
    {
     "data": {
      "text/plain": [
       "antibiotic    568\n",
       "Name: label, dtype: int64"
      ]
     },
     "execution_count": 67,
     "metadata": {},
     "output_type": "execute_result"
    }
   ],
   "source": [
    "antibiotic_df['label'].value_counts(sort=False)"
   ]
  },
  {
   "cell_type": "markdown",
   "id": "0c7f1c51",
   "metadata": {},
   "source": [
    "### Concatanate together"
   ]
  },
  {
   "cell_type": "code",
   "execution_count": 68,
   "id": "db41c371",
   "metadata": {},
   "outputs": [],
   "source": [
    "bal_general_dataset_df = pd.concat([non_science_df, \n",
    "                                   antibiotic_df,\n",
    "                                   general_dataset_df[general_dataset_df['label'] == 'drug'],\n",
    "                                   general_dataset_df[general_dataset_df['label'] == 'reagent'], \n",
    "                                   general_dataset_df[general_dataset_df['label'] == 'cell'], \n",
    "                                   general_dataset_df[general_dataset_df['label'] == 'protein']\n",
    "                                   ])"
   ]
  },
  {
   "cell_type": "code",
   "execution_count": 69,
   "id": "573b535f",
   "metadata": {},
   "outputs": [
    {
     "data": {
      "text/plain": [
       "non_science    2954\n",
       "protein         659\n",
       "cell            514\n",
       "reagent         437\n",
       "drug            470\n",
       "antibiotic      568\n",
       "Name: label, dtype: int64"
      ]
     },
     "execution_count": 69,
     "metadata": {},
     "output_type": "execute_result"
    }
   ],
   "source": [
    "bal_general_dataset_df['label'].value_counts(sort=False)"
   ]
  },
  {
   "cell_type": "code",
   "execution_count": 70,
   "id": "b2f4be3d",
   "metadata": {},
   "outputs": [
    {
     "name": "stdout",
     "output_type": "stream",
     "text": [
      "Percentage of *non_science* labels:  0.5273116744019993\n",
      "Percentage of *protein* labels:  0.11763655837201\n",
      "Percentage of *cell* labels:  0.0917529453766512\n",
      "Percentage of *reagent* labels:  0.07800785433773652\n",
      "Percentage of *drug* labels:  0.08389860764012852\n",
      "Percentage of *antibiotic* labels:  0.10139235987147448\n"
     ]
    }
   ],
   "source": [
    "print(\"Percentage of *non_science* labels: \", 2954 / len(bal_general_dataset_df))\n",
    "print(\"Percentage of *protein* labels: \", 659 / len(bal_general_dataset_df))\n",
    "print(\"Percentage of *cell* labels: \", 514 / len(bal_general_dataset_df))\n",
    "print(\"Percentage of *reagent* labels: \", 437 / len(bal_general_dataset_df))\n",
    "print(\"Percentage of *drug* labels: \", 470 / len(bal_general_dataset_df))\n",
    "print(\"Percentage of *antibiotic* labels: \", 568 / len(bal_general_dataset_df))"
   ]
  },
  {
   "cell_type": "code",
   "execution_count": 71,
   "id": "4e7cfd9c",
   "metadata": {},
   "outputs": [
    {
     "name": "stdout",
     "output_type": "stream",
     "text": [
      "*non_science* labels:  0.5273116744019993  vc *science* labels:  0.4726883255980007\n"
     ]
    }
   ],
   "source": [
    "print(\"*non_science* labels: \", 2954 / len(bal_general_dataset_df), \" vc *science* labels: \", \n",
    "      (len(bal_general_dataset_df)-2954) / len(bal_general_dataset_df))"
   ]
  },
  {
   "cell_type": "markdown",
   "id": "3e853ab5",
   "metadata": {},
   "source": [
    "**Observation**: 50% of samples belonging to class \"non_science\" were removed. This has a shortcoming of data loss. Still after performing undersampling and oversampling the label distributions is not ideal (50% - \"non_science\")."
   ]
  },
  {
   "cell_type": "markdown",
   "id": "30d0bd27",
   "metadata": {},
   "source": [
    "**Future Improvement**: To perfrom well in current multi-classification task it might be better to laverage 2 classifiers, 1st - to separate \"non_science\" labels from \"science\", 2nd - if the label is \"science\", classify text further into scientific labels (num. 5) "
   ]
  },
  {
   "cell_type": "code",
   "execution_count": 72,
   "id": "cd2d4697",
   "metadata": {},
   "outputs": [
    {
     "data": {
      "text/html": [
       "<div>\n",
       "<style scoped>\n",
       "    .dataframe tbody tr th:only-of-type {\n",
       "        vertical-align: middle;\n",
       "    }\n",
       "\n",
       "    .dataframe tbody tr th {\n",
       "        vertical-align: top;\n",
       "    }\n",
       "\n",
       "    .dataframe thead th {\n",
       "        text-align: right;\n",
       "    }\n",
       "</style>\n",
       "<table border=\"1\" class=\"dataframe\">\n",
       "  <thead>\n",
       "    <tr style=\"text-align: right;\">\n",
       "      <th></th>\n",
       "      <th>term</th>\n",
       "      <th>label</th>\n",
       "      <th>text</th>\n",
       "    </tr>\n",
       "  </thead>\n",
       "  <tbody>\n",
       "    <tr>\n",
       "      <th>0</th>\n",
       "      <td>pe(18:1/0:0)</td>\n",
       "      <td>reagent</td>\n",
       "      <td>windows preinstallation environment (also know...</td>\n",
       "    </tr>\n",
       "    <tr>\n",
       "      <th>1</th>\n",
       "      <td>fibrinogen / thrombin topical powder</td>\n",
       "      <td>drug</td>\n",
       "      <td>thrombin (ec 3.4.21.5, fibrinogenase, thrombas...</td>\n",
       "    </tr>\n",
       "    <tr>\n",
       "      <th>2</th>\n",
       "      <td>pancreatic goblet cell</td>\n",
       "      <td>cell</td>\n",
       "      <td>neuroendocrine tumors (nets) are neoplasms tha...</td>\n",
       "    </tr>\n",
       "    <tr>\n",
       "      <th>3</th>\n",
       "      <td>farjad nabi</td>\n",
       "      <td>non_science</td>\n",
       "      <td>farjad nabi (urdu: فرجاد نبی‎) is a pakistani ...</td>\n",
       "    </tr>\n",
       "    <tr>\n",
       "      <th>4</th>\n",
       "      <td>lance rocks</td>\n",
       "      <td>non_science</td>\n",
       "      <td>the lance rocks (82°52′s 48°19′w) are two rock...</td>\n",
       "    </tr>\n",
       "  </tbody>\n",
       "</table>\n",
       "</div>"
      ],
      "text/plain": [
       "                                   term        label  \\\n",
       "0                          pe(18:1/0:0)      reagent   \n",
       "1  fibrinogen / thrombin topical powder         drug   \n",
       "2                pancreatic goblet cell         cell   \n",
       "3                           farjad nabi  non_science   \n",
       "4                           lance rocks  non_science   \n",
       "\n",
       "                                                text  \n",
       "0  windows preinstallation environment (also know...  \n",
       "1  thrombin (ec 3.4.21.5, fibrinogenase, thrombas...  \n",
       "2  neuroendocrine tumors (nets) are neoplasms tha...  \n",
       "3  farjad nabi (urdu: فرجاد نبی‎) is a pakistani ...  \n",
       "4  the lance rocks (82°52′s 48°19′w) are two rock...  "
      ]
     },
     "execution_count": 72,
     "metadata": {},
     "output_type": "execute_result"
    }
   ],
   "source": [
    "# shuffle rows in the dataset multiple times\n",
    "bal_general_dataset_df = bal_general_dataset_df.sample(frac=1).reset_index(drop=True)\n",
    "bal_general_dataset_df = bal_general_dataset_df.sample(frac=1).reset_index(drop=True)\n",
    "\n",
    "bal_general_dataset_df.head()"
   ]
  },
  {
   "cell_type": "code",
   "execution_count": 73,
   "id": "b90bf062",
   "metadata": {},
   "outputs": [
    {
     "data": {
      "text/plain": [
       "non_science    2954\n",
       "protein         659\n",
       "cell            514\n",
       "reagent         437\n",
       "drug            470\n",
       "antibiotic      568\n",
       "Name: label, dtype: int64"
      ]
     },
     "execution_count": 73,
     "metadata": {},
     "output_type": "execute_result"
    }
   ],
   "source": [
    "bal_general_dataset_df['label'].value_counts(sort=False)"
   ]
  },
  {
   "cell_type": "code",
   "execution_count": 79,
   "id": "096a48ec",
   "metadata": {},
   "outputs": [
    {
     "data": {
      "text/plain": [
       "5602"
      ]
     },
     "execution_count": 79,
     "metadata": {},
     "output_type": "execute_result"
    }
   ],
   "source": [
    "len(bal_general_dataset_df)"
   ]
  },
  {
   "cell_type": "code",
   "execution_count": 80,
   "id": "4bb06111",
   "metadata": {},
   "outputs": [
    {
     "data": {
      "text/plain": [
       "0.10746162084969654"
      ]
     },
     "execution_count": 80,
     "metadata": {},
     "output_type": "execute_result"
    }
   ],
   "source": [
    "602 / 5602"
   ]
  },
  {
   "cell_type": "code",
   "execution_count": 122,
   "id": "e2b39ced",
   "metadata": {},
   "outputs": [],
   "source": [
    "# split to train (+val) and test (~10%) datasets\n",
    "train_df, test_df = train_test_split(bal_general_dataset_df, test_size=602)"
   ]
  },
  {
   "cell_type": "code",
   "execution_count": 123,
   "id": "b885f267",
   "metadata": {},
   "outputs": [
    {
     "data": {
      "text/plain": [
       "reagent         385\n",
       "non_science    2665\n",
       "protein         569\n",
       "cell            449\n",
       "drug            417\n",
       "antibiotic      515\n",
       "Name: label, dtype: int64"
      ]
     },
     "execution_count": 123,
     "metadata": {},
     "output_type": "execute_result"
    }
   ],
   "source": [
    "train_df['label'].value_counts(sort=False)"
   ]
  },
  {
   "cell_type": "code",
   "execution_count": 124,
   "id": "48f45c56",
   "metadata": {},
   "outputs": [
    {
     "data": {
      "text/plain": [
       "cell            65\n",
       "non_science    289\n",
       "protein         90\n",
       "antibiotic      53\n",
       "drug            53\n",
       "reagent         52\n",
       "Name: label, dtype: int64"
      ]
     },
     "execution_count": 124,
     "metadata": {},
     "output_type": "execute_result"
    }
   ],
   "source": [
    "test_df['label'].value_counts(sort=False)"
   ]
  },
  {
   "cell_type": "code",
   "execution_count": 125,
   "id": "8ee2bdb3",
   "metadata": {},
   "outputs": [],
   "source": [
    "# save processed balanced dataset to file\n",
    "bal_general_dataset_df.to_csv('balanced_general_dataset.csv', index=False)"
   ]
  },
  {
   "cell_type": "code",
   "execution_count": 127,
   "id": "897225e6",
   "metadata": {},
   "outputs": [],
   "source": [
    "# save train test datasets\n",
    "train_df.to_csv('training_dataset.csv', index=False)\n",
    "test_df.to_csv('test_dataset.csv', index=False)"
   ]
  },
  {
   "cell_type": "code",
   "execution_count": null,
   "id": "7549edcc",
   "metadata": {},
   "outputs": [],
   "source": []
  },
  {
   "cell_type": "code",
   "execution_count": null,
   "id": "7576d20b",
   "metadata": {},
   "outputs": [],
   "source": []
  }
 ],
 "metadata": {
  "kernelspec": {
   "display_name": "Python (labtwin-test)",
   "language": "python",
   "name": "labtwin-test"
  },
  "language_info": {
   "codemirror_mode": {
    "name": "ipython",
    "version": 3
   },
   "file_extension": ".py",
   "mimetype": "text/x-python",
   "name": "python",
   "nbconvert_exporter": "python",
   "pygments_lexer": "ipython3",
   "version": "3.7.10"
  }
 },
 "nbformat": 4,
 "nbformat_minor": 5
}
