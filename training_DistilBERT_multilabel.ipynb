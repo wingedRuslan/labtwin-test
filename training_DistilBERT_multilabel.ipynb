{
  "nbformat": 4,
  "nbformat_minor": 0,
  "metadata": {
    "colab": {
      "name": "LabTwin_training.ipynb",
      "provenance": [],
      "collapsed_sections": []
    },
    "kernelspec": {
      "name": "python3",
      "display_name": "Python 3"
    },
    "language_info": {
      "name": "python"
    },
    "accelerator": "GPU",
    "widgets": {
      "application/vnd.jupyter.widget-state+json": {
        "2ef65ed564ab4bbea380eb800d05b194": {
          "model_module": "@jupyter-widgets/controls",
          "model_name": "HBoxModel",
          "model_module_version": "1.5.0",
          "state": {
            "_view_name": "HBoxView",
            "_dom_classes": [],
            "_model_name": "HBoxModel",
            "_view_module": "@jupyter-widgets/controls",
            "_model_module_version": "1.5.0",
            "_view_count": null,
            "_view_module_version": "1.5.0",
            "box_style": "",
            "layout": "IPY_MODEL_0444a46957734570aab0a8c171939fe2",
            "_model_module": "@jupyter-widgets/controls",
            "children": [
              "IPY_MODEL_21d460f0a97c4f6aa33074d06956a77e",
              "IPY_MODEL_0acd245c62dd47648801eda30762cc6d",
              "IPY_MODEL_11955b2d706e4607916fd7d3c1d880ff"
            ]
          }
        },
        "0444a46957734570aab0a8c171939fe2": {
          "model_module": "@jupyter-widgets/base",
          "model_name": "LayoutModel",
          "model_module_version": "1.2.0",
          "state": {
            "_view_name": "LayoutView",
            "grid_template_rows": null,
            "right": null,
            "justify_content": null,
            "_view_module": "@jupyter-widgets/base",
            "overflow": null,
            "_model_module_version": "1.2.0",
            "_view_count": null,
            "flex_flow": null,
            "width": null,
            "min_width": null,
            "border": null,
            "align_items": null,
            "bottom": null,
            "_model_module": "@jupyter-widgets/base",
            "top": null,
            "grid_column": null,
            "overflow_y": null,
            "overflow_x": null,
            "grid_auto_flow": null,
            "grid_area": null,
            "grid_template_columns": null,
            "flex": null,
            "_model_name": "LayoutModel",
            "justify_items": null,
            "grid_row": null,
            "max_height": null,
            "align_content": null,
            "visibility": null,
            "align_self": null,
            "height": null,
            "min_height": null,
            "padding": null,
            "grid_auto_rows": null,
            "grid_gap": null,
            "max_width": null,
            "order": null,
            "_view_module_version": "1.2.0",
            "grid_template_areas": null,
            "object_position": null,
            "object_fit": null,
            "grid_auto_columns": null,
            "margin": null,
            "display": null,
            "left": null
          }
        },
        "21d460f0a97c4f6aa33074d06956a77e": {
          "model_module": "@jupyter-widgets/controls",
          "model_name": "HTMLModel",
          "model_module_version": "1.5.0",
          "state": {
            "_view_name": "HTMLView",
            "style": "IPY_MODEL_b2e882f0322045c593a383f023ace036",
            "_dom_classes": [],
            "description": "",
            "_model_name": "HTMLModel",
            "placeholder": "​",
            "_view_module": "@jupyter-widgets/controls",
            "_model_module_version": "1.5.0",
            "value": "",
            "_view_count": null,
            "_view_module_version": "1.5.0",
            "description_tooltip": null,
            "_model_module": "@jupyter-widgets/controls",
            "layout": "IPY_MODEL_6b021e7c69da48058f88956c5a437396"
          }
        },
        "0acd245c62dd47648801eda30762cc6d": {
          "model_module": "@jupyter-widgets/controls",
          "model_name": "FloatProgressModel",
          "model_module_version": "1.5.0",
          "state": {
            "_view_name": "ProgressView",
            "style": "IPY_MODEL_9bd2e5db76ce4eac897d223653c28351",
            "_dom_classes": [],
            "description": "",
            "_model_name": "FloatProgressModel",
            "bar_style": "info",
            "max": 1,
            "_view_module": "@jupyter-widgets/controls",
            "_model_module_version": "1.5.0",
            "value": 1,
            "_view_count": null,
            "_view_module_version": "1.5.0",
            "orientation": "horizontal",
            "min": 0,
            "description_tooltip": null,
            "_model_module": "@jupyter-widgets/controls",
            "layout": "IPY_MODEL_7f0477cabaf64131913d0f182f05b6ae"
          }
        },
        "11955b2d706e4607916fd7d3c1d880ff": {
          "model_module": "@jupyter-widgets/controls",
          "model_name": "HTMLModel",
          "model_module_version": "1.5.0",
          "state": {
            "_view_name": "HTMLView",
            "style": "IPY_MODEL_ffe2d48fca5d4715838a00d9bc94b817",
            "_dom_classes": [],
            "description": "",
            "_model_name": "HTMLModel",
            "placeholder": "​",
            "_view_module": "@jupyter-widgets/controls",
            "_model_module_version": "1.5.0",
            "value": " 1/? [00:00&lt;00:00,  2.56 tables/s]",
            "_view_count": null,
            "_view_module_version": "1.5.0",
            "description_tooltip": null,
            "_model_module": "@jupyter-widgets/controls",
            "layout": "IPY_MODEL_d41ddc52f7894284a22fad5202ade5fb"
          }
        },
        "b2e882f0322045c593a383f023ace036": {
          "model_module": "@jupyter-widgets/controls",
          "model_name": "DescriptionStyleModel",
          "model_module_version": "1.5.0",
          "state": {
            "_view_name": "StyleView",
            "_model_name": "DescriptionStyleModel",
            "description_width": "",
            "_view_module": "@jupyter-widgets/base",
            "_model_module_version": "1.5.0",
            "_view_count": null,
            "_view_module_version": "1.2.0",
            "_model_module": "@jupyter-widgets/controls"
          }
        },
        "6b021e7c69da48058f88956c5a437396": {
          "model_module": "@jupyter-widgets/base",
          "model_name": "LayoutModel",
          "model_module_version": "1.2.0",
          "state": {
            "_view_name": "LayoutView",
            "grid_template_rows": null,
            "right": null,
            "justify_content": null,
            "_view_module": "@jupyter-widgets/base",
            "overflow": null,
            "_model_module_version": "1.2.0",
            "_view_count": null,
            "flex_flow": null,
            "width": null,
            "min_width": null,
            "border": null,
            "align_items": null,
            "bottom": null,
            "_model_module": "@jupyter-widgets/base",
            "top": null,
            "grid_column": null,
            "overflow_y": null,
            "overflow_x": null,
            "grid_auto_flow": null,
            "grid_area": null,
            "grid_template_columns": null,
            "flex": null,
            "_model_name": "LayoutModel",
            "justify_items": null,
            "grid_row": null,
            "max_height": null,
            "align_content": null,
            "visibility": null,
            "align_self": null,
            "height": null,
            "min_height": null,
            "padding": null,
            "grid_auto_rows": null,
            "grid_gap": null,
            "max_width": null,
            "order": null,
            "_view_module_version": "1.2.0",
            "grid_template_areas": null,
            "object_position": null,
            "object_fit": null,
            "grid_auto_columns": null,
            "margin": null,
            "display": null,
            "left": null
          }
        },
        "9bd2e5db76ce4eac897d223653c28351": {
          "model_module": "@jupyter-widgets/controls",
          "model_name": "ProgressStyleModel",
          "model_module_version": "1.5.0",
          "state": {
            "_view_name": "StyleView",
            "_model_name": "ProgressStyleModel",
            "description_width": "",
            "_view_module": "@jupyter-widgets/base",
            "_model_module_version": "1.5.0",
            "_view_count": null,
            "_view_module_version": "1.2.0",
            "bar_color": null,
            "_model_module": "@jupyter-widgets/controls"
          }
        },
        "7f0477cabaf64131913d0f182f05b6ae": {
          "model_module": "@jupyter-widgets/base",
          "model_name": "LayoutModel",
          "model_module_version": "1.2.0",
          "state": {
            "_view_name": "LayoutView",
            "grid_template_rows": null,
            "right": null,
            "justify_content": null,
            "_view_module": "@jupyter-widgets/base",
            "overflow": null,
            "_model_module_version": "1.2.0",
            "_view_count": null,
            "flex_flow": null,
            "width": "20px",
            "min_width": null,
            "border": null,
            "align_items": null,
            "bottom": null,
            "_model_module": "@jupyter-widgets/base",
            "top": null,
            "grid_column": null,
            "overflow_y": null,
            "overflow_x": null,
            "grid_auto_flow": null,
            "grid_area": null,
            "grid_template_columns": null,
            "flex": null,
            "_model_name": "LayoutModel",
            "justify_items": null,
            "grid_row": null,
            "max_height": null,
            "align_content": null,
            "visibility": null,
            "align_self": null,
            "height": null,
            "min_height": null,
            "padding": null,
            "grid_auto_rows": null,
            "grid_gap": null,
            "max_width": null,
            "order": null,
            "_view_module_version": "1.2.0",
            "grid_template_areas": null,
            "object_position": null,
            "object_fit": null,
            "grid_auto_columns": null,
            "margin": null,
            "display": null,
            "left": null
          }
        },
        "ffe2d48fca5d4715838a00d9bc94b817": {
          "model_module": "@jupyter-widgets/controls",
          "model_name": "DescriptionStyleModel",
          "model_module_version": "1.5.0",
          "state": {
            "_view_name": "StyleView",
            "_model_name": "DescriptionStyleModel",
            "description_width": "",
            "_view_module": "@jupyter-widgets/base",
            "_model_module_version": "1.5.0",
            "_view_count": null,
            "_view_module_version": "1.2.0",
            "_model_module": "@jupyter-widgets/controls"
          }
        },
        "d41ddc52f7894284a22fad5202ade5fb": {
          "model_module": "@jupyter-widgets/base",
          "model_name": "LayoutModel",
          "model_module_version": "1.2.0",
          "state": {
            "_view_name": "LayoutView",
            "grid_template_rows": null,
            "right": null,
            "justify_content": null,
            "_view_module": "@jupyter-widgets/base",
            "overflow": null,
            "_model_module_version": "1.2.0",
            "_view_count": null,
            "flex_flow": null,
            "width": null,
            "min_width": null,
            "border": null,
            "align_items": null,
            "bottom": null,
            "_model_module": "@jupyter-widgets/base",
            "top": null,
            "grid_column": null,
            "overflow_y": null,
            "overflow_x": null,
            "grid_auto_flow": null,
            "grid_area": null,
            "grid_template_columns": null,
            "flex": null,
            "_model_name": "LayoutModel",
            "justify_items": null,
            "grid_row": null,
            "max_height": null,
            "align_content": null,
            "visibility": null,
            "align_self": null,
            "height": null,
            "min_height": null,
            "padding": null,
            "grid_auto_rows": null,
            "grid_gap": null,
            "max_width": null,
            "order": null,
            "_view_module_version": "1.2.0",
            "grid_template_areas": null,
            "object_position": null,
            "object_fit": null,
            "grid_auto_columns": null,
            "margin": null,
            "display": null,
            "left": null
          }
        },
        "9eb972cb05c64f3780f761b5cc7a1aac": {
          "model_module": "@jupyter-widgets/controls",
          "model_name": "HBoxModel",
          "model_module_version": "1.5.0",
          "state": {
            "_view_name": "HBoxView",
            "_dom_classes": [],
            "_model_name": "HBoxModel",
            "_view_module": "@jupyter-widgets/controls",
            "_model_module_version": "1.5.0",
            "_view_count": null,
            "_view_module_version": "1.5.0",
            "box_style": "",
            "layout": "IPY_MODEL_1d237c4ecdae45b68e8e6a37e1e43159",
            "_model_module": "@jupyter-widgets/controls",
            "children": [
              "IPY_MODEL_56eb2c923a7f49dbadab90abc4b68bd6",
              "IPY_MODEL_0caf67967eac40bba400ffda6b83ad9f",
              "IPY_MODEL_2ae9b4b58a384322932b01624a1a530b"
            ]
          }
        },
        "1d237c4ecdae45b68e8e6a37e1e43159": {
          "model_module": "@jupyter-widgets/base",
          "model_name": "LayoutModel",
          "model_module_version": "1.2.0",
          "state": {
            "_view_name": "LayoutView",
            "grid_template_rows": null,
            "right": null,
            "justify_content": null,
            "_view_module": "@jupyter-widgets/base",
            "overflow": null,
            "_model_module_version": "1.2.0",
            "_view_count": null,
            "flex_flow": null,
            "width": null,
            "min_width": null,
            "border": null,
            "align_items": null,
            "bottom": null,
            "_model_module": "@jupyter-widgets/base",
            "top": null,
            "grid_column": null,
            "overflow_y": null,
            "overflow_x": null,
            "grid_auto_flow": null,
            "grid_area": null,
            "grid_template_columns": null,
            "flex": null,
            "_model_name": "LayoutModel",
            "justify_items": null,
            "grid_row": null,
            "max_height": null,
            "align_content": null,
            "visibility": null,
            "align_self": null,
            "height": null,
            "min_height": null,
            "padding": null,
            "grid_auto_rows": null,
            "grid_gap": null,
            "max_width": null,
            "order": null,
            "_view_module_version": "1.2.0",
            "grid_template_areas": null,
            "object_position": null,
            "object_fit": null,
            "grid_auto_columns": null,
            "margin": null,
            "display": null,
            "left": null
          }
        },
        "56eb2c923a7f49dbadab90abc4b68bd6": {
          "model_module": "@jupyter-widgets/controls",
          "model_name": "HTMLModel",
          "model_module_version": "1.5.0",
          "state": {
            "_view_name": "HTMLView",
            "style": "IPY_MODEL_afdcb7add8c74f279129ba5266124922",
            "_dom_classes": [],
            "description": "",
            "_model_name": "HTMLModel",
            "placeholder": "​",
            "_view_module": "@jupyter-widgets/controls",
            "_model_module_version": "1.5.0",
            "value": "100%",
            "_view_count": null,
            "_view_module_version": "1.5.0",
            "description_tooltip": null,
            "_model_module": "@jupyter-widgets/controls",
            "layout": "IPY_MODEL_85cd17aa52ab4d92860ed239302c3e56"
          }
        },
        "0caf67967eac40bba400ffda6b83ad9f": {
          "model_module": "@jupyter-widgets/controls",
          "model_name": "FloatProgressModel",
          "model_module_version": "1.5.0",
          "state": {
            "_view_name": "ProgressView",
            "style": "IPY_MODEL_03ec566a355e47f1a573fac06be0dbd9",
            "_dom_classes": [],
            "description": "",
            "_model_name": "FloatProgressModel",
            "bar_style": "success",
            "max": 4500,
            "_view_module": "@jupyter-widgets/controls",
            "_model_module_version": "1.5.0",
            "value": 4500,
            "_view_count": null,
            "_view_module_version": "1.5.0",
            "orientation": "horizontal",
            "min": 0,
            "description_tooltip": null,
            "_model_module": "@jupyter-widgets/controls",
            "layout": "IPY_MODEL_263069e77fd14c388d4bc065f27743d1"
          }
        },
        "2ae9b4b58a384322932b01624a1a530b": {
          "model_module": "@jupyter-widgets/controls",
          "model_name": "HTMLModel",
          "model_module_version": "1.5.0",
          "state": {
            "_view_name": "HTMLView",
            "style": "IPY_MODEL_b8e6f09a55a345d8b3f1e81348003553",
            "_dom_classes": [],
            "description": "",
            "_model_name": "HTMLModel",
            "placeholder": "​",
            "_view_module": "@jupyter-widgets/controls",
            "_model_module_version": "1.5.0",
            "value": " 4500/4500 [00:01&lt;00:00, 4089.22ex/s]",
            "_view_count": null,
            "_view_module_version": "1.5.0",
            "description_tooltip": null,
            "_model_module": "@jupyter-widgets/controls",
            "layout": "IPY_MODEL_3f219f36268e493895f40f6c68c05a9e"
          }
        },
        "afdcb7add8c74f279129ba5266124922": {
          "model_module": "@jupyter-widgets/controls",
          "model_name": "DescriptionStyleModel",
          "model_module_version": "1.5.0",
          "state": {
            "_view_name": "StyleView",
            "_model_name": "DescriptionStyleModel",
            "description_width": "",
            "_view_module": "@jupyter-widgets/base",
            "_model_module_version": "1.5.0",
            "_view_count": null,
            "_view_module_version": "1.2.0",
            "_model_module": "@jupyter-widgets/controls"
          }
        },
        "85cd17aa52ab4d92860ed239302c3e56": {
          "model_module": "@jupyter-widgets/base",
          "model_name": "LayoutModel",
          "model_module_version": "1.2.0",
          "state": {
            "_view_name": "LayoutView",
            "grid_template_rows": null,
            "right": null,
            "justify_content": null,
            "_view_module": "@jupyter-widgets/base",
            "overflow": null,
            "_model_module_version": "1.2.0",
            "_view_count": null,
            "flex_flow": null,
            "width": null,
            "min_width": null,
            "border": null,
            "align_items": null,
            "bottom": null,
            "_model_module": "@jupyter-widgets/base",
            "top": null,
            "grid_column": null,
            "overflow_y": null,
            "overflow_x": null,
            "grid_auto_flow": null,
            "grid_area": null,
            "grid_template_columns": null,
            "flex": null,
            "_model_name": "LayoutModel",
            "justify_items": null,
            "grid_row": null,
            "max_height": null,
            "align_content": null,
            "visibility": null,
            "align_self": null,
            "height": null,
            "min_height": null,
            "padding": null,
            "grid_auto_rows": null,
            "grid_gap": null,
            "max_width": null,
            "order": null,
            "_view_module_version": "1.2.0",
            "grid_template_areas": null,
            "object_position": null,
            "object_fit": null,
            "grid_auto_columns": null,
            "margin": null,
            "display": null,
            "left": null
          }
        },
        "03ec566a355e47f1a573fac06be0dbd9": {
          "model_module": "@jupyter-widgets/controls",
          "model_name": "ProgressStyleModel",
          "model_module_version": "1.5.0",
          "state": {
            "_view_name": "StyleView",
            "_model_name": "ProgressStyleModel",
            "description_width": "",
            "_view_module": "@jupyter-widgets/base",
            "_model_module_version": "1.5.0",
            "_view_count": null,
            "_view_module_version": "1.2.0",
            "bar_color": null,
            "_model_module": "@jupyter-widgets/controls"
          }
        },
        "263069e77fd14c388d4bc065f27743d1": {
          "model_module": "@jupyter-widgets/base",
          "model_name": "LayoutModel",
          "model_module_version": "1.2.0",
          "state": {
            "_view_name": "LayoutView",
            "grid_template_rows": null,
            "right": null,
            "justify_content": null,
            "_view_module": "@jupyter-widgets/base",
            "overflow": null,
            "_model_module_version": "1.2.0",
            "_view_count": null,
            "flex_flow": null,
            "width": null,
            "min_width": null,
            "border": null,
            "align_items": null,
            "bottom": null,
            "_model_module": "@jupyter-widgets/base",
            "top": null,
            "grid_column": null,
            "overflow_y": null,
            "overflow_x": null,
            "grid_auto_flow": null,
            "grid_area": null,
            "grid_template_columns": null,
            "flex": null,
            "_model_name": "LayoutModel",
            "justify_items": null,
            "grid_row": null,
            "max_height": null,
            "align_content": null,
            "visibility": null,
            "align_self": null,
            "height": null,
            "min_height": null,
            "padding": null,
            "grid_auto_rows": null,
            "grid_gap": null,
            "max_width": null,
            "order": null,
            "_view_module_version": "1.2.0",
            "grid_template_areas": null,
            "object_position": null,
            "object_fit": null,
            "grid_auto_columns": null,
            "margin": null,
            "display": null,
            "left": null
          }
        },
        "b8e6f09a55a345d8b3f1e81348003553": {
          "model_module": "@jupyter-widgets/controls",
          "model_name": "DescriptionStyleModel",
          "model_module_version": "1.5.0",
          "state": {
            "_view_name": "StyleView",
            "_model_name": "DescriptionStyleModel",
            "description_width": "",
            "_view_module": "@jupyter-widgets/base",
            "_model_module_version": "1.5.0",
            "_view_count": null,
            "_view_module_version": "1.2.0",
            "_model_module": "@jupyter-widgets/controls"
          }
        },
        "3f219f36268e493895f40f6c68c05a9e": {
          "model_module": "@jupyter-widgets/base",
          "model_name": "LayoutModel",
          "model_module_version": "1.2.0",
          "state": {
            "_view_name": "LayoutView",
            "grid_template_rows": null,
            "right": null,
            "justify_content": null,
            "_view_module": "@jupyter-widgets/base",
            "overflow": null,
            "_model_module_version": "1.2.0",
            "_view_count": null,
            "flex_flow": null,
            "width": null,
            "min_width": null,
            "border": null,
            "align_items": null,
            "bottom": null,
            "_model_module": "@jupyter-widgets/base",
            "top": null,
            "grid_column": null,
            "overflow_y": null,
            "overflow_x": null,
            "grid_auto_flow": null,
            "grid_area": null,
            "grid_template_columns": null,
            "flex": null,
            "_model_name": "LayoutModel",
            "justify_items": null,
            "grid_row": null,
            "max_height": null,
            "align_content": null,
            "visibility": null,
            "align_self": null,
            "height": null,
            "min_height": null,
            "padding": null,
            "grid_auto_rows": null,
            "grid_gap": null,
            "max_width": null,
            "order": null,
            "_view_module_version": "1.2.0",
            "grid_template_areas": null,
            "object_position": null,
            "object_fit": null,
            "grid_auto_columns": null,
            "margin": null,
            "display": null,
            "left": null
          }
        },
        "07694cd9ce1a43e7a6a06b3ae7100501": {
          "model_module": "@jupyter-widgets/controls",
          "model_name": "HBoxModel",
          "model_module_version": "1.5.0",
          "state": {
            "_view_name": "HBoxView",
            "_dom_classes": [],
            "_model_name": "HBoxModel",
            "_view_module": "@jupyter-widgets/controls",
            "_model_module_version": "1.5.0",
            "_view_count": null,
            "_view_module_version": "1.5.0",
            "box_style": "",
            "layout": "IPY_MODEL_6aedede48db0451f8365720c529a7906",
            "_model_module": "@jupyter-widgets/controls",
            "children": [
              "IPY_MODEL_e26ec1e8b2ff459e81f646e87ca92e30",
              "IPY_MODEL_7b52d61516b440c7af9292105b0785f2",
              "IPY_MODEL_cb4291ce5d1547e09b85084b094ee50e"
            ]
          }
        },
        "6aedede48db0451f8365720c529a7906": {
          "model_module": "@jupyter-widgets/base",
          "model_name": "LayoutModel",
          "model_module_version": "1.2.0",
          "state": {
            "_view_name": "LayoutView",
            "grid_template_rows": null,
            "right": null,
            "justify_content": null,
            "_view_module": "@jupyter-widgets/base",
            "overflow": null,
            "_model_module_version": "1.2.0",
            "_view_count": null,
            "flex_flow": null,
            "width": null,
            "min_width": null,
            "border": null,
            "align_items": null,
            "bottom": null,
            "_model_module": "@jupyter-widgets/base",
            "top": null,
            "grid_column": null,
            "overflow_y": null,
            "overflow_x": null,
            "grid_auto_flow": null,
            "grid_area": null,
            "grid_template_columns": null,
            "flex": null,
            "_model_name": "LayoutModel",
            "justify_items": null,
            "grid_row": null,
            "max_height": null,
            "align_content": null,
            "visibility": null,
            "align_self": null,
            "height": null,
            "min_height": null,
            "padding": null,
            "grid_auto_rows": null,
            "grid_gap": null,
            "max_width": null,
            "order": null,
            "_view_module_version": "1.2.0",
            "grid_template_areas": null,
            "object_position": null,
            "object_fit": null,
            "grid_auto_columns": null,
            "margin": null,
            "display": null,
            "left": null
          }
        },
        "e26ec1e8b2ff459e81f646e87ca92e30": {
          "model_module": "@jupyter-widgets/controls",
          "model_name": "HTMLModel",
          "model_module_version": "1.5.0",
          "state": {
            "_view_name": "HTMLView",
            "style": "IPY_MODEL_5fd1b2436ae643d4bdf5e77170eda5eb",
            "_dom_classes": [],
            "description": "",
            "_model_name": "HTMLModel",
            "placeholder": "​",
            "_view_module": "@jupyter-widgets/controls",
            "_model_module_version": "1.5.0",
            "value": "100%",
            "_view_count": null,
            "_view_module_version": "1.5.0",
            "description_tooltip": null,
            "_model_module": "@jupyter-widgets/controls",
            "layout": "IPY_MODEL_925b5dd33521410bb4a30f57cca2174f"
          }
        },
        "7b52d61516b440c7af9292105b0785f2": {
          "model_module": "@jupyter-widgets/controls",
          "model_name": "FloatProgressModel",
          "model_module_version": "1.5.0",
          "state": {
            "_view_name": "ProgressView",
            "style": "IPY_MODEL_932733874a964319bb7ec48f7fc2dd62",
            "_dom_classes": [],
            "description": "",
            "_model_name": "FloatProgressModel",
            "bar_style": "success",
            "max": 500,
            "_view_module": "@jupyter-widgets/controls",
            "_model_module_version": "1.5.0",
            "value": 500,
            "_view_count": null,
            "_view_module_version": "1.5.0",
            "orientation": "horizontal",
            "min": 0,
            "description_tooltip": null,
            "_model_module": "@jupyter-widgets/controls",
            "layout": "IPY_MODEL_68c6f33e705b4fc4b603b07c8fe323e0"
          }
        },
        "cb4291ce5d1547e09b85084b094ee50e": {
          "model_module": "@jupyter-widgets/controls",
          "model_name": "HTMLModel",
          "model_module_version": "1.5.0",
          "state": {
            "_view_name": "HTMLView",
            "style": "IPY_MODEL_6af83c845d7d4334bf6b561a407de665",
            "_dom_classes": [],
            "description": "",
            "_model_name": "HTMLModel",
            "placeholder": "​",
            "_view_module": "@jupyter-widgets/controls",
            "_model_module_version": "1.5.0",
            "value": " 500/500 [00:00&lt;00:00, 1697.23ex/s]",
            "_view_count": null,
            "_view_module_version": "1.5.0",
            "description_tooltip": null,
            "_model_module": "@jupyter-widgets/controls",
            "layout": "IPY_MODEL_8be1e1e3bb2a4f00bc21eeb82fabebb6"
          }
        },
        "5fd1b2436ae643d4bdf5e77170eda5eb": {
          "model_module": "@jupyter-widgets/controls",
          "model_name": "DescriptionStyleModel",
          "model_module_version": "1.5.0",
          "state": {
            "_view_name": "StyleView",
            "_model_name": "DescriptionStyleModel",
            "description_width": "",
            "_view_module": "@jupyter-widgets/base",
            "_model_module_version": "1.5.0",
            "_view_count": null,
            "_view_module_version": "1.2.0",
            "_model_module": "@jupyter-widgets/controls"
          }
        },
        "925b5dd33521410bb4a30f57cca2174f": {
          "model_module": "@jupyter-widgets/base",
          "model_name": "LayoutModel",
          "model_module_version": "1.2.0",
          "state": {
            "_view_name": "LayoutView",
            "grid_template_rows": null,
            "right": null,
            "justify_content": null,
            "_view_module": "@jupyter-widgets/base",
            "overflow": null,
            "_model_module_version": "1.2.0",
            "_view_count": null,
            "flex_flow": null,
            "width": null,
            "min_width": null,
            "border": null,
            "align_items": null,
            "bottom": null,
            "_model_module": "@jupyter-widgets/base",
            "top": null,
            "grid_column": null,
            "overflow_y": null,
            "overflow_x": null,
            "grid_auto_flow": null,
            "grid_area": null,
            "grid_template_columns": null,
            "flex": null,
            "_model_name": "LayoutModel",
            "justify_items": null,
            "grid_row": null,
            "max_height": null,
            "align_content": null,
            "visibility": null,
            "align_self": null,
            "height": null,
            "min_height": null,
            "padding": null,
            "grid_auto_rows": null,
            "grid_gap": null,
            "max_width": null,
            "order": null,
            "_view_module_version": "1.2.0",
            "grid_template_areas": null,
            "object_position": null,
            "object_fit": null,
            "grid_auto_columns": null,
            "margin": null,
            "display": null,
            "left": null
          }
        },
        "932733874a964319bb7ec48f7fc2dd62": {
          "model_module": "@jupyter-widgets/controls",
          "model_name": "ProgressStyleModel",
          "model_module_version": "1.5.0",
          "state": {
            "_view_name": "StyleView",
            "_model_name": "ProgressStyleModel",
            "description_width": "",
            "_view_module": "@jupyter-widgets/base",
            "_model_module_version": "1.5.0",
            "_view_count": null,
            "_view_module_version": "1.2.0",
            "bar_color": null,
            "_model_module": "@jupyter-widgets/controls"
          }
        },
        "68c6f33e705b4fc4b603b07c8fe323e0": {
          "model_module": "@jupyter-widgets/base",
          "model_name": "LayoutModel",
          "model_module_version": "1.2.0",
          "state": {
            "_view_name": "LayoutView",
            "grid_template_rows": null,
            "right": null,
            "justify_content": null,
            "_view_module": "@jupyter-widgets/base",
            "overflow": null,
            "_model_module_version": "1.2.0",
            "_view_count": null,
            "flex_flow": null,
            "width": null,
            "min_width": null,
            "border": null,
            "align_items": null,
            "bottom": null,
            "_model_module": "@jupyter-widgets/base",
            "top": null,
            "grid_column": null,
            "overflow_y": null,
            "overflow_x": null,
            "grid_auto_flow": null,
            "grid_area": null,
            "grid_template_columns": null,
            "flex": null,
            "_model_name": "LayoutModel",
            "justify_items": null,
            "grid_row": null,
            "max_height": null,
            "align_content": null,
            "visibility": null,
            "align_self": null,
            "height": null,
            "min_height": null,
            "padding": null,
            "grid_auto_rows": null,
            "grid_gap": null,
            "max_width": null,
            "order": null,
            "_view_module_version": "1.2.0",
            "grid_template_areas": null,
            "object_position": null,
            "object_fit": null,
            "grid_auto_columns": null,
            "margin": null,
            "display": null,
            "left": null
          }
        },
        "6af83c845d7d4334bf6b561a407de665": {
          "model_module": "@jupyter-widgets/controls",
          "model_name": "DescriptionStyleModel",
          "model_module_version": "1.5.0",
          "state": {
            "_view_name": "StyleView",
            "_model_name": "DescriptionStyleModel",
            "description_width": "",
            "_view_module": "@jupyter-widgets/base",
            "_model_module_version": "1.5.0",
            "_view_count": null,
            "_view_module_version": "1.2.0",
            "_model_module": "@jupyter-widgets/controls"
          }
        },
        "8be1e1e3bb2a4f00bc21eeb82fabebb6": {
          "model_module": "@jupyter-widgets/base",
          "model_name": "LayoutModel",
          "model_module_version": "1.2.0",
          "state": {
            "_view_name": "LayoutView",
            "grid_template_rows": null,
            "right": null,
            "justify_content": null,
            "_view_module": "@jupyter-widgets/base",
            "overflow": null,
            "_model_module_version": "1.2.0",
            "_view_count": null,
            "flex_flow": null,
            "width": null,
            "min_width": null,
            "border": null,
            "align_items": null,
            "bottom": null,
            "_model_module": "@jupyter-widgets/base",
            "top": null,
            "grid_column": null,
            "overflow_y": null,
            "overflow_x": null,
            "grid_auto_flow": null,
            "grid_area": null,
            "grid_template_columns": null,
            "flex": null,
            "_model_name": "LayoutModel",
            "justify_items": null,
            "grid_row": null,
            "max_height": null,
            "align_content": null,
            "visibility": null,
            "align_self": null,
            "height": null,
            "min_height": null,
            "padding": null,
            "grid_auto_rows": null,
            "grid_gap": null,
            "max_width": null,
            "order": null,
            "_view_module_version": "1.2.0",
            "grid_template_areas": null,
            "object_position": null,
            "object_fit": null,
            "grid_auto_columns": null,
            "margin": null,
            "display": null,
            "left": null
          }
        },
        "623a4331145d41de94921fb35e6f32d1": {
          "model_module": "@jupyter-widgets/controls",
          "model_name": "HBoxModel",
          "model_module_version": "1.5.0",
          "state": {
            "_view_name": "HBoxView",
            "_dom_classes": [],
            "_model_name": "HBoxModel",
            "_view_module": "@jupyter-widgets/controls",
            "_model_module_version": "1.5.0",
            "_view_count": null,
            "_view_module_version": "1.5.0",
            "box_style": "",
            "layout": "IPY_MODEL_fd4ccb768e144c3db5adec9d779abc5c",
            "_model_module": "@jupyter-widgets/controls",
            "children": [
              "IPY_MODEL_82f618a0b8b64504a58c1bbf17f6c3ff",
              "IPY_MODEL_e0221712f1e84b79bca9f34fce290dbf",
              "IPY_MODEL_b37121e292fe4090b1f5f3d29c20de09"
            ]
          }
        },
        "fd4ccb768e144c3db5adec9d779abc5c": {
          "model_module": "@jupyter-widgets/base",
          "model_name": "LayoutModel",
          "model_module_version": "1.2.0",
          "state": {
            "_view_name": "LayoutView",
            "grid_template_rows": null,
            "right": null,
            "justify_content": null,
            "_view_module": "@jupyter-widgets/base",
            "overflow": null,
            "_model_module_version": "1.2.0",
            "_view_count": null,
            "flex_flow": null,
            "width": null,
            "min_width": null,
            "border": null,
            "align_items": null,
            "bottom": null,
            "_model_module": "@jupyter-widgets/base",
            "top": null,
            "grid_column": null,
            "overflow_y": null,
            "overflow_x": null,
            "grid_auto_flow": null,
            "grid_area": null,
            "grid_template_columns": null,
            "flex": null,
            "_model_name": "LayoutModel",
            "justify_items": null,
            "grid_row": null,
            "max_height": null,
            "align_content": null,
            "visibility": null,
            "align_self": null,
            "height": null,
            "min_height": null,
            "padding": null,
            "grid_auto_rows": null,
            "grid_gap": null,
            "max_width": null,
            "order": null,
            "_view_module_version": "1.2.0",
            "grid_template_areas": null,
            "object_position": null,
            "object_fit": null,
            "grid_auto_columns": null,
            "margin": null,
            "display": null,
            "left": null
          }
        },
        "82f618a0b8b64504a58c1bbf17f6c3ff": {
          "model_module": "@jupyter-widgets/controls",
          "model_name": "HTMLModel",
          "model_module_version": "1.5.0",
          "state": {
            "_view_name": "HTMLView",
            "style": "IPY_MODEL_60b13f7fdb5540c2b1a8361fe91c8df8",
            "_dom_classes": [],
            "description": "",
            "_model_name": "HTMLModel",
            "placeholder": "​",
            "_view_module": "@jupyter-widgets/controls",
            "_model_module_version": "1.5.0",
            "value": "100%",
            "_view_count": null,
            "_view_module_version": "1.5.0",
            "description_tooltip": null,
            "_model_module": "@jupyter-widgets/controls",
            "layout": "IPY_MODEL_aa6a9eba88c74892989fa5177f427f6b"
          }
        },
        "e0221712f1e84b79bca9f34fce290dbf": {
          "model_module": "@jupyter-widgets/controls",
          "model_name": "FloatProgressModel",
          "model_module_version": "1.5.0",
          "state": {
            "_view_name": "ProgressView",
            "style": "IPY_MODEL_c01298d544b14f9d90beadf0846921b4",
            "_dom_classes": [],
            "description": "",
            "_model_name": "FloatProgressModel",
            "bar_style": "success",
            "max": 5,
            "_view_module": "@jupyter-widgets/controls",
            "_model_module_version": "1.5.0",
            "value": 5,
            "_view_count": null,
            "_view_module_version": "1.5.0",
            "orientation": "horizontal",
            "min": 0,
            "description_tooltip": null,
            "_model_module": "@jupyter-widgets/controls",
            "layout": "IPY_MODEL_d1e54e9ded4c4efa8d073f2a7c8ea685"
          }
        },
        "b37121e292fe4090b1f5f3d29c20de09": {
          "model_module": "@jupyter-widgets/controls",
          "model_name": "HTMLModel",
          "model_module_version": "1.5.0",
          "state": {
            "_view_name": "HTMLView",
            "style": "IPY_MODEL_70bf2e617a074f3da1b0f70f90a6bd7f",
            "_dom_classes": [],
            "description": "",
            "_model_name": "HTMLModel",
            "placeholder": "​",
            "_view_module": "@jupyter-widgets/controls",
            "_model_module_version": "1.5.0",
            "value": " 5/5 [00:13&lt;00:00,  2.50s/ba]",
            "_view_count": null,
            "_view_module_version": "1.5.0",
            "description_tooltip": null,
            "_model_module": "@jupyter-widgets/controls",
            "layout": "IPY_MODEL_be107f9954e14922a9f25677fd84971c"
          }
        },
        "60b13f7fdb5540c2b1a8361fe91c8df8": {
          "model_module": "@jupyter-widgets/controls",
          "model_name": "DescriptionStyleModel",
          "model_module_version": "1.5.0",
          "state": {
            "_view_name": "StyleView",
            "_model_name": "DescriptionStyleModel",
            "description_width": "",
            "_view_module": "@jupyter-widgets/base",
            "_model_module_version": "1.5.0",
            "_view_count": null,
            "_view_module_version": "1.2.0",
            "_model_module": "@jupyter-widgets/controls"
          }
        },
        "aa6a9eba88c74892989fa5177f427f6b": {
          "model_module": "@jupyter-widgets/base",
          "model_name": "LayoutModel",
          "model_module_version": "1.2.0",
          "state": {
            "_view_name": "LayoutView",
            "grid_template_rows": null,
            "right": null,
            "justify_content": null,
            "_view_module": "@jupyter-widgets/base",
            "overflow": null,
            "_model_module_version": "1.2.0",
            "_view_count": null,
            "flex_flow": null,
            "width": null,
            "min_width": null,
            "border": null,
            "align_items": null,
            "bottom": null,
            "_model_module": "@jupyter-widgets/base",
            "top": null,
            "grid_column": null,
            "overflow_y": null,
            "overflow_x": null,
            "grid_auto_flow": null,
            "grid_area": null,
            "grid_template_columns": null,
            "flex": null,
            "_model_name": "LayoutModel",
            "justify_items": null,
            "grid_row": null,
            "max_height": null,
            "align_content": null,
            "visibility": null,
            "align_self": null,
            "height": null,
            "min_height": null,
            "padding": null,
            "grid_auto_rows": null,
            "grid_gap": null,
            "max_width": null,
            "order": null,
            "_view_module_version": "1.2.0",
            "grid_template_areas": null,
            "object_position": null,
            "object_fit": null,
            "grid_auto_columns": null,
            "margin": null,
            "display": null,
            "left": null
          }
        },
        "c01298d544b14f9d90beadf0846921b4": {
          "model_module": "@jupyter-widgets/controls",
          "model_name": "ProgressStyleModel",
          "model_module_version": "1.5.0",
          "state": {
            "_view_name": "StyleView",
            "_model_name": "ProgressStyleModel",
            "description_width": "",
            "_view_module": "@jupyter-widgets/base",
            "_model_module_version": "1.5.0",
            "_view_count": null,
            "_view_module_version": "1.2.0",
            "bar_color": null,
            "_model_module": "@jupyter-widgets/controls"
          }
        },
        "d1e54e9ded4c4efa8d073f2a7c8ea685": {
          "model_module": "@jupyter-widgets/base",
          "model_name": "LayoutModel",
          "model_module_version": "1.2.0",
          "state": {
            "_view_name": "LayoutView",
            "grid_template_rows": null,
            "right": null,
            "justify_content": null,
            "_view_module": "@jupyter-widgets/base",
            "overflow": null,
            "_model_module_version": "1.2.0",
            "_view_count": null,
            "flex_flow": null,
            "width": null,
            "min_width": null,
            "border": null,
            "align_items": null,
            "bottom": null,
            "_model_module": "@jupyter-widgets/base",
            "top": null,
            "grid_column": null,
            "overflow_y": null,
            "overflow_x": null,
            "grid_auto_flow": null,
            "grid_area": null,
            "grid_template_columns": null,
            "flex": null,
            "_model_name": "LayoutModel",
            "justify_items": null,
            "grid_row": null,
            "max_height": null,
            "align_content": null,
            "visibility": null,
            "align_self": null,
            "height": null,
            "min_height": null,
            "padding": null,
            "grid_auto_rows": null,
            "grid_gap": null,
            "max_width": null,
            "order": null,
            "_view_module_version": "1.2.0",
            "grid_template_areas": null,
            "object_position": null,
            "object_fit": null,
            "grid_auto_columns": null,
            "margin": null,
            "display": null,
            "left": null
          }
        },
        "70bf2e617a074f3da1b0f70f90a6bd7f": {
          "model_module": "@jupyter-widgets/controls",
          "model_name": "DescriptionStyleModel",
          "model_module_version": "1.5.0",
          "state": {
            "_view_name": "StyleView",
            "_model_name": "DescriptionStyleModel",
            "description_width": "",
            "_view_module": "@jupyter-widgets/base",
            "_model_module_version": "1.5.0",
            "_view_count": null,
            "_view_module_version": "1.2.0",
            "_model_module": "@jupyter-widgets/controls"
          }
        },
        "be107f9954e14922a9f25677fd84971c": {
          "model_module": "@jupyter-widgets/base",
          "model_name": "LayoutModel",
          "model_module_version": "1.2.0",
          "state": {
            "_view_name": "LayoutView",
            "grid_template_rows": null,
            "right": null,
            "justify_content": null,
            "_view_module": "@jupyter-widgets/base",
            "overflow": null,
            "_model_module_version": "1.2.0",
            "_view_count": null,
            "flex_flow": null,
            "width": null,
            "min_width": null,
            "border": null,
            "align_items": null,
            "bottom": null,
            "_model_module": "@jupyter-widgets/base",
            "top": null,
            "grid_column": null,
            "overflow_y": null,
            "overflow_x": null,
            "grid_auto_flow": null,
            "grid_area": null,
            "grid_template_columns": null,
            "flex": null,
            "_model_name": "LayoutModel",
            "justify_items": null,
            "grid_row": null,
            "max_height": null,
            "align_content": null,
            "visibility": null,
            "align_self": null,
            "height": null,
            "min_height": null,
            "padding": null,
            "grid_auto_rows": null,
            "grid_gap": null,
            "max_width": null,
            "order": null,
            "_view_module_version": "1.2.0",
            "grid_template_areas": null,
            "object_position": null,
            "object_fit": null,
            "grid_auto_columns": null,
            "margin": null,
            "display": null,
            "left": null
          }
        },
        "8cb0079190684e12bcece5cfdf9dd3e6": {
          "model_module": "@jupyter-widgets/controls",
          "model_name": "HBoxModel",
          "model_module_version": "1.5.0",
          "state": {
            "_view_name": "HBoxView",
            "_dom_classes": [],
            "_model_name": "HBoxModel",
            "_view_module": "@jupyter-widgets/controls",
            "_model_module_version": "1.5.0",
            "_view_count": null,
            "_view_module_version": "1.5.0",
            "box_style": "",
            "layout": "IPY_MODEL_1292fcc675b647e095cfcdaccc358677",
            "_model_module": "@jupyter-widgets/controls",
            "children": [
              "IPY_MODEL_dd684429ab2f417791568a82170d5aeb",
              "IPY_MODEL_93066675ad3d4c939f4f6c302d1c4c42",
              "IPY_MODEL_57d8c076e86c4322a66b92979ca1bce6"
            ]
          }
        },
        "1292fcc675b647e095cfcdaccc358677": {
          "model_module": "@jupyter-widgets/base",
          "model_name": "LayoutModel",
          "model_module_version": "1.2.0",
          "state": {
            "_view_name": "LayoutView",
            "grid_template_rows": null,
            "right": null,
            "justify_content": null,
            "_view_module": "@jupyter-widgets/base",
            "overflow": null,
            "_model_module_version": "1.2.0",
            "_view_count": null,
            "flex_flow": null,
            "width": null,
            "min_width": null,
            "border": null,
            "align_items": null,
            "bottom": null,
            "_model_module": "@jupyter-widgets/base",
            "top": null,
            "grid_column": null,
            "overflow_y": null,
            "overflow_x": null,
            "grid_auto_flow": null,
            "grid_area": null,
            "grid_template_columns": null,
            "flex": null,
            "_model_name": "LayoutModel",
            "justify_items": null,
            "grid_row": null,
            "max_height": null,
            "align_content": null,
            "visibility": null,
            "align_self": null,
            "height": null,
            "min_height": null,
            "padding": null,
            "grid_auto_rows": null,
            "grid_gap": null,
            "max_width": null,
            "order": null,
            "_view_module_version": "1.2.0",
            "grid_template_areas": null,
            "object_position": null,
            "object_fit": null,
            "grid_auto_columns": null,
            "margin": null,
            "display": null,
            "left": null
          }
        },
        "dd684429ab2f417791568a82170d5aeb": {
          "model_module": "@jupyter-widgets/controls",
          "model_name": "HTMLModel",
          "model_module_version": "1.5.0",
          "state": {
            "_view_name": "HTMLView",
            "style": "IPY_MODEL_2543f92151114f53912b206474e80f11",
            "_dom_classes": [],
            "description": "",
            "_model_name": "HTMLModel",
            "placeholder": "​",
            "_view_module": "@jupyter-widgets/controls",
            "_model_module_version": "1.5.0",
            "value": "100%",
            "_view_count": null,
            "_view_module_version": "1.5.0",
            "description_tooltip": null,
            "_model_module": "@jupyter-widgets/controls",
            "layout": "IPY_MODEL_55f7226610244c8f98e87767aa2b3ddb"
          }
        },
        "93066675ad3d4c939f4f6c302d1c4c42": {
          "model_module": "@jupyter-widgets/controls",
          "model_name": "FloatProgressModel",
          "model_module_version": "1.5.0",
          "state": {
            "_view_name": "ProgressView",
            "style": "IPY_MODEL_01151a9b0d864ce3bf547002f572a59b",
            "_dom_classes": [],
            "description": "",
            "_model_name": "FloatProgressModel",
            "bar_style": "success",
            "max": 1,
            "_view_module": "@jupyter-widgets/controls",
            "_model_module_version": "1.5.0",
            "value": 1,
            "_view_count": null,
            "_view_module_version": "1.5.0",
            "orientation": "horizontal",
            "min": 0,
            "description_tooltip": null,
            "_model_module": "@jupyter-widgets/controls",
            "layout": "IPY_MODEL_740ef0c0244d4d46ba5bc69520d93c92"
          }
        },
        "57d8c076e86c4322a66b92979ca1bce6": {
          "model_module": "@jupyter-widgets/controls",
          "model_name": "HTMLModel",
          "model_module_version": "1.5.0",
          "state": {
            "_view_name": "HTMLView",
            "style": "IPY_MODEL_f590d382062c4748b48efb115630d3d0",
            "_dom_classes": [],
            "description": "",
            "_model_name": "HTMLModel",
            "placeholder": "​",
            "_view_module": "@jupyter-widgets/controls",
            "_model_module_version": "1.5.0",
            "value": " 1/1 [00:01&lt;00:00,  1.48s/ba]",
            "_view_count": null,
            "_view_module_version": "1.5.0",
            "description_tooltip": null,
            "_model_module": "@jupyter-widgets/controls",
            "layout": "IPY_MODEL_92aadd3fffaf40b2b842114c0d7c3a64"
          }
        },
        "2543f92151114f53912b206474e80f11": {
          "model_module": "@jupyter-widgets/controls",
          "model_name": "DescriptionStyleModel",
          "model_module_version": "1.5.0",
          "state": {
            "_view_name": "StyleView",
            "_model_name": "DescriptionStyleModel",
            "description_width": "",
            "_view_module": "@jupyter-widgets/base",
            "_model_module_version": "1.5.0",
            "_view_count": null,
            "_view_module_version": "1.2.0",
            "_model_module": "@jupyter-widgets/controls"
          }
        },
        "55f7226610244c8f98e87767aa2b3ddb": {
          "model_module": "@jupyter-widgets/base",
          "model_name": "LayoutModel",
          "model_module_version": "1.2.0",
          "state": {
            "_view_name": "LayoutView",
            "grid_template_rows": null,
            "right": null,
            "justify_content": null,
            "_view_module": "@jupyter-widgets/base",
            "overflow": null,
            "_model_module_version": "1.2.0",
            "_view_count": null,
            "flex_flow": null,
            "width": null,
            "min_width": null,
            "border": null,
            "align_items": null,
            "bottom": null,
            "_model_module": "@jupyter-widgets/base",
            "top": null,
            "grid_column": null,
            "overflow_y": null,
            "overflow_x": null,
            "grid_auto_flow": null,
            "grid_area": null,
            "grid_template_columns": null,
            "flex": null,
            "_model_name": "LayoutModel",
            "justify_items": null,
            "grid_row": null,
            "max_height": null,
            "align_content": null,
            "visibility": null,
            "align_self": null,
            "height": null,
            "min_height": null,
            "padding": null,
            "grid_auto_rows": null,
            "grid_gap": null,
            "max_width": null,
            "order": null,
            "_view_module_version": "1.2.0",
            "grid_template_areas": null,
            "object_position": null,
            "object_fit": null,
            "grid_auto_columns": null,
            "margin": null,
            "display": null,
            "left": null
          }
        },
        "01151a9b0d864ce3bf547002f572a59b": {
          "model_module": "@jupyter-widgets/controls",
          "model_name": "ProgressStyleModel",
          "model_module_version": "1.5.0",
          "state": {
            "_view_name": "StyleView",
            "_model_name": "ProgressStyleModel",
            "description_width": "",
            "_view_module": "@jupyter-widgets/base",
            "_model_module_version": "1.5.0",
            "_view_count": null,
            "_view_module_version": "1.2.0",
            "bar_color": null,
            "_model_module": "@jupyter-widgets/controls"
          }
        },
        "740ef0c0244d4d46ba5bc69520d93c92": {
          "model_module": "@jupyter-widgets/base",
          "model_name": "LayoutModel",
          "model_module_version": "1.2.0",
          "state": {
            "_view_name": "LayoutView",
            "grid_template_rows": null,
            "right": null,
            "justify_content": null,
            "_view_module": "@jupyter-widgets/base",
            "overflow": null,
            "_model_module_version": "1.2.0",
            "_view_count": null,
            "flex_flow": null,
            "width": null,
            "min_width": null,
            "border": null,
            "align_items": null,
            "bottom": null,
            "_model_module": "@jupyter-widgets/base",
            "top": null,
            "grid_column": null,
            "overflow_y": null,
            "overflow_x": null,
            "grid_auto_flow": null,
            "grid_area": null,
            "grid_template_columns": null,
            "flex": null,
            "_model_name": "LayoutModel",
            "justify_items": null,
            "grid_row": null,
            "max_height": null,
            "align_content": null,
            "visibility": null,
            "align_self": null,
            "height": null,
            "min_height": null,
            "padding": null,
            "grid_auto_rows": null,
            "grid_gap": null,
            "max_width": null,
            "order": null,
            "_view_module_version": "1.2.0",
            "grid_template_areas": null,
            "object_position": null,
            "object_fit": null,
            "grid_auto_columns": null,
            "margin": null,
            "display": null,
            "left": null
          }
        },
        "f590d382062c4748b48efb115630d3d0": {
          "model_module": "@jupyter-widgets/controls",
          "model_name": "DescriptionStyleModel",
          "model_module_version": "1.5.0",
          "state": {
            "_view_name": "StyleView",
            "_model_name": "DescriptionStyleModel",
            "description_width": "",
            "_view_module": "@jupyter-widgets/base",
            "_model_module_version": "1.5.0",
            "_view_count": null,
            "_view_module_version": "1.2.0",
            "_model_module": "@jupyter-widgets/controls"
          }
        },
        "92aadd3fffaf40b2b842114c0d7c3a64": {
          "model_module": "@jupyter-widgets/base",
          "model_name": "LayoutModel",
          "model_module_version": "1.2.0",
          "state": {
            "_view_name": "LayoutView",
            "grid_template_rows": null,
            "right": null,
            "justify_content": null,
            "_view_module": "@jupyter-widgets/base",
            "overflow": null,
            "_model_module_version": "1.2.0",
            "_view_count": null,
            "flex_flow": null,
            "width": null,
            "min_width": null,
            "border": null,
            "align_items": null,
            "bottom": null,
            "_model_module": "@jupyter-widgets/base",
            "top": null,
            "grid_column": null,
            "overflow_y": null,
            "overflow_x": null,
            "grid_auto_flow": null,
            "grid_area": null,
            "grid_template_columns": null,
            "flex": null,
            "_model_name": "LayoutModel",
            "justify_items": null,
            "grid_row": null,
            "max_height": null,
            "align_content": null,
            "visibility": null,
            "align_self": null,
            "height": null,
            "min_height": null,
            "padding": null,
            "grid_auto_rows": null,
            "grid_gap": null,
            "max_width": null,
            "order": null,
            "_view_module_version": "1.2.0",
            "grid_template_areas": null,
            "object_position": null,
            "object_fit": null,
            "grid_auto_columns": null,
            "margin": null,
            "display": null,
            "left": null
          }
        },
        "99eb3926669c4b1ba863ee98f622a46c": {
          "model_module": "@jupyter-widgets/controls",
          "model_name": "HBoxModel",
          "model_module_version": "1.5.0",
          "state": {
            "_view_name": "HBoxView",
            "_dom_classes": [],
            "_model_name": "HBoxModel",
            "_view_module": "@jupyter-widgets/controls",
            "_model_module_version": "1.5.0",
            "_view_count": null,
            "_view_module_version": "1.5.0",
            "box_style": "",
            "layout": "IPY_MODEL_597b341230e7467a9a561b1fe6081a66",
            "_model_module": "@jupyter-widgets/controls",
            "children": [
              "IPY_MODEL_75fb143188ae4fa18ac5090f5f55886f",
              "IPY_MODEL_74f977ec13c24922a35d83f461db0576",
              "IPY_MODEL_ee7aad467ea74d41aa36fada423c6e80"
            ]
          }
        },
        "597b341230e7467a9a561b1fe6081a66": {
          "model_module": "@jupyter-widgets/base",
          "model_name": "LayoutModel",
          "model_module_version": "1.2.0",
          "state": {
            "_view_name": "LayoutView",
            "grid_template_rows": null,
            "right": null,
            "justify_content": null,
            "_view_module": "@jupyter-widgets/base",
            "overflow": null,
            "_model_module_version": "1.2.0",
            "_view_count": null,
            "flex_flow": null,
            "width": null,
            "min_width": null,
            "border": null,
            "align_items": null,
            "bottom": null,
            "_model_module": "@jupyter-widgets/base",
            "top": null,
            "grid_column": null,
            "overflow_y": null,
            "overflow_x": null,
            "grid_auto_flow": null,
            "grid_area": null,
            "grid_template_columns": null,
            "flex": null,
            "_model_name": "LayoutModel",
            "justify_items": null,
            "grid_row": null,
            "max_height": null,
            "align_content": null,
            "visibility": null,
            "align_self": null,
            "height": null,
            "min_height": null,
            "padding": null,
            "grid_auto_rows": null,
            "grid_gap": null,
            "max_width": null,
            "order": null,
            "_view_module_version": "1.2.0",
            "grid_template_areas": null,
            "object_position": null,
            "object_fit": null,
            "grid_auto_columns": null,
            "margin": null,
            "display": null,
            "left": null
          }
        },
        "75fb143188ae4fa18ac5090f5f55886f": {
          "model_module": "@jupyter-widgets/controls",
          "model_name": "HTMLModel",
          "model_module_version": "1.5.0",
          "state": {
            "_view_name": "HTMLView",
            "style": "IPY_MODEL_85aa95e72c1e49358df606f7cc14d447",
            "_dom_classes": [],
            "description": "",
            "_model_name": "HTMLModel",
            "placeholder": "​",
            "_view_module": "@jupyter-widgets/controls",
            "_model_module_version": "1.5.0",
            "value": "Downloading: 100%",
            "_view_count": null,
            "_view_module_version": "1.5.0",
            "description_tooltip": null,
            "_model_module": "@jupyter-widgets/controls",
            "layout": "IPY_MODEL_bd753fcb7b9b475d9c5ded6a30791fbf"
          }
        },
        "74f977ec13c24922a35d83f461db0576": {
          "model_module": "@jupyter-widgets/controls",
          "model_name": "FloatProgressModel",
          "model_module_version": "1.5.0",
          "state": {
            "_view_name": "ProgressView",
            "style": "IPY_MODEL_093ce35b4e314bc1988e890901ed7280",
            "_dom_classes": [],
            "description": "",
            "_model_name": "FloatProgressModel",
            "bar_style": "success",
            "max": 267967963,
            "_view_module": "@jupyter-widgets/controls",
            "_model_module_version": "1.5.0",
            "value": 267967963,
            "_view_count": null,
            "_view_module_version": "1.5.0",
            "orientation": "horizontal",
            "min": 0,
            "description_tooltip": null,
            "_model_module": "@jupyter-widgets/controls",
            "layout": "IPY_MODEL_eaa75437cb9a4dcab07e23b1598e24a8"
          }
        },
        "ee7aad467ea74d41aa36fada423c6e80": {
          "model_module": "@jupyter-widgets/controls",
          "model_name": "HTMLModel",
          "model_module_version": "1.5.0",
          "state": {
            "_view_name": "HTMLView",
            "style": "IPY_MODEL_5cbbe8a9cd73438eab0dda62aa6dc859",
            "_dom_classes": [],
            "description": "",
            "_model_name": "HTMLModel",
            "placeholder": "​",
            "_view_module": "@jupyter-widgets/controls",
            "_model_module_version": "1.5.0",
            "value": " 268M/268M [00:08&lt;00:00, 34.0MB/s]",
            "_view_count": null,
            "_view_module_version": "1.5.0",
            "description_tooltip": null,
            "_model_module": "@jupyter-widgets/controls",
            "layout": "IPY_MODEL_ae61ac6a37ae47c98c7b82a236ccec39"
          }
        },
        "85aa95e72c1e49358df606f7cc14d447": {
          "model_module": "@jupyter-widgets/controls",
          "model_name": "DescriptionStyleModel",
          "model_module_version": "1.5.0",
          "state": {
            "_view_name": "StyleView",
            "_model_name": "DescriptionStyleModel",
            "description_width": "",
            "_view_module": "@jupyter-widgets/base",
            "_model_module_version": "1.5.0",
            "_view_count": null,
            "_view_module_version": "1.2.0",
            "_model_module": "@jupyter-widgets/controls"
          }
        },
        "bd753fcb7b9b475d9c5ded6a30791fbf": {
          "model_module": "@jupyter-widgets/base",
          "model_name": "LayoutModel",
          "model_module_version": "1.2.0",
          "state": {
            "_view_name": "LayoutView",
            "grid_template_rows": null,
            "right": null,
            "justify_content": null,
            "_view_module": "@jupyter-widgets/base",
            "overflow": null,
            "_model_module_version": "1.2.0",
            "_view_count": null,
            "flex_flow": null,
            "width": null,
            "min_width": null,
            "border": null,
            "align_items": null,
            "bottom": null,
            "_model_module": "@jupyter-widgets/base",
            "top": null,
            "grid_column": null,
            "overflow_y": null,
            "overflow_x": null,
            "grid_auto_flow": null,
            "grid_area": null,
            "grid_template_columns": null,
            "flex": null,
            "_model_name": "LayoutModel",
            "justify_items": null,
            "grid_row": null,
            "max_height": null,
            "align_content": null,
            "visibility": null,
            "align_self": null,
            "height": null,
            "min_height": null,
            "padding": null,
            "grid_auto_rows": null,
            "grid_gap": null,
            "max_width": null,
            "order": null,
            "_view_module_version": "1.2.0",
            "grid_template_areas": null,
            "object_position": null,
            "object_fit": null,
            "grid_auto_columns": null,
            "margin": null,
            "display": null,
            "left": null
          }
        },
        "093ce35b4e314bc1988e890901ed7280": {
          "model_module": "@jupyter-widgets/controls",
          "model_name": "ProgressStyleModel",
          "model_module_version": "1.5.0",
          "state": {
            "_view_name": "StyleView",
            "_model_name": "ProgressStyleModel",
            "description_width": "",
            "_view_module": "@jupyter-widgets/base",
            "_model_module_version": "1.5.0",
            "_view_count": null,
            "_view_module_version": "1.2.0",
            "bar_color": null,
            "_model_module": "@jupyter-widgets/controls"
          }
        },
        "eaa75437cb9a4dcab07e23b1598e24a8": {
          "model_module": "@jupyter-widgets/base",
          "model_name": "LayoutModel",
          "model_module_version": "1.2.0",
          "state": {
            "_view_name": "LayoutView",
            "grid_template_rows": null,
            "right": null,
            "justify_content": null,
            "_view_module": "@jupyter-widgets/base",
            "overflow": null,
            "_model_module_version": "1.2.0",
            "_view_count": null,
            "flex_flow": null,
            "width": null,
            "min_width": null,
            "border": null,
            "align_items": null,
            "bottom": null,
            "_model_module": "@jupyter-widgets/base",
            "top": null,
            "grid_column": null,
            "overflow_y": null,
            "overflow_x": null,
            "grid_auto_flow": null,
            "grid_area": null,
            "grid_template_columns": null,
            "flex": null,
            "_model_name": "LayoutModel",
            "justify_items": null,
            "grid_row": null,
            "max_height": null,
            "align_content": null,
            "visibility": null,
            "align_self": null,
            "height": null,
            "min_height": null,
            "padding": null,
            "grid_auto_rows": null,
            "grid_gap": null,
            "max_width": null,
            "order": null,
            "_view_module_version": "1.2.0",
            "grid_template_areas": null,
            "object_position": null,
            "object_fit": null,
            "grid_auto_columns": null,
            "margin": null,
            "display": null,
            "left": null
          }
        },
        "5cbbe8a9cd73438eab0dda62aa6dc859": {
          "model_module": "@jupyter-widgets/controls",
          "model_name": "DescriptionStyleModel",
          "model_module_version": "1.5.0",
          "state": {
            "_view_name": "StyleView",
            "_model_name": "DescriptionStyleModel",
            "description_width": "",
            "_view_module": "@jupyter-widgets/base",
            "_model_module_version": "1.5.0",
            "_view_count": null,
            "_view_module_version": "1.2.0",
            "_model_module": "@jupyter-widgets/controls"
          }
        },
        "ae61ac6a37ae47c98c7b82a236ccec39": {
          "model_module": "@jupyter-widgets/base",
          "model_name": "LayoutModel",
          "model_module_version": "1.2.0",
          "state": {
            "_view_name": "LayoutView",
            "grid_template_rows": null,
            "right": null,
            "justify_content": null,
            "_view_module": "@jupyter-widgets/base",
            "overflow": null,
            "_model_module_version": "1.2.0",
            "_view_count": null,
            "flex_flow": null,
            "width": null,
            "min_width": null,
            "border": null,
            "align_items": null,
            "bottom": null,
            "_model_module": "@jupyter-widgets/base",
            "top": null,
            "grid_column": null,
            "overflow_y": null,
            "overflow_x": null,
            "grid_auto_flow": null,
            "grid_area": null,
            "grid_template_columns": null,
            "flex": null,
            "_model_name": "LayoutModel",
            "justify_items": null,
            "grid_row": null,
            "max_height": null,
            "align_content": null,
            "visibility": null,
            "align_self": null,
            "height": null,
            "min_height": null,
            "padding": null,
            "grid_auto_rows": null,
            "grid_gap": null,
            "max_width": null,
            "order": null,
            "_view_module_version": "1.2.0",
            "grid_template_areas": null,
            "object_position": null,
            "object_fit": null,
            "grid_auto_columns": null,
            "margin": null,
            "display": null,
            "left": null
          }
        }
      }
    }
  },
  "cells": [
    {
      "cell_type": "code",
      "metadata": {
        "colab": {
          "base_uri": "https://localhost:8080/"
        },
        "id": "7zpcnsvGtGBm",
        "outputId": "df14d8f7-7c3a-4090-889b-0bfca7b7af8a"
      },
      "source": [
        "!pip install transformers\n",
        "!pip install sentencepiece\n",
        "!pip install datasets"
      ],
      "execution_count": 1,
      "outputs": [
        {
          "output_type": "stream",
          "text": [
            "Requirement already satisfied: transformers in /usr/local/lib/python3.7/dist-packages (4.9.2)\n",
            "Requirement already satisfied: filelock in /usr/local/lib/python3.7/dist-packages (from transformers) (3.0.12)\n",
            "Requirement already satisfied: packaging in /usr/local/lib/python3.7/dist-packages (from transformers) (21.0)\n",
            "Requirement already satisfied: importlib-metadata in /usr/local/lib/python3.7/dist-packages (from transformers) (4.6.3)\n",
            "Requirement already satisfied: regex!=2019.12.17 in /usr/local/lib/python3.7/dist-packages (from transformers) (2019.12.20)\n",
            "Requirement already satisfied: pyyaml>=5.1 in /usr/local/lib/python3.7/dist-packages (from transformers) (5.4.1)\n",
            "Requirement already satisfied: tokenizers<0.11,>=0.10.1 in /usr/local/lib/python3.7/dist-packages (from transformers) (0.10.3)\n",
            "Requirement already satisfied: numpy>=1.17 in /usr/local/lib/python3.7/dist-packages (from transformers) (1.19.5)\n",
            "Requirement already satisfied: huggingface-hub==0.0.12 in /usr/local/lib/python3.7/dist-packages (from transformers) (0.0.12)\n",
            "Requirement already satisfied: requests in /usr/local/lib/python3.7/dist-packages (from transformers) (2.23.0)\n",
            "Requirement already satisfied: tqdm>=4.27 in /usr/local/lib/python3.7/dist-packages (from transformers) (4.62.0)\n",
            "Requirement already satisfied: sacremoses in /usr/local/lib/python3.7/dist-packages (from transformers) (0.0.45)\n",
            "Requirement already satisfied: typing-extensions in /usr/local/lib/python3.7/dist-packages (from huggingface-hub==0.0.12->transformers) (3.7.4.3)\n",
            "Requirement already satisfied: pyparsing>=2.0.2 in /usr/local/lib/python3.7/dist-packages (from packaging->transformers) (2.4.7)\n",
            "Requirement already satisfied: zipp>=0.5 in /usr/local/lib/python3.7/dist-packages (from importlib-metadata->transformers) (3.5.0)\n",
            "Requirement already satisfied: chardet<4,>=3.0.2 in /usr/local/lib/python3.7/dist-packages (from requests->transformers) (3.0.4)\n",
            "Requirement already satisfied: certifi>=2017.4.17 in /usr/local/lib/python3.7/dist-packages (from requests->transformers) (2021.5.30)\n",
            "Requirement already satisfied: idna<3,>=2.5 in /usr/local/lib/python3.7/dist-packages (from requests->transformers) (2.10)\n",
            "Requirement already satisfied: urllib3!=1.25.0,!=1.25.1,<1.26,>=1.21.1 in /usr/local/lib/python3.7/dist-packages (from requests->transformers) (1.24.3)\n",
            "Requirement already satisfied: joblib in /usr/local/lib/python3.7/dist-packages (from sacremoses->transformers) (1.0.1)\n",
            "Requirement already satisfied: six in /usr/local/lib/python3.7/dist-packages (from sacremoses->transformers) (1.15.0)\n",
            "Requirement already satisfied: click in /usr/local/lib/python3.7/dist-packages (from sacremoses->transformers) (7.1.2)\n",
            "Requirement already satisfied: sentencepiece in /usr/local/lib/python3.7/dist-packages (0.1.96)\n",
            "Requirement already satisfied: datasets in /usr/local/lib/python3.7/dist-packages (1.11.0)\n",
            "Requirement already satisfied: dill in /usr/local/lib/python3.7/dist-packages (from datasets) (0.3.4)\n",
            "Requirement already satisfied: tqdm>=4.42 in /usr/local/lib/python3.7/dist-packages (from datasets) (4.62.0)\n",
            "Requirement already satisfied: requests>=2.19.0 in /usr/local/lib/python3.7/dist-packages (from datasets) (2.23.0)\n",
            "Requirement already satisfied: packaging in /usr/local/lib/python3.7/dist-packages (from datasets) (21.0)\n",
            "Requirement already satisfied: pyarrow!=4.0.0,>=1.0.0 in /usr/local/lib/python3.7/dist-packages (from datasets) (3.0.0)\n",
            "Requirement already satisfied: xxhash in /usr/local/lib/python3.7/dist-packages (from datasets) (2.0.2)\n",
            "Requirement already satisfied: importlib-metadata in /usr/local/lib/python3.7/dist-packages (from datasets) (4.6.3)\n",
            "Requirement already satisfied: numpy>=1.17 in /usr/local/lib/python3.7/dist-packages (from datasets) (1.19.5)\n",
            "Requirement already satisfied: huggingface-hub<0.1.0 in /usr/local/lib/python3.7/dist-packages (from datasets) (0.0.12)\n",
            "Requirement already satisfied: fsspec>=2021.05.0 in /usr/local/lib/python3.7/dist-packages (from datasets) (2021.7.0)\n",
            "Requirement already satisfied: pandas in /usr/local/lib/python3.7/dist-packages (from datasets) (1.1.5)\n",
            "Requirement already satisfied: multiprocess in /usr/local/lib/python3.7/dist-packages (from datasets) (0.70.12.2)\n",
            "Requirement already satisfied: typing-extensions in /usr/local/lib/python3.7/dist-packages (from huggingface-hub<0.1.0->datasets) (3.7.4.3)\n",
            "Requirement already satisfied: filelock in /usr/local/lib/python3.7/dist-packages (from huggingface-hub<0.1.0->datasets) (3.0.12)\n",
            "Requirement already satisfied: pyparsing>=2.0.2 in /usr/local/lib/python3.7/dist-packages (from packaging->datasets) (2.4.7)\n",
            "Requirement already satisfied: idna<3,>=2.5 in /usr/local/lib/python3.7/dist-packages (from requests>=2.19.0->datasets) (2.10)\n",
            "Requirement already satisfied: chardet<4,>=3.0.2 in /usr/local/lib/python3.7/dist-packages (from requests>=2.19.0->datasets) (3.0.4)\n",
            "Requirement already satisfied: urllib3!=1.25.0,!=1.25.1,<1.26,>=1.21.1 in /usr/local/lib/python3.7/dist-packages (from requests>=2.19.0->datasets) (1.24.3)\n",
            "Requirement already satisfied: certifi>=2017.4.17 in /usr/local/lib/python3.7/dist-packages (from requests>=2.19.0->datasets) (2021.5.30)\n",
            "Requirement already satisfied: zipp>=0.5 in /usr/local/lib/python3.7/dist-packages (from importlib-metadata->datasets) (3.5.0)\n",
            "Requirement already satisfied: pytz>=2017.2 in /usr/local/lib/python3.7/dist-packages (from pandas->datasets) (2018.9)\n",
            "Requirement already satisfied: python-dateutil>=2.7.3 in /usr/local/lib/python3.7/dist-packages (from pandas->datasets) (2.8.2)\n",
            "Requirement already satisfied: six>=1.5 in /usr/local/lib/python3.7/dist-packages (from python-dateutil>=2.7.3->pandas->datasets) (1.15.0)\n"
          ],
          "name": "stdout"
        }
      ]
    },
    {
      "cell_type": "markdown",
      "metadata": {
        "id": "iwfz9uyl0fQb"
      },
      "source": [
        "## Read the Preprocessed Dataset\n",
        "\n",
        "#### Create one-hot encoding for labels and save separately to a new csv file"
      ]
    },
    {
      "cell_type": "code",
      "metadata": {
        "id": "mDxOpN2Yr-IL"
      },
      "source": [
        "import pandas as pd\n",
        "import numpy as np\n",
        "\n",
        "from sklearn.model_selection import train_test_split\n",
        "from datasets import DatasetDict, load_dataset, load_metric\n",
        "\n",
        "import transformers\n",
        "import torch"
      ],
      "execution_count": 2,
      "outputs": []
    },
    {
      "cell_type": "code",
      "metadata": {
        "id": "ttvOt4QprWFB"
      },
      "source": [
        "# read dataset\n",
        "dataset_df = pd.read_csv('/content/training_dataset.csv')"
      ],
      "execution_count": 3,
      "outputs": []
    },
    {
      "cell_type": "code",
      "metadata": {
        "id": "HCjBt4_dRBU3"
      },
      "source": [
        "# drop column 'term', not required for training\n",
        "dataset_df = dataset_df.drop(['term'], axis=1)"
      ],
      "execution_count": 4,
      "outputs": []
    },
    {
      "cell_type": "code",
      "metadata": {
        "id": "pf0H1vM87wLi"
      },
      "source": [
        "### One-hot encoding labels\n",
        "\n",
        "def label_encoding(row):\n",
        "  if row['label'] == 'non_science': return 1\n",
        "  else: return 0\n",
        "\n",
        "dataset_df['non_science'] = dataset_df.apply(label_encoding, axis=1)\n",
        "\n",
        "###\n",
        "\n",
        "def label_encoding(row):\n",
        "  if row['label'] == 'reagent': return 1\n",
        "  else: return 0\n",
        "\n",
        "dataset_df['reagent'] = dataset_df.apply(label_encoding, axis=1)\n",
        "\n",
        "### \n",
        "\n",
        "def label_encoding(row):\n",
        "  if row['label'] == 'drug': return 1\n",
        "  else: return 0\n",
        "\n",
        "dataset_df['drug'] = dataset_df.apply(label_encoding, axis=1)\n",
        "\n",
        "### \n",
        "\n",
        "def label_encoding(row):\n",
        "  if row['label'] == 'protein': return 1\n",
        "  else: return 0\n",
        "\n",
        "dataset_df['protein'] = dataset_df.apply(label_encoding, axis=1)\n",
        "\n",
        "### \n",
        "\n",
        "def label_encoding(row):\n",
        "  if row['label'] == 'cell': return 1\n",
        "  else: return 0\n",
        "\n",
        "dataset_df['cell'] = dataset_df.apply(label_encoding, axis=1)\n",
        "\n",
        "### \n",
        "\n",
        "def label_encoding(row):\n",
        "  if row['label'] == 'antibiotic': return 1\n",
        "  else: return 0\n",
        "\n",
        "dataset_df['antibiotic'] = dataset_df.apply(label_encoding, axis=1)"
      ],
      "execution_count": 5,
      "outputs": []
    },
    {
      "cell_type": "code",
      "metadata": {
        "id": "OPjT5cRz7wE4"
      },
      "source": [
        "# drop column 'label', do not need anymore\n",
        "dataset_df = dataset_df.drop(['label'], axis=1)"
      ],
      "execution_count": 7,
      "outputs": []
    },
    {
      "cell_type": "code",
      "metadata": {
        "id": "72S9p7a_Twtq"
      },
      "source": [
        "# save created DF to csv\n",
        "dataset_df.to_csv('new_train_dataset.csv', index=False)"
      ],
      "execution_count": 8,
      "outputs": []
    },
    {
      "cell_type": "markdown",
      "metadata": {
        "id": "XzSJZAI1s-pH"
      },
      "source": [
        "### Create a data format suitable for fine-tuning"
      ]
    },
    {
      "cell_type": "code",
      "metadata": {
        "colab": {
          "base_uri": "https://localhost:8080/",
          "height": 90,
          "referenced_widgets": [
            "2ef65ed564ab4bbea380eb800d05b194",
            "0444a46957734570aab0a8c171939fe2",
            "21d460f0a97c4f6aa33074d06956a77e",
            "0acd245c62dd47648801eda30762cc6d",
            "11955b2d706e4607916fd7d3c1d880ff",
            "b2e882f0322045c593a383f023ace036",
            "6b021e7c69da48058f88956c5a437396",
            "9bd2e5db76ce4eac897d223653c28351",
            "7f0477cabaf64131913d0f182f05b6ae",
            "ffe2d48fca5d4715838a00d9bc94b817",
            "d41ddc52f7894284a22fad5202ade5fb"
          ]
        },
        "id": "4lMDNbtSAMoL",
        "outputId": "5a5017ae-530d-4d7f-daa9-67a426743971"
      },
      "source": [
        "# use HF DatasetDict as a data format for fine-tuning\n",
        "dataset = DatasetDict.from_csv('/content/new_train_dataset.csv')"
      ],
      "execution_count": 9,
      "outputs": [
        {
          "output_type": "stream",
          "text": [
            "Using custom data configuration default-15cf5285fb439285\n"
          ],
          "name": "stderr"
        },
        {
          "output_type": "stream",
          "text": [
            "Downloading and preparing dataset csv/default (download: Unknown size, generated: Unknown size, post-processed: Unknown size, total: Unknown size) to /root/.cache/huggingface/datasets/csv/default-15cf5285fb439285/0.0.0...\n"
          ],
          "name": "stdout"
        },
        {
          "output_type": "display_data",
          "data": {
            "application/vnd.jupyter.widget-view+json": {
              "model_id": "2ef65ed564ab4bbea380eb800d05b194",
              "version_minor": 0,
              "version_major": 2
            },
            "text/plain": [
              "0 tables [00:00, ? tables/s]"
            ]
          },
          "metadata": {
            "tags": []
          }
        },
        {
          "output_type": "stream",
          "text": [
            "Dataset csv downloaded and prepared to /root/.cache/huggingface/datasets/csv/default-15cf5285fb439285/0.0.0. Subsequent calls will reuse this data.\n"
          ],
          "name": "stdout"
        }
      ]
    },
    {
      "cell_type": "code",
      "metadata": {
        "id": "pcs-lCMiAXFo"
      },
      "source": [
        "# create a validation subset of a dataset\n",
        "dataset = dataset.train_test_split(test_size=500, shuffle=True)"
      ],
      "execution_count": 10,
      "outputs": []
    },
    {
      "cell_type": "code",
      "metadata": {
        "colab": {
          "base_uri": "https://localhost:8080/"
        },
        "id": "f1L0wZgLBEFb",
        "outputId": "9aa9f663-3852-4050-ec5b-79b9c6648c6a"
      },
      "source": [
        "dataset"
      ],
      "execution_count": 11,
      "outputs": [
        {
          "output_type": "execute_result",
          "data": {
            "text/plain": [
              "DatasetDict({\n",
              "    train: Dataset({\n",
              "        features: ['text', 'non_science', 'reagent', 'drug', 'protein', 'cell', 'antibiotic'],\n",
              "        num_rows: 4500\n",
              "    })\n",
              "    test: Dataset({\n",
              "        features: ['text', 'non_science', 'reagent', 'drug', 'protein', 'cell', 'antibiotic'],\n",
              "        num_rows: 500\n",
              "    })\n",
              "})"
            ]
          },
          "metadata": {
            "tags": []
          },
          "execution_count": 11
        }
      ]
    },
    {
      "cell_type": "code",
      "metadata": {
        "colab": {
          "base_uri": "https://localhost:8080/"
        },
        "id": "zcJCJ2fyvpDi",
        "outputId": "c348a994-f647-43ef-a3e5-f72f25ec878e"
      },
      "source": [
        "# # make sure labes distribution is appropriate\n",
        "# tmp_df = dataset['train'].to_pandas()\n",
        "\n",
        "# # check for class imbalance\n",
        "# tmp_df['label'].value_counts(sort=False)"
      ],
      "execution_count": 34,
      "outputs": [
        {
          "output_type": "execute_result",
          "data": {
            "text/plain": [
              "cell            410\n",
              "reagent         336\n",
              "drug            382\n",
              "antibiotic      457\n",
              "non_science    2403\n",
              "protein         512\n",
              "Name: label, dtype: int64"
            ]
          },
          "metadata": {
            "tags": []
          },
          "execution_count": 34
        }
      ]
    },
    {
      "cell_type": "code",
      "metadata": {
        "colab": {
          "base_uri": "https://localhost:8080/"
        },
        "id": "1f4mkUFTv1LX",
        "outputId": "0473eb19-a9d3-4c11-c626-9ac8643c3f9c"
      },
      "source": [
        "# # make sure labes distribution is appropriate\n",
        "# tmp_df = dataset['test'].to_pandas()\n",
        "\n",
        "# # check for class imbalance\n",
        "# tmp_df['label'].value_counts(sort=False)"
      ],
      "execution_count": 35,
      "outputs": [
        {
          "output_type": "execute_result",
          "data": {
            "text/plain": [
              "cell            39\n",
              "reagent         49\n",
              "antibiotic      58\n",
              "protein         57\n",
              "drug            35\n",
              "non_science    262\n",
              "Name: label, dtype: int64"
            ]
          },
          "metadata": {
            "tags": []
          },
          "execution_count": 35
        }
      ]
    },
    {
      "cell_type": "markdown",
      "metadata": {
        "id": "60Tilfhyxo77"
      },
      "source": [
        "Observation: All labels included in validation dataset with approximatly same frequency."
      ]
    },
    {
      "cell_type": "code",
      "metadata": {
        "colab": {
          "base_uri": "https://localhost:8080/"
        },
        "id": "9AEnIQER8i6d",
        "outputId": "76ff1e5b-ae7b-403a-bc96-c26b86d73a68"
      },
      "source": [
        "# peek one example\n",
        "dataset[\"train\"][0]"
      ],
      "execution_count": 12,
      "outputs": [
        {
          "output_type": "execute_result",
          "data": {
            "text/plain": [
              "{'antibiotic': 0,\n",
              " 'cell': 0,\n",
              " 'drug': 0,\n",
              " 'non_science': 1,\n",
              " 'protein': 0,\n",
              " 'reagent': 0,\n",
              " 'text': 'rybitwy [rɨˈbitfɨ] is a village in the administrative district of gmina połaniec, within staszów county, świętokrzyskie voivodeship, in south-central poland. it lies approximately 3 kilometres (2 mi) south of połaniec, 19 km (12 mi) south-east of staszów, and 70 km (43 mi) south-east of the regional capital kielce.the village has a population of  327.\\n\\n\\n== demography ==\\naccording to the 2002 poland census, there were 310 people residing in rybitwy village, of whom 51.6% were male and 48.4% were female. in the village, the population was spread out, with 24.5% under the age of 18, 37.7% from 18 to 44, 18.7% from 45 to 64, and 18.7% who were 65 years of age or older.\\n\\n \\n\\n\\n== references =='}"
            ]
          },
          "metadata": {
            "tags": []
          },
          "execution_count": 12
        }
      ]
    },
    {
      "cell_type": "code",
      "metadata": {
        "colab": {
          "base_uri": "https://localhost:8080/",
          "height": 258,
          "referenced_widgets": [
            "9eb972cb05c64f3780f761b5cc7a1aac",
            "1d237c4ecdae45b68e8e6a37e1e43159",
            "56eb2c923a7f49dbadab90abc4b68bd6",
            "0caf67967eac40bba400ffda6b83ad9f",
            "2ae9b4b58a384322932b01624a1a530b",
            "afdcb7add8c74f279129ba5266124922",
            "85cd17aa52ab4d92860ed239302c3e56",
            "03ec566a355e47f1a573fac06be0dbd9",
            "263069e77fd14c388d4bc065f27743d1",
            "b8e6f09a55a345d8b3f1e81348003553",
            "3f219f36268e493895f40f6c68c05a9e",
            "07694cd9ce1a43e7a6a06b3ae7100501",
            "6aedede48db0451f8365720c529a7906",
            "e26ec1e8b2ff459e81f646e87ca92e30",
            "7b52d61516b440c7af9292105b0785f2",
            "cb4291ce5d1547e09b85084b094ee50e",
            "5fd1b2436ae643d4bdf5e77170eda5eb",
            "925b5dd33521410bb4a30f57cca2174f",
            "932733874a964319bb7ec48f7fc2dd62",
            "68c6f33e705b4fc4b603b07c8fe323e0",
            "6af83c845d7d4334bf6b561a407de665",
            "8be1e1e3bb2a4f00bc21eeb82fabebb6"
          ]
        },
        "id": "bwEQZHuP8iu5",
        "outputId": "a87bca02-a63f-4e5e-b5a0-53651461372e"
      },
      "source": [
        "# create labels column - one-hot representation of lables\n",
        "cols = dataset[\"train\"].column_names\n",
        "dataset = dataset.map(lambda x : {\"labels\": [x[c] for c in cols if c != \"text\"]})\n",
        "\n",
        "dataset"
      ],
      "execution_count": 13,
      "outputs": [
        {
          "output_type": "display_data",
          "data": {
            "application/vnd.jupyter.widget-view+json": {
              "model_id": "9eb972cb05c64f3780f761b5cc7a1aac",
              "version_minor": 0,
              "version_major": 2
            },
            "text/plain": [
              "  0%|          | 0/4500 [00:00<?, ?ex/s]"
            ]
          },
          "metadata": {
            "tags": []
          }
        },
        {
          "output_type": "display_data",
          "data": {
            "application/vnd.jupyter.widget-view+json": {
              "model_id": "07694cd9ce1a43e7a6a06b3ae7100501",
              "version_minor": 0,
              "version_major": 2
            },
            "text/plain": [
              "  0%|          | 0/500 [00:00<?, ?ex/s]"
            ]
          },
          "metadata": {
            "tags": []
          }
        },
        {
          "output_type": "execute_result",
          "data": {
            "text/plain": [
              "DatasetDict({\n",
              "    train: Dataset({\n",
              "        features: ['text', 'non_science', 'reagent', 'drug', 'protein', 'cell', 'antibiotic', 'labels'],\n",
              "        num_rows: 4500\n",
              "    })\n",
              "    test: Dataset({\n",
              "        features: ['text', 'non_science', 'reagent', 'drug', 'protein', 'cell', 'antibiotic', 'labels'],\n",
              "        num_rows: 500\n",
              "    })\n",
              "})"
            ]
          },
          "metadata": {
            "tags": []
          },
          "execution_count": 13
        }
      ]
    },
    {
      "cell_type": "code",
      "metadata": {
        "colab": {
          "base_uri": "https://localhost:8080/"
        },
        "id": "u7y4CRrb9Fhy",
        "outputId": "e3475704-cd5a-497a-c4f0-ebf96a9e53ca"
      },
      "source": [
        "dataset['test'][0]"
      ],
      "execution_count": 14,
      "outputs": [
        {
          "output_type": "execute_result",
          "data": {
            "text/plain": [
              "{'antibiotic': 1,\n",
              " 'cell': 0,\n",
              " 'drug': 0,\n",
              " 'labels': [0, 0, 0, 0, 0, 1],\n",
              " 'non_science': 0,\n",
              " 'protein': 0,\n",
              " 'reagent': 0,\n",
              " 'text': 'levofloxacin, sold under the brand name levaquin among others, is an antibiotic medication. it is used to treat a number of bacterial infections including acute bacterial sinusitis, pneumonia, h. pylori (in combination with other medications), urinary tract infections, chronic prostatitis, and some types of gastroenteritis. along with other antibiotics it may be used to treat tuberculosis, meningitis, or pelvic inflammatory disease. use is generally recommended only when other options are not available. it is available by mouth, intravenously, and in eye drop form.common side effects include nausea, diarrhea, and trouble sleeping. serious side effects may include tendon rupture, tendon inflammation, seizures, psychosis, and potentially permanent peripheral nerve damage. tendon damage may appear months after treatment is completed. people may also sunburn more easily. in people with myasthenia gravis, muscle weakness and breathing problems may worsen. while use during pregnancy is not recommended, risk appears to be low. the use of other medications in this class appear to be safe while breastfeeding; however, the safety of levofloxacin is unclear. levofloxacin is a broad-spectrum antibiotic of the fluoroquinolone drug class. it usually results in death of the bacteria. it is the left-handed isomer of the medication ofloxacin.levofloxacin was patented in 1985 and approved for medical use in the united states in 1996. it is on the world health organization\\'s list of essential medicines. it is available as a generic medication.  in 2017, it was the 165th most commonly prescribed medication in the united states, with more than three million prescriptions.\\n\\n\\n== medical uses ==\\nlevofloxacin is used to treat infections including: respiratory tract infections, cellulitis, urinary tract infections, prostatitis, anthrax, endocarditis, meningitis, pelvic inflammatory disease, traveler\\'s diarrhea, tuberculosis, and plague and is available by mouth, intravenously, and in eye drop form.as of 2016, the us food and drug administration (fda) recommended that \"serious side effects associated with fluoroquinolone antibacterial drugs generally outweigh the benefits for patients with acute sinusitis, acute bronchitis, and uncomplicated urinary tract infections who have other treatment options. for patients with these conditions, fluoroquinolones should be reserved for those who do not have alternative treatment options.\"levofloxacin is used for the treatment of pneumonia, urinary tract infections, and abdominal infections.  as of 2007 the infectious disease society of america (idsa) and the american thoracic society recommended levofloxacin and other respiratory fluoroquinolines as first line treatment for community acquired pneumonia when co-morbidities such as heart, lung, or liver disease are present or when in-patient treatment is required. levofloxacin also plays an important role in recommended treatment regimens for ventilator-associated and healthcare-associated pneumonia.as of 2010 it was recommended by the idsa as a first-line treatment option for catheter-associated urinary tract infections in adults. in combination with metronidazole it is recommended as one of several first-line treatment options for adult patients with community-acquired intra-abdominal infections of mild-to-moderate severity. the idsa also recommends it in combination with rifampicin as a first-line treatment for prosthetic joint infections. the american urological association recommends levofloxacin as a first-line treatment to prevent bacterial prostatitis when the prostate is biopsied. and as of 2004 it was recommended to treat bacterial prostatitis by the nih research network studying the condition.levofloxacin and other fluoroquinolones have also been widely used for the treatment of uncomplicated community-acquired respiratory and urinary tract infections, indications for which major medical societies generally recommend the use of older, narrower spectrum drugs to avoid fluoroquinolone resistance development. due to its widespread use, common pathogens such as escherichia coli and klebsiella pneumoniae have developed resistance. in many countries as of 2013, resistance rates among healthcare-associated infections with these pathogens exceeded 20%.levofloxacin is also used as antibiotic eye drops to prevent bacterial infection. usage of levofloxacin eye drops, along with an antibiotic injection of cefuroxime or penicillin during cataract surgery, has been found to lower the chance of developing endophthalmitis, compared to eye drops or injections alone.\\n\\n\\n=== pregnancy and breastfeeding ===\\naccording to the fda approved prescribing information, levofloxacin is pregnancy category c. this designation indicates that animal reproduction studies have shown adverse effects on the fetus and there are no adequate and well-controlled studies in humans, but the potential benefit to the mother may in some cases outweigh the risk to the fetus. available data point to a low risk for the unborn child. exposure to quinolones, including levofloxacin, during the first-trimester is not associated with an increased risk of stillbirths, premature births, birth defects, or low birth weight.levofloxacin does penetrate into breastmilk, though the concentration of levofloxacin in the breastfeeding infant is expected to be low. due to potential risks to the baby, the manufacturer does not recommend that nursing mothers take levofloxacin. however, the risk appears to be very low, and levofloxacin can be used in breastfeeding mothers with proper monitoring of the infant, combined with delaying breastfeeding for 4–6 hours after taking levofloxacin.\\n\\n\\n=== children ===\\nlevofloxacin is not approved in most countries for the treatment of children except in unique and life-threatening infections because it is associated with an elevated risk of musculoskeletal injury in this population, a property it shares with other fluoroquinolones.\\nin the united states levofloxacin is approved for the treatment of anthrax and plague in children over six months of age.levofloxacin is recommended by the pediatric infectious disease society and the infectious disease society of america as a first-line treatment for pediatric pneumonia caused by penicillin-resistant streptococcus pneumoniae, and as a second-line agent for the treatment of penicillin-sensitive cases.in one study, 1534 juvenile patients (age 6 months to 16 years) treated with levofloxacin as part of three efficacy trials were followed up to assess all musculoskeletal events occurring up to 12 months post-treatment. at 12 months follow-up the cumulative incidence of musculoskeletal adverse events was 3.4%, compared to 1.8% among 893 patients treated with other antibiotics.  in the levafloxacin-treated group, approximately two-thirds of these musculoskeletal adverse events occurred in the first 60 days, 86% were mild, 17% were moderate, and all resolved without long-term sequelae.\\n\\n\\n=== spectrum of activity ===\\nlevofloxacin and later generation fluoroquinolones are collectively referred to as \"respiratory quinolones\" to distinguish them from earlier fluoroquinolones which exhibited modest activity toward the important respiratory pathogen streptococcus pneumoniae.the drug exhibits enhanced activity against the important respiratory pathogen streptococcus pneumoniae relative to earlier fluoroquinolone derivatives like ciprofloxacin.  for this reason, it is considered a \"respiratory fluoroquinolone\" along with more recently developed fluoroquinolones such as moxifloxacin and gemifloxacin.  it is less active than ciprofloxacin against gram-negative bacteria, especially pseudomonas aeruginosa, and lacks the anti-methicillin-resistant staphylococcus aureus (mrsa) activity of moxifloxacin and gemifloxacin. levofloxacin has shown moderate activity against anaerobes, and is about twice as potent as ofloxacin against mycobacterium tuberculosis and other mycobacteria, including mycobacterium avium complex.its spectrum of activity includes  most strains of bacterial pathogens responsible for respiratory, urinary tract, gastrointestinal, and abdominal infections, including gram negative (escherichia coli, haemophilus influenzae, klebsiella pneumoniae, legionella pneumophila, moraxella catarrhalis, proteus mirabilis, and pseudomonas aeruginosa), gram positive (methicillin-sensitive but not methicillin-resistant staphylococcus aureus, streptococcus pneumoniae, staphylococcus epidermidis, enterococcus faecalis, and streptococcus pyogenes), and atypical bacterial pathogens (chlamydophila pneumoniae and mycoplasma pneumoniae).  compared to earlier antibiotics of the fluoroquinoline class such as ciprofloxacin, levofloxacin exhibits greater activity towards gram-positive bacteria but lesser activity toward gram-negative bacteria, especially pseudomonas aeruginosa.\\n\\n\\n=== resistance ===\\nresistance to fluoroquinolones is common in staphylococcus and pseudomonas. resistance occurs in multiple ways. one mechanism is by an alteration in topoisomerase iv enzyme. a double mutant form of s. pneumoniae gyr a + par c bearing ser-81-->phe and ser-79-->phe mutations were eight to sixteen times less responsive to ciprofloxacin.\\n\\n\\n== contraindications and interactions ==\\npackage inserts mention that levofloxacin is to be avoided in patients with a known hypersensitivity to levofloxacin or other quinolone drugs.like all fluoroquinolines, levofloxacin is contraindicated in patients with epilepsy or other seizure disorders, and in patients who have a history of quinolone-associated tendon rupture.levofloxacin may prolong the qt interval in some people, especially the elderly, and levofloxacin should not be used for people with a family history of long qt syndrome, or who have long qt, chronic low potassium, it should not be prescribed with other drugs that prolong the qt interval.unlike ciprofloxacin, levofloxacin does not appear to deactivate the drug metabolizing enzyme cyp1a2. therefore, drugs that use that enzyme, like theophylline, do not interact with levofloxacin. it is a weak inhibitor of cyp2c9, suggesting potential to block the breakdown of warfarin and phenprocoumon. this can result in more action of drugs like warfarin, leading to more potential side effects, such as bleeding.the use of non-steroidal anti-inflammatory drugs (nsaids) in combination with high dose fluoroquinolone therapy may lead to seizures.when levofloxacin is taken with anti-acids containing magnesium hydroxide or aluminum hydroxide, the two combine to form insoluble salts that are difficult to absorb from the intestines. peak serum concentrations of levofloxacin may be reduced by 90% or more, which can prevent the levofloxacin from working. similar results have been reported when levofloxacin is taken with iron supplements and multi-vitamins containing zinc.a 2011 review examining musculoskeletal complications of fluoroquinolones proposed guidelines with respect to administration to athletes, that called for avoiding all use of fluoroquinolone antibiotics if possible, and if they are used: ensure there is informed consent about the musculoskeletal risks, and inform coaching staff; do not use any corticosteroids if fluoroquinolones are used; consider dietary supplements of magnesium and antioxidants during treatment; reduce training until the course of antibiotic is finished and then carefully increase back to normal; and monitor for six months after the course is finished, and stop all athletic activity if symptoms emerge.\\n\\n\\n== adverse effects ==\\nadverse effects are typically mild to moderate. however, severe, disabling, and potentially irreversible adverse effects sometimes occur, and for this reason use it is recommended that use of fluoroquinolones be limited.\\nprominent among these are adverse effects that became the subject of a black box warning by the fda in 2016. the fda wrote: \"an fda safety review has shown that fluoroquinolones when used systemically (i.e. tablets, capsules, and injectable) are associated with disabling and potentially permanent serious adverse effects that can occur together. these adverse effects can involve the tendons, muscles, joints, nerves, and central nervous system.\" rarely, tendinitis or tendon rupture may occur due to fluoroquinolone antibiotics, including levofloxacin. such injuries, including tendon rupture, has been observed up to 6 months after cessation of treatment; higher doses of fluoroquinolones, being elderly, transplant patients, and those with a current or historical corticosteroid use are at elevated risk. the u.s. label for levofloxacin also contains a black box warning for the exacerbation of the symptoms of the neurological disease myasthenia gravis. similarly, the uk medicines and healthcare products regulatory agency recommendations warn of rare but disabling and potentially irreversible adverse effects, and to recommend limiting use of these drugs. increasing age and corticosteroid use appears to increase the risk of musculoskeletal complications.a wide variety of other uncommon but serious adverse events have been associated with fluoroquinolone use, with varying degrees of evidence supporting causation. these include anaphylaxis, hepatotoxicity, central nervous system effects including seizures and psychiatric effects, prolongation of the qt interval, blood glucose disturbances, and photosensitivity, among others.  levofloxacin may produce fewer of these rare serious adverse effects than other fluoroquinolones.there is some disagreement in the medical literature regarding whether and to what extent levofloxacin and other fluoroquinolones produce serious adverse effects more frequently than other broad spectrum antibacterial drugs.with regard to more usual adverse effects, in pooled results from 7537 patients exposed to levofloxacin in 29 clinical trials, 4.3% discontinued treatment due to adverse drug reactions.  the most common adverse reactions leading to discontinuation were gastrointestinal, including nausea, vomiting, and constipation. overall, 7% of patients experienced nausea, 6% headache, 5% diarrhea, 4% insomnia, along with other adverse reactions experienced at lower rates.administration of levofloxacin or other broad spectrum antibiotics is associated with clostridium difficile associated diarrhea which may range in severity from mild diarrhea to fatal colitis. fluoroquinoline administration may be associated with the acquisition and outgrowth of a particularly virulent clostridium strain.more research is needed to determine the best dose and length of treatment.\\n\\n\\n== overdose ==\\noverdosing experiments in animals showed loss of body control and drooping, difficulty breathing, tremors, and convulsions. doses in excess of 1500 mg/kg orally and 250 mg/kg iv produced significant mortality in rodents.in the event of an acute overdosage, authorities recommend unspecific standard procedures such as emptying the stomach, observing the patient and maintaining appropriate hydration. levofloxacin is not efficiently removed by hemodialysis or peritoneal dialysis.\\n\\n\\n== pharmacology ==\\n\\n\\n=== mechanism of action ===\\nlevofloxacin is a broad-spectrum antibiotic that is active against both gram-positive and gram-negative bacteria. like all quinolones, it functions by inhibiting the dna gyrase and topoisomerase iv, two bacterial type ii topoisomerases. topoisomerase iv is necessary to separate dna that has been replicated (doubled) prior to bacterial cell division. with the dna not being separated, the process is stopped, and the bacterium cannot divide. dna gyrase, on the other hand, is responsible for supercoiling the dna, so that it will fit in the newly formed cells. both mechanisms amount to killing the bacterium. levofloxacin acts as a bactericide.as of 2011, the mechanism of action for the drug\\'s musculoskeletal complications were not clear.\\n\\n\\n=== pharmacokinetics ===\\nlevofloxacin is rapidly and essentially completely absorbed after oral administration, with a plasma concentration profile over time that is essentially identical to that obtained from intravenous administration of the same amount over 60 minutes.  as such, the intravenous and oral formulations of levofloxacin are considered interchangeable. levofloxacin\\'s ability to bind to proteins in the body ranges from 24-38%.the drug undergoes widespread distribution into body tissues.  peak levels in skin are achieved 3 hours after administration and exceed those in plasma by a factor of 2. similarly, lung tissue concentrations range from two-fold to five-fold higher than plasma concentrations in the 24 hours after a single dose.\\nthe mean terminal plasma elimination half-life of levofloxacin ranges from approximately 6 to 8 hours following single or multiple doses of levofloxacin given orally or intravenously. elimination occurs mainly via excretion of unmetabolized drug in the urine.  following oral administration, 87% of an administered dose was recovered in the urine as unchanged drug within 2 days.  less than 5% was recovered in the urine as the desmethyl and n-oxide metabolites, the only metabolites identified in humans.\\n\\n\\n== chemistry ==\\nlevofloxacin is the levo isomer of the racemate ofloxacin, another quinolone antimicrobial agent. levofloxacin, a chiral fluorinated carboxyquinolone, is the pure (−)-(s)-enantiomer of the racemic ofloxacin. distinct functional groups on this molecules include a hydroxyl group, carbonyl group, and an aromatic ring.levofloxacin is the s-enantiomer and it binds more effectively to the dna gyrase enzyme and topoisomerase iv than its counterpart.the substance is used as the hemihydrate, which has the empirical formula c18h20fn3o4 · ½ h2o and a molecular mass of 370.38 g/mol. levofloxacin is a light-yellowish-white to yellow-white crystal or crystalline powder. a major issue in the synthesis of levofloxacin is identifying correct entries into the benzoxazine core in order to produce the correct chiral form.\\n\\n\\n== history ==\\nlevofloxacin is a third-generation fluoroquinolone, being one of the isomers of ofloxacin, which was a broader-spectrum conformationally locked analog of norfloxacin; both ofloxacin and levofloxaxin were synthesized and developed by scientists at daiichi seiyaku. the daiichi scientists knew that ofloxacin was racemic, but tried unsuccessfully to separate the two isomers; in 1985 they succeeded in separately synthesizing the pure levo form and showed that it was less toxic and more potent than the other form.it was first approved for marketing in japan in 1993, for oral administration, and daiichi marketed it there under the brand name cravit.  daiichi, working with johnson & johnson as it had with ofloxacin, obtained fda approval in 1996 under the brand name levaquin to treat bacterial sinusitus, bacterial exacerbations of bronchitis, community-acquired pneumonia, uncomplicated skin infections, complicated urinary tract infections, and acute pyelonephritis.levofloxacin is marketed by sanofi-aventis under a license agreement signed with daiichi in 1993, under the brand name \"tavanic\".levofloxacin had reached blockbuster status by this time; combined worldwide sales of levofloxacin and ofloxacin for j&j alone were us$1.6 billion in 2009.the term of the levofloxacin united states patent was extended by the u.s. patent and trademark office 810 days under the provisions of the hatch waxman amendment so that the patent would expire in 2010 instead of 2008.  this extension was challenged by generic drug manufacturer lupin pharmaceuticals, which did not challenge the validity of the patent, but only the validity of the patent extension, arguing that the patent did not cover a \"product\" and so hatch-waxman was not available for extensions. the federal patent court ruled in favor of j&j and daiichi, and generic versions of levofloxacin did not enter the u.s. market until 2009.\\n\\n\\n== society and culture ==\\n\\n\\n=== availability ===\\n\\nlevofloxacin is available in tablet form, injection, and oral solution.\\n\\n\\n=== usage ===\\nthe fda estimated that in 2011, over 23 million outpatient prescriptions for fluoroquinolones, of which levofloxacin made up 28%, were filled in the united states.\\n\\n\\n=== litigation ===\\nas of 2012, johnson and johnson was facing around 3400 state and federal lawsuits filed by people who claimed tendon damage from levofloxacin; about 1900 pending in a class action at the united states district court in minnesota  and about 1500 pending at a district court in new jersey.in october 2012, j&j settled 845 cases in the minnesota action,  after johnson and johnson prevailed in three of the first four cases to go to trial.  by may 2014, all but 363 cases had been settled or adjudicated.\\n\\n\\n== references ==\\n\\n\\n== external links ==\\n\"levofloxacin\". drug information portal. u.s. national library of medicine.\\nlevofloxacin at curlie'}"
            ]
          },
          "metadata": {
            "tags": []
          },
          "execution_count": 14
        }
      ]
    },
    {
      "cell_type": "markdown",
      "metadata": {
        "id": "AXuvaSRY4UVB"
      },
      "source": [
        "## Fine-Tuning a model for multi-label classification\n",
        "\n",
        "\n",
        "Using HF library and pre-trained models for contextual representation from HF library (taking into account that model has a version with a classification head.)"
      ]
    },
    {
      "cell_type": "code",
      "metadata": {
        "id": "gA-upQq04r4F"
      },
      "source": [
        "# define model name to use and batch size\n",
        "model_checkpoint = \"distilbert-base-uncased\"\n",
        "batch_size = 4"
      ],
      "execution_count": 15,
      "outputs": []
    },
    {
      "cell_type": "code",
      "metadata": {
        "id": "IEGTsBSnIav_"
      },
      "source": [
        "# use accuracy as a metric for evaluation on the validation set\n",
        "metric = load_metric('accuracy')"
      ],
      "execution_count": 16,
      "outputs": []
    },
    {
      "cell_type": "markdown",
      "metadata": {
        "id": "_DCRcfbc6DE9"
      },
      "source": [
        "## Tokenize data"
      ]
    },
    {
      "cell_type": "markdown",
      "metadata": {
        "id": "0jf62ib_6Fxz"
      },
      "source": [
        "Preprocess texts first before feeding to a model. \n",
        "- tokenize the inputs (~ converting the tokens to their corresponding IDs in the pretrained vocabulary) and put it in a format the model expects, as well as generate the other inputs that model requires."
      ]
    },
    {
      "cell_type": "code",
      "metadata": {
        "id": "oGg4EE-14aFk"
      },
      "source": [
        "from transformers import AutoTokenizer\n",
        "    \n",
        "tokenizer = AutoTokenizer.from_pretrained(model_checkpoint, use_fast=True)"
      ],
      "execution_count": 17,
      "outputs": []
    },
    {
      "cell_type": "code",
      "metadata": {
        "id": "9U0Rb-cUEGOI"
      },
      "source": [
        "def preprocess_tokenize(examples):\n",
        "    \"\"\"\n",
        "    For HF DatasetDict\n",
        "    \"\"\"\n",
        "    \n",
        "    return tokenizer(examples['text'], truncation=True, padding=True, max_length=512)"
      ],
      "execution_count": 18,
      "outputs": []
    },
    {
      "cell_type": "markdown",
      "metadata": {
        "id": "4M_CSRDfErbY"
      },
      "source": [
        "Apply this function on all the sentences (or pairs of sentences) in our dataset, by using map method."
      ]
    },
    {
      "cell_type": "code",
      "metadata": {
        "colab": {
          "base_uri": "https://localhost:8080/"
        },
        "id": "XNp9D0EH9r36",
        "outputId": "99c033d4-6506-4847-ff05-d7f8d94516f6"
      },
      "source": [
        "# remove cols NOT necessary for training\n",
        "cols = dataset[\"train\"].column_names\n",
        "cols.remove(\"labels\")\n",
        "\n",
        "cols"
      ],
      "execution_count": 19,
      "outputs": [
        {
          "output_type": "execute_result",
          "data": {
            "text/plain": [
              "['text', 'non_science', 'reagent', 'drug', 'protein', 'cell', 'antibiotic']"
            ]
          },
          "metadata": {
            "tags": []
          },
          "execution_count": 19
        }
      ]
    },
    {
      "cell_type": "code",
      "metadata": {
        "colab": {
          "base_uri": "https://localhost:8080/",
          "height": 81,
          "referenced_widgets": [
            "623a4331145d41de94921fb35e6f32d1",
            "fd4ccb768e144c3db5adec9d779abc5c",
            "82f618a0b8b64504a58c1bbf17f6c3ff",
            "e0221712f1e84b79bca9f34fce290dbf",
            "b37121e292fe4090b1f5f3d29c20de09",
            "60b13f7fdb5540c2b1a8361fe91c8df8",
            "aa6a9eba88c74892989fa5177f427f6b",
            "c01298d544b14f9d90beadf0846921b4",
            "d1e54e9ded4c4efa8d073f2a7c8ea685",
            "70bf2e617a074f3da1b0f70f90a6bd7f",
            "be107f9954e14922a9f25677fd84971c",
            "8cb0079190684e12bcece5cfdf9dd3e6",
            "1292fcc675b647e095cfcdaccc358677",
            "dd684429ab2f417791568a82170d5aeb",
            "93066675ad3d4c939f4f6c302d1c4c42",
            "57d8c076e86c4322a66b92979ca1bce6",
            "2543f92151114f53912b206474e80f11",
            "55f7226610244c8f98e87767aa2b3ddb",
            "01151a9b0d864ce3bf547002f572a59b",
            "740ef0c0244d4d46ba5bc69520d93c92",
            "f590d382062c4748b48efb115630d3d0",
            "92aadd3fffaf40b2b842114c0d7c3a64"
          ]
        },
        "id": "6RpQxnzP7IGT",
        "outputId": "f83338b6-cc1d-430a-e2c6-2b575f9615ff"
      },
      "source": [
        "encoded_dataset = dataset.map(preprocess_tokenize, batched=True, remove_columns=cols)"
      ],
      "execution_count": 20,
      "outputs": [
        {
          "output_type": "display_data",
          "data": {
            "application/vnd.jupyter.widget-view+json": {
              "model_id": "623a4331145d41de94921fb35e6f32d1",
              "version_minor": 0,
              "version_major": 2
            },
            "text/plain": [
              "  0%|          | 0/5 [00:00<?, ?ba/s]"
            ]
          },
          "metadata": {
            "tags": []
          }
        },
        {
          "output_type": "display_data",
          "data": {
            "application/vnd.jupyter.widget-view+json": {
              "model_id": "8cb0079190684e12bcece5cfdf9dd3e6",
              "version_minor": 0,
              "version_major": 2
            },
            "text/plain": [
              "  0%|          | 0/1 [00:00<?, ?ba/s]"
            ]
          },
          "metadata": {
            "tags": []
          }
        }
      ]
    },
    {
      "cell_type": "code",
      "metadata": {
        "colab": {
          "base_uri": "https://localhost:8080/"
        },
        "id": "xj8rvBOPM0YM",
        "outputId": "58da41c3-4313-4e40-9fd3-acb56692b3b6"
      },
      "source": [
        "# data format for training\n",
        "encoded_dataset"
      ],
      "execution_count": 21,
      "outputs": [
        {
          "output_type": "execute_result",
          "data": {
            "text/plain": [
              "DatasetDict({\n",
              "    train: Dataset({\n",
              "        features: ['attention_mask', 'input_ids', 'labels'],\n",
              "        num_rows: 4500\n",
              "    })\n",
              "    test: Dataset({\n",
              "        features: ['attention_mask', 'input_ids', 'labels'],\n",
              "        num_rows: 500\n",
              "    })\n",
              "})"
            ]
          },
          "metadata": {
            "tags": []
          },
          "execution_count": 21
        }
      ]
    },
    {
      "cell_type": "markdown",
      "metadata": {
        "id": "ayQfKhGgExvn"
      },
      "source": [
        "## Fine-Tuning Model"
      ]
    },
    {
      "cell_type": "code",
      "metadata": {
        "colab": {
          "base_uri": "https://localhost:8080/",
          "height": 157,
          "referenced_widgets": [
            "99eb3926669c4b1ba863ee98f622a46c",
            "597b341230e7467a9a561b1fe6081a66",
            "75fb143188ae4fa18ac5090f5f55886f",
            "74f977ec13c24922a35d83f461db0576",
            "ee7aad467ea74d41aa36fada423c6e80",
            "85aa95e72c1e49358df606f7cc14d447",
            "bd753fcb7b9b475d9c5ded6a30791fbf",
            "093ce35b4e314bc1988e890901ed7280",
            "eaa75437cb9a4dcab07e23b1598e24a8",
            "5cbbe8a9cd73438eab0dda62aa6dc859",
            "ae61ac6a37ae47c98c7b82a236ccec39"
          ]
        },
        "id": "ALppVIFi7IAQ",
        "outputId": "9b8973ac-78be-481f-c497-5a4d4d4fa696"
      },
      "source": [
        "from transformers import AutoModelForSequenceClassification, TrainingArguments, Trainer\n",
        "\n",
        "# num of target labels\n",
        "num_labels = 6\n",
        "model = AutoModelForSequenceClassification.from_pretrained(model_checkpoint, num_labels=num_labels)"
      ],
      "execution_count": 25,
      "outputs": [
        {
          "output_type": "display_data",
          "data": {
            "application/vnd.jupyter.widget-view+json": {
              "model_id": "99eb3926669c4b1ba863ee98f622a46c",
              "version_minor": 0,
              "version_major": 2
            },
            "text/plain": [
              "Downloading:   0%|          | 0.00/268M [00:00<?, ?B/s]"
            ]
          },
          "metadata": {
            "tags": []
          }
        },
        {
          "output_type": "stream",
          "text": [
            "Some weights of the model checkpoint at distilbert-base-uncased were not used when initializing DistilBertForSequenceClassification: ['vocab_layer_norm.weight', 'vocab_projector.weight', 'vocab_transform.weight', 'vocab_projector.bias', 'vocab_layer_norm.bias', 'vocab_transform.bias']\n",
            "- This IS expected if you are initializing DistilBertForSequenceClassification from the checkpoint of a model trained on another task or with another architecture (e.g. initializing a BertForSequenceClassification model from a BertForPreTraining model).\n",
            "- This IS NOT expected if you are initializing DistilBertForSequenceClassification from the checkpoint of a model that you expect to be exactly identical (initializing a BertForSequenceClassification model from a BertForSequenceClassification model).\n",
            "Some weights of DistilBertForSequenceClassification were not initialized from the model checkpoint at distilbert-base-uncased and are newly initialized: ['pre_classifier.weight', 'classifier.bias', 'classifier.weight', 'pre_classifier.bias']\n",
            "You should probably TRAIN this model on a down-stream task to be able to use it for predictions and inference.\n"
          ],
          "name": "stderr"
        }
      ]
    },
    {
      "cell_type": "code",
      "metadata": {
        "id": "77TJoCyZ7H51",
        "colab": {
          "base_uri": "https://localhost:8080/"
        },
        "outputId": "c311361a-875c-4c84-cff5-84b85d1a7a65"
      },
      "source": [
        "# standard hyperparams as reported in HF\n",
        "\n",
        "args = TrainingArguments(\n",
        "    output_dir = \"/content/labtwin_experiments/\",\n",
        "    evaluation_strategy = \"epoch\",\n",
        "    save_strategy = \"no\",\n",
        "    learning_rate=2e-5,\n",
        "    per_device_train_batch_size=batch_size,\n",
        "    per_device_eval_batch_size=batch_size,\n",
        "    gradient_accumulation_steps=2,\n",
        "    num_train_epochs=5,\n",
        "    weight_decay=0.01\n",
        ")\n"
      ],
      "execution_count": 38,
      "outputs": [
        {
          "output_type": "stream",
          "text": [
            "PyTorch: setting up devices\n",
            "The default value for the training argument `--report_to` will change in v5 (from all installed integrations to none). In v5, you will need to use `--report_to all` to get the same behavior as now. You should start updating your code and make this info disappear :-).\n"
          ],
          "name": "stderr"
        }
      ]
    },
    {
      "cell_type": "markdown",
      "metadata": {
        "id": "oxwMgahWzsnM"
      },
      "source": [
        "### Customize Trainer using a custom loss function for multi-label classification:\n",
        "\n",
        "Source: https://huggingface.co/transformers/main_classes/trainer.html"
      ]
    },
    {
      "cell_type": "code",
      "metadata": {
        "id": "WjBywbsUAoNw"
      },
      "source": [
        "class MultilabelTrainer(Trainer):\n",
        "    def compute_loss(self, model, inputs, return_outputs=False):\n",
        "        labels = inputs.pop(\"labels\")\n",
        "        outputs = model(**inputs)\n",
        "        logits = outputs.logits\n",
        "        loss_fct = torch.nn.BCEWithLogitsLoss()\n",
        "        loss = loss_fct(logits.view(-1, self.model.config.num_labels), \n",
        "                        labels.float().view(-1, self.model.config.num_labels))\n",
        "        return (loss, outputs) if return_outputs else loss"
      ],
      "execution_count": 39,
      "outputs": []
    },
    {
      "cell_type": "code",
      "metadata": {
        "id": "omiK359HAoGY"
      },
      "source": [
        "# define a compute_metrics function to perform evaluation\n",
        "\n",
        "def accuracy_thresh(y_pred, y_true, thresh=0.5, sigmoid=True): \n",
        "    y_pred = torch.from_numpy(y_pred)\n",
        "    y_true = torch.from_numpy(y_true)\n",
        "    if sigmoid: \n",
        "      y_pred = y_pred.sigmoid()\n",
        "    return ((y_pred>thresh)==y_true.bool()).float().mean().item()\n",
        "\n",
        "def compute_metrics(eval_pred):\n",
        "    predictions, labels = eval_pred\n",
        "    return {'accuracy_thresh': accuracy_thresh(predictions, labels)}"
      ],
      "execution_count": 40,
      "outputs": []
    },
    {
      "cell_type": "code",
      "metadata": {
        "id": "18YF6WFtBBkl"
      },
      "source": [
        "# init a Trainer\n",
        "\n",
        "multi_trainer = MultilabelTrainer(\n",
        "    model,\n",
        "    args,\n",
        "    train_dataset=encoded_dataset[\"train\"],\n",
        "    eval_dataset=encoded_dataset[\"test\"],\n",
        "    compute_metrics=compute_metrics,\n",
        "    tokenizer=tokenizer)"
      ],
      "execution_count": 41,
      "outputs": []
    },
    {
      "cell_type": "code",
      "metadata": {
        "colab": {
          "base_uri": "https://localhost:8080/",
          "height": 178
        },
        "id": "eKGvSY1_BBJ8",
        "outputId": "07273a83-9d1d-411d-9bfd-e2b0b763f4ea"
      },
      "source": [
        "# \"plain\" (without training performance)\n",
        "\n",
        "multi_trainer.evaluate()"
      ],
      "execution_count": 42,
      "outputs": [
        {
          "output_type": "stream",
          "text": [
            "***** Running Evaluation *****\n",
            "  Num examples = 500\n",
            "  Batch size = 4\n"
          ],
          "name": "stderr"
        },
        {
          "output_type": "display_data",
          "data": {
            "text/html": [
              "\n",
              "    <div>\n",
              "      \n",
              "      <progress value='125' max='125' style='width:300px; height:20px; vertical-align: middle;'></progress>\n",
              "      [125/125 00:16]\n",
              "    </div>\n",
              "    "
            ],
            "text/plain": [
              "<IPython.core.display.HTML object>"
            ]
          },
          "metadata": {
            "tags": []
          }
        },
        {
          "output_type": "execute_result",
          "data": {
            "text/plain": [
              "{'eval_accuracy_thresh': 0.9649999737739563,\n",
              " 'eval_loss': 0.12263728678226471,\n",
              " 'eval_runtime': 16.6036,\n",
              " 'eval_samples_per_second': 30.114,\n",
              " 'eval_steps_per_second': 7.528}"
            ]
          },
          "metadata": {
            "tags": []
          },
          "execution_count": 42
        }
      ]
    },
    {
      "cell_type": "code",
      "metadata": {
        "colab": {
          "base_uri": "https://localhost:8080/",
          "height": 765
        },
        "id": "viImrfvjBBDe",
        "outputId": "b6626cec-7558-4076-c653-4cbff04a97b8"
      },
      "source": [
        "# train the model\n",
        "\n",
        "multi_trainer.train()"
      ],
      "execution_count": 43,
      "outputs": [
        {
          "output_type": "stream",
          "text": [
            "***** Running training *****\n",
            "  Num examples = 4500\n",
            "  Num Epochs = 5\n",
            "  Instantaneous batch size per device = 4\n",
            "  Total train batch size (w. parallel, distributed & accumulation) = 8\n",
            "  Gradient Accumulation steps = 2\n",
            "  Total optimization steps = 2810\n"
          ],
          "name": "stderr"
        },
        {
          "output_type": "display_data",
          "data": {
            "text/html": [
              "\n",
              "    <div>\n",
              "      \n",
              "      <progress value='2810' max='2810' style='width:300px; height:20px; vertical-align: middle;'></progress>\n",
              "      [2810/2810 38:25, Epoch 4/5]\n",
              "    </div>\n",
              "    <table border=\"1\" class=\"dataframe\">\n",
              "  <thead>\n",
              "    <tr style=\"text-align: left;\">\n",
              "      <th>Epoch</th>\n",
              "      <th>Training Loss</th>\n",
              "      <th>Validation Loss</th>\n",
              "      <th>Accuracy Thresh</th>\n",
              "    </tr>\n",
              "  </thead>\n",
              "  <tbody>\n",
              "    <tr>\n",
              "      <td>0</td>\n",
              "      <td>0.107300</td>\n",
              "      <td>0.104888</td>\n",
              "      <td>0.968000</td>\n",
              "    </tr>\n",
              "    <tr>\n",
              "      <td>1</td>\n",
              "      <td>0.080100</td>\n",
              "      <td>0.107024</td>\n",
              "      <td>0.969000</td>\n",
              "    </tr>\n",
              "    <tr>\n",
              "      <td>2</td>\n",
              "      <td>0.061100</td>\n",
              "      <td>0.105239</td>\n",
              "      <td>0.968667</td>\n",
              "    </tr>\n",
              "    <tr>\n",
              "      <td>3</td>\n",
              "      <td>0.046800</td>\n",
              "      <td>0.114186</td>\n",
              "      <td>0.967333</td>\n",
              "    </tr>\n",
              "    <tr>\n",
              "      <td>4</td>\n",
              "      <td>0.035300</td>\n",
              "      <td>0.113282</td>\n",
              "      <td>0.968333</td>\n",
              "    </tr>\n",
              "  </tbody>\n",
              "</table><p>"
            ],
            "text/plain": [
              "<IPython.core.display.HTML object>"
            ]
          },
          "metadata": {
            "tags": []
          }
        },
        {
          "output_type": "stream",
          "text": [
            "***** Running Evaluation *****\n",
            "  Num examples = 500\n",
            "  Batch size = 4\n"
          ],
          "name": "stderr"
        },
        {
          "output_type": "display_data",
          "data": {
            "text/html": [
              "\n",
              "    <div>\n",
              "      \n",
              "      <progress value='250' max='125' style='width:300px; height:20px; vertical-align: middle;'></progress>\n",
              "      [125/125 08:29]\n",
              "    </div>\n",
              "    "
            ],
            "text/plain": [
              "<IPython.core.display.HTML object>"
            ]
          },
          "metadata": {
            "tags": []
          }
        },
        {
          "output_type": "stream",
          "text": [
            "***** Running Evaluation *****\n",
            "  Num examples = 500\n",
            "  Batch size = 4\n",
            "***** Running Evaluation *****\n",
            "  Num examples = 500\n",
            "  Batch size = 4\n",
            "***** Running Evaluation *****\n",
            "  Num examples = 500\n",
            "  Batch size = 4\n",
            "***** Running Evaluation *****\n",
            "  Num examples = 500\n",
            "  Batch size = 4\n",
            "\n",
            "\n",
            "Training completed. Do not forget to share your model on huggingface.co/models =)\n",
            "\n",
            "\n"
          ],
          "name": "stderr"
        },
        {
          "output_type": "execute_result",
          "data": {
            "text/plain": [
              "TrainOutput(global_step=2810, training_loss=0.06179466994207525, metrics={'train_runtime': 2306.2596, 'train_samples_per_second': 9.756, 'train_steps_per_second': 1.218, 'total_flos': 2980199175487488.0, 'train_loss': 0.06179466994207525, 'epoch': 5.0})"
            ]
          },
          "metadata": {
            "tags": []
          },
          "execution_count": 43
        }
      ]
    },
    {
      "cell_type": "code",
      "metadata": {
        "id": "cw2uQDuFBA4U"
      },
      "source": [
        ""
      ],
      "execution_count": null,
      "outputs": []
    },
    {
      "cell_type": "code",
      "metadata": {
        "colab": {
          "base_uri": "https://localhost:8080/"
        },
        "id": "Zg8gYhFtBAxh",
        "outputId": "c09a0492-13d5-40cd-c3d2-ea39ba06c976"
      },
      "source": [
        "# save the model\n",
        "multi_trainer.save_model('/content/experiment_1/model_trained')"
      ],
      "execution_count": 44,
      "outputs": [
        {
          "output_type": "stream",
          "text": [
            "Saving model checkpoint to /content/experiment_1/model_trained\n",
            "Configuration saved in /content/experiment_1/model_trained/config.json\n",
            "Model weights saved in /content/experiment_1/model_trained/pytorch_model.bin\n",
            "tokenizer config file saved in /content/experiment_1/model_trained/tokenizer_config.json\n",
            "Special tokens file saved in /content/experiment_1/model_trained/special_tokens_map.json\n"
          ],
          "name": "stderr"
        }
      ]
    },
    {
      "cell_type": "code",
      "metadata": {
        "colab": {
          "base_uri": "https://localhost:8080/"
        },
        "id": "PPU7n5tJCDvd",
        "outputId": "b56a2468-37ed-4db3-a6a3-02b150559c70"
      },
      "source": [
        "# save model to google disc\n",
        "from google.colab import drive\n",
        "drive.mount('/content/drive')"
      ],
      "execution_count": 45,
      "outputs": [
        {
          "output_type": "stream",
          "text": [
            "Mounted at /content/drive\n"
          ],
          "name": "stdout"
        }
      ]
    },
    {
      "cell_type": "code",
      "metadata": {
        "colab": {
          "base_uri": "https://localhost:8080/"
        },
        "id": "nTTeux6sCDnJ",
        "outputId": "97d00503-be79-4efe-ab6e-9b0306b3f3b2"
      },
      "source": [
        "# save the model\n",
        "multi_trainer.save_model('/content/drive/MyDrive/labtwin-test/multi_model_trained')"
      ],
      "execution_count": 46,
      "outputs": [
        {
          "output_type": "stream",
          "text": [
            "Saving model checkpoint to /content/drive/MyDrive/labtwin-test/multi_model_trained\n",
            "Configuration saved in /content/drive/MyDrive/labtwin-test/multi_model_trained/config.json\n",
            "Model weights saved in /content/drive/MyDrive/labtwin-test/multi_model_trained/pytorch_model.bin\n",
            "tokenizer config file saved in /content/drive/MyDrive/labtwin-test/multi_model_trained/tokenizer_config.json\n",
            "Special tokens file saved in /content/drive/MyDrive/labtwin-test/multi_model_trained/special_tokens_map.json\n"
          ],
          "name": "stderr"
        }
      ]
    },
    {
      "cell_type": "code",
      "metadata": {
        "id": "AgHIn-aACemB"
      },
      "source": [
        ""
      ],
      "execution_count": null,
      "outputs": []
    },
    {
      "cell_type": "code",
      "metadata": {
        "id": "_tECMNIJCeVI"
      },
      "source": [
        ""
      ],
      "execution_count": null,
      "outputs": []
    }
  ]
}